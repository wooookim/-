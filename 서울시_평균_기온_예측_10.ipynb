{
  "nbformat": 4,
  "nbformat_minor": 0,
  "metadata": {
    "colab": {
      "provenance": [],
      "authorship_tag": "ABX9TyPLOUdlH0Es4WFYDfSZsKC1",
      "include_colab_link": true
    },
    "kernelspec": {
      "name": "python3",
      "display_name": "Python 3"
    },
    "language_info": {
      "name": "python"
    }
  },
  "cells": [
    {
      "cell_type": "markdown",
      "metadata": {
        "id": "view-in-github",
        "colab_type": "text"
      },
      "source": [
        "<a href=\"https://colab.research.google.com/github/wooookim/ML-DL/blob/main/%EC%84%9C%EC%9A%B8%EC%8B%9C_%ED%8F%89%EA%B7%A0_%EA%B8%B0%EC%98%A8_%EC%98%88%EC%B8%A1_10.ipynb\" target=\"_parent\"><img src=\"https://colab.research.google.com/assets/colab-badge.svg\" alt=\"Open In Colab\"/></a>"
      ]
    },
    {
      "cell_type": "code",
      "execution_count": 2,
      "metadata": {
        "colab": {
          "base_uri": "https://localhost:8080/",
          "height": 76
        },
        "id": "_Pm1s7JCzR4d",
        "outputId": "cd317e78-05a7-42da-f937-a795ff5c51a8"
      },
      "outputs": [
        {
          "output_type": "display_data",
          "data": {
            "text/plain": [
              "<IPython.core.display.HTML object>"
            ],
            "text/html": [
              "\n",
              "     <input type=\"file\" id=\"files-5185a966-eb4b-470c-9281-6bee2d161152\" name=\"files[]\" multiple disabled\n",
              "        style=\"border:none\" />\n",
              "     <output id=\"result-5185a966-eb4b-470c-9281-6bee2d161152\">\n",
              "      Upload widget is only available when the cell has been executed in the\n",
              "      current browser session. Please rerun this cell to enable.\n",
              "      </output>\n",
              "      <script>// Copyright 2017 Google LLC\n",
              "//\n",
              "// Licensed under the Apache License, Version 2.0 (the \"License\");\n",
              "// you may not use this file except in compliance with the License.\n",
              "// You may obtain a copy of the License at\n",
              "//\n",
              "//      http://www.apache.org/licenses/LICENSE-2.0\n",
              "//\n",
              "// Unless required by applicable law or agreed to in writing, software\n",
              "// distributed under the License is distributed on an \"AS IS\" BASIS,\n",
              "// WITHOUT WARRANTIES OR CONDITIONS OF ANY KIND, either express or implied.\n",
              "// See the License for the specific language governing permissions and\n",
              "// limitations under the License.\n",
              "\n",
              "/**\n",
              " * @fileoverview Helpers for google.colab Python module.\n",
              " */\n",
              "(function(scope) {\n",
              "function span(text, styleAttributes = {}) {\n",
              "  const element = document.createElement('span');\n",
              "  element.textContent = text;\n",
              "  for (const key of Object.keys(styleAttributes)) {\n",
              "    element.style[key] = styleAttributes[key];\n",
              "  }\n",
              "  return element;\n",
              "}\n",
              "\n",
              "// Max number of bytes which will be uploaded at a time.\n",
              "const MAX_PAYLOAD_SIZE = 100 * 1024;\n",
              "\n",
              "function _uploadFiles(inputId, outputId) {\n",
              "  const steps = uploadFilesStep(inputId, outputId);\n",
              "  const outputElement = document.getElementById(outputId);\n",
              "  // Cache steps on the outputElement to make it available for the next call\n",
              "  // to uploadFilesContinue from Python.\n",
              "  outputElement.steps = steps;\n",
              "\n",
              "  return _uploadFilesContinue(outputId);\n",
              "}\n",
              "\n",
              "// This is roughly an async generator (not supported in the browser yet),\n",
              "// where there are multiple asynchronous steps and the Python side is going\n",
              "// to poll for completion of each step.\n",
              "// This uses a Promise to block the python side on completion of each step,\n",
              "// then passes the result of the previous step as the input to the next step.\n",
              "function _uploadFilesContinue(outputId) {\n",
              "  const outputElement = document.getElementById(outputId);\n",
              "  const steps = outputElement.steps;\n",
              "\n",
              "  const next = steps.next(outputElement.lastPromiseValue);\n",
              "  return Promise.resolve(next.value.promise).then((value) => {\n",
              "    // Cache the last promise value to make it available to the next\n",
              "    // step of the generator.\n",
              "    outputElement.lastPromiseValue = value;\n",
              "    return next.value.response;\n",
              "  });\n",
              "}\n",
              "\n",
              "/**\n",
              " * Generator function which is called between each async step of the upload\n",
              " * process.\n",
              " * @param {string} inputId Element ID of the input file picker element.\n",
              " * @param {string} outputId Element ID of the output display.\n",
              " * @return {!Iterable<!Object>} Iterable of next steps.\n",
              " */\n",
              "function* uploadFilesStep(inputId, outputId) {\n",
              "  const inputElement = document.getElementById(inputId);\n",
              "  inputElement.disabled = false;\n",
              "\n",
              "  const outputElement = document.getElementById(outputId);\n",
              "  outputElement.innerHTML = '';\n",
              "\n",
              "  const pickedPromise = new Promise((resolve) => {\n",
              "    inputElement.addEventListener('change', (e) => {\n",
              "      resolve(e.target.files);\n",
              "    });\n",
              "  });\n",
              "\n",
              "  const cancel = document.createElement('button');\n",
              "  inputElement.parentElement.appendChild(cancel);\n",
              "  cancel.textContent = 'Cancel upload';\n",
              "  const cancelPromise = new Promise((resolve) => {\n",
              "    cancel.onclick = () => {\n",
              "      resolve(null);\n",
              "    };\n",
              "  });\n",
              "\n",
              "  // Wait for the user to pick the files.\n",
              "  const files = yield {\n",
              "    promise: Promise.race([pickedPromise, cancelPromise]),\n",
              "    response: {\n",
              "      action: 'starting',\n",
              "    }\n",
              "  };\n",
              "\n",
              "  cancel.remove();\n",
              "\n",
              "  // Disable the input element since further picks are not allowed.\n",
              "  inputElement.disabled = true;\n",
              "\n",
              "  if (!files) {\n",
              "    return {\n",
              "      response: {\n",
              "        action: 'complete',\n",
              "      }\n",
              "    };\n",
              "  }\n",
              "\n",
              "  for (const file of files) {\n",
              "    const li = document.createElement('li');\n",
              "    li.append(span(file.name, {fontWeight: 'bold'}));\n",
              "    li.append(span(\n",
              "        `(${file.type || 'n/a'}) - ${file.size} bytes, ` +\n",
              "        `last modified: ${\n",
              "            file.lastModifiedDate ? file.lastModifiedDate.toLocaleDateString() :\n",
              "                                    'n/a'} - `));\n",
              "    const percent = span('0% done');\n",
              "    li.appendChild(percent);\n",
              "\n",
              "    outputElement.appendChild(li);\n",
              "\n",
              "    const fileDataPromise = new Promise((resolve) => {\n",
              "      const reader = new FileReader();\n",
              "      reader.onload = (e) => {\n",
              "        resolve(e.target.result);\n",
              "      };\n",
              "      reader.readAsArrayBuffer(file);\n",
              "    });\n",
              "    // Wait for the data to be ready.\n",
              "    let fileData = yield {\n",
              "      promise: fileDataPromise,\n",
              "      response: {\n",
              "        action: 'continue',\n",
              "      }\n",
              "    };\n",
              "\n",
              "    // Use a chunked sending to avoid message size limits. See b/62115660.\n",
              "    let position = 0;\n",
              "    do {\n",
              "      const length = Math.min(fileData.byteLength - position, MAX_PAYLOAD_SIZE);\n",
              "      const chunk = new Uint8Array(fileData, position, length);\n",
              "      position += length;\n",
              "\n",
              "      const base64 = btoa(String.fromCharCode.apply(null, chunk));\n",
              "      yield {\n",
              "        response: {\n",
              "          action: 'append',\n",
              "          file: file.name,\n",
              "          data: base64,\n",
              "        },\n",
              "      };\n",
              "\n",
              "      let percentDone = fileData.byteLength === 0 ?\n",
              "          100 :\n",
              "          Math.round((position / fileData.byteLength) * 100);\n",
              "      percent.textContent = `${percentDone}% done`;\n",
              "\n",
              "    } while (position < fileData.byteLength);\n",
              "  }\n",
              "\n",
              "  // All done.\n",
              "  yield {\n",
              "    response: {\n",
              "      action: 'complete',\n",
              "    }\n",
              "  };\n",
              "}\n",
              "\n",
              "scope.google = scope.google || {};\n",
              "scope.google.colab = scope.google.colab || {};\n",
              "scope.google.colab._files = {\n",
              "  _uploadFiles,\n",
              "  _uploadFilesContinue,\n",
              "};\n",
              "})(self);\n",
              "</script> "
            ]
          },
          "metadata": {}
        },
        {
          "output_type": "stream",
          "name": "stdout",
          "text": [
            "Saving sample_submission.csv to sample_submission.csv\n"
          ]
        }
      ],
      "source": [
        "from google.colab import files\n",
        "uploaded = files.upload()"
      ]
    },
    {
      "cell_type": "code",
      "source": [
        "import pandas as pd\n",
        "\n",
        "data = pd.read_csv('/content/train.csv')\n",
        "submission = pd.read_csv('/content/sample_submission.csv')\n",
        "\n",
        "# print(data.head())\n",
        "\n",
        "train = data[['최고기온', '최저기온', '일교차', '강수량', '평균습도', '평균풍속', '일조합', '일사합', '일조율']]\n",
        "# 일시를 제외해보기로 함\n",
        "target = data['평균기온']\n",
        "\n",
        "from sklearn.model_selection import train_test_split\n",
        "train_input, test_input, train_target, test_target = train_test_split(train, target, test_size = 0.3)"
      ],
      "metadata": {
        "id": "1hTgviTbzViR"
      },
      "execution_count": 12,
      "outputs": []
    },
    {
      "cell_type": "code",
      "source": [
        "from sklearn.metrics import mean_absolute_error\n",
        "from sklearn.experimental import enable_hist_gradient_boosting\n",
        "from sklearn.ensemble import HistGradientBoostingRegressor\n",
        "\n",
        "hgb = HistGradientBoostingRegressor()\n",
        "hgb.fit(train_input, train_target)\n",
        "\n",
        "train_hgb_pred = hgb.predict(train_input)\n",
        "test_hgb_pred = hgb.predict(test_input)\n",
        "\n",
        "train_hgb_mae = mean_absolute_error(train_target, train_hgb_pred)\n",
        "test_hgb_mae = mean_absolute_error(test_target, test_hgb_pred)\n",
        "\n",
        "print(train_hgb_mae)\n",
        "print(test_hgb_mae)\n",
        "\n",
        "print(hgb.score(train_input, train_target))\n",
        "print(hgb.score(test_input, test_target))\n",
        "\n",
        "submission['평균기온'] = train_hgb_pred[:358]\n",
        "print(submission.head(10))"
      ],
      "metadata": {
        "colab": {
          "base_uri": "https://localhost:8080/"
        },
        "id": "rCCgwcvQzaDO",
        "outputId": "f56e0834-63d1-4a06-bdc8-771373c707dc"
      },
      "execution_count": 4,
      "outputs": [
        {
          "output_type": "stream",
          "name": "stderr",
          "text": [
            "/usr/local/lib/python3.10/dist-packages/sklearn/experimental/enable_hist_gradient_boosting.py:16: UserWarning: Since version 1.0, it is not needed to import enable_hist_gradient_boosting anymore. HistGradientBoostingClassifier and HistGradientBoostingRegressor are now stable and can be normally imported from sklearn.ensemble.\n",
            "  warnings.warn(\n"
          ]
        },
        {
          "output_type": "stream",
          "name": "stdout",
          "text": [
            "0.3781478418680901\n",
            "0.39952108180507157\n",
            "0.9976721536094902\n",
            "0.9974870146619979\n",
            "           일시       평균기온\n",
            "0  2023-01-01  -1.579007\n",
            "1  2023-01-02  22.918049\n",
            "2  2023-01-03  22.131631\n",
            "3  2023-01-04  16.887715\n",
            "4  2023-01-05  20.640943\n",
            "5  2023-01-06  30.384745\n",
            "6  2023-01-07  16.303455\n",
            "7  2023-01-08  18.345480\n",
            "8  2023-01-09  12.900488\n",
            "9  2023-01-10  18.421391\n"
          ]
        }
      ]
    },
    {
      "cell_type": "code",
      "source": [
        "print(train.info())"
      ],
      "metadata": {
        "colab": {
          "base_uri": "https://localhost:8080/"
        },
        "id": "8brZPVO3zut0",
        "outputId": "81659f1a-a2c3-41a0-b5b6-a6708eebf123"
      },
      "execution_count": 15,
      "outputs": [
        {
          "output_type": "stream",
          "name": "stdout",
          "text": [
            "<class 'pandas.core.frame.DataFrame'>\n",
            "RangeIndex: 23011 entries, 0 to 23010\n",
            "Data columns (total 3 columns):\n",
            " #   Column  Non-Null Count  Dtype  \n",
            "---  ------  --------------  -----  \n",
            " 0   일시      23011 non-null  object \n",
            " 1   최고기온    23008 non-null  float64\n",
            " 2   최저기온    23008 non-null  float64\n",
            "dtypes: float64(2), object(1)\n",
            "memory usage: 539.4+ KB\n",
            "None\n"
          ]
        }
      ]
    },
    {
      "cell_type": "code",
      "source": [
        "# '일시' 열을 날짜 데이터로 변환\n",
        "data['일시'] = pd.to_datetime(data['일시'])\n",
        "\n",
        "# 계절 분류 함수 정의\n",
        "def classify_season(month):\n",
        "    if  month == 1 or month == 2 or month == 12:\n",
        "        return '겨울'\n",
        "    elif 3 <= month <= 5:\n",
        "        return '봄'\n",
        "    elif 6 <= month <= 8:\n",
        "        return '여름'\n",
        "    else:\n",
        "        return '가을'\n",
        "\n",
        "# '일시' 컬럼에서 월 정보를 추출하여 '계절' 열 추가\n",
        "data['월'] = data['일시'].dt.month\n",
        "data['계절'] = data['월'].apply(classify_season)\n",
        "\n",
        "# 결과 확인\n",
        "print(data)"
      ],
      "metadata": {
        "colab": {
          "base_uri": "https://localhost:8080/"
        },
        "id": "M8l_PWpA03ii",
        "outputId": "293ad274-942c-4434-f9e4-1c12ba47254f"
      },
      "execution_count": 17,
      "outputs": [
        {
          "output_type": "stream",
          "name": "stdout",
          "text": [
            "              일시  최고기온  최저기온   일교차  강수량  평균습도  평균풍속  일조합    일사합   일조율  평균기온  \\\n",
            "0     1960-01-01   2.2  -5.2   7.4  NaN  68.3   1.7  6.7    NaN   NaN  -1.6   \n",
            "1     1960-01-02   1.2  -5.6   6.8  0.4  87.7   1.3  0.0    NaN   NaN  -1.9   \n",
            "2     1960-01-03   8.7  -2.1  10.8  0.0  81.3   3.0  0.0    NaN   NaN   4.0   \n",
            "3     1960-01-04  10.8   1.2   9.6  0.0  79.7   4.4  2.6    NaN   NaN   7.5   \n",
            "4     1960-01-05   1.3  -8.2   9.5  NaN  44.0   5.1  8.2    NaN   NaN  -4.6   \n",
            "...          ...   ...   ...   ...  ...   ...   ...  ...    ...   ...   ...   \n",
            "23006 2022-12-27   3.3  -7.3  10.6  NaN  69.8   1.8  8.8  10.25  91.7  -2.6   \n",
            "23007 2022-12-28   0.1  -6.0   6.1  0.1  58.1   2.5  8.7  10.86  90.6  -3.3   \n",
            "23008 2022-12-29   2.1  -7.8   9.9  0.0  56.3   1.7  9.0  10.88  93.8  -2.9   \n",
            "23009 2022-12-30   2.3  -4.4   6.7  0.0  65.6   1.9  7.9  10.84  82.3  -1.8   \n",
            "23010 2022-12-31   2.1  -5.1   7.2  0.0  65.5   1.4  1.1   4.16  11.5  -1.2   \n",
            "\n",
            "        월  계절  \n",
            "0       1  겨울  \n",
            "1       1  겨울  \n",
            "2       1  겨울  \n",
            "3       1  겨울  \n",
            "4       1  겨울  \n",
            "...    ..  ..  \n",
            "23006  12  겨울  \n",
            "23007  12  겨울  \n",
            "23008  12  겨울  \n",
            "23009  12  겨울  \n",
            "23010  12  겨울  \n",
            "\n",
            "[23011 rows x 13 columns]\n"
          ]
        }
      ]
    },
    {
      "cell_type": "code",
      "source": [
        "# 계절별 중앙값 계산\n",
        "seasonal_medians = data.groupby('계절').transform('median')\n",
        "\n",
        "# 결측값 대체\n",
        "data.fillna(seasonal_medians, inplace=True)\n",
        "\n",
        "print(data)"
      ],
      "metadata": {
        "colab": {
          "base_uri": "https://localhost:8080/"
        },
        "id": "CwDakE2Z2LDu",
        "outputId": "471407fa-4af5-42ef-c01a-3af240ee6370"
      },
      "execution_count": 20,
      "outputs": [
        {
          "output_type": "stream",
          "name": "stdout",
          "text": [
            "              일시  최고기온  최저기온   일교차       강수량  평균습도  평균풍속  일조합        일사합  \\\n",
            "0     1960-01-01   2.2  -5.2   7.4  2.136753  68.3   1.7  6.7   7.899426   \n",
            "1     1960-01-02   1.2  -5.6   6.8  0.400000  87.7   1.3  0.0   7.899426   \n",
            "2     1960-01-03   8.7  -2.1  10.8  0.000000  81.3   3.0  0.0   7.899426   \n",
            "3     1960-01-04  10.8   1.2   9.6  0.000000  79.7   4.4  2.6   7.899426   \n",
            "4     1960-01-05   1.3  -8.2   9.5  2.136753  44.0   5.1  8.2   7.899426   \n",
            "...          ...   ...   ...   ...       ...   ...   ...  ...        ...   \n",
            "23006 2022-12-27   3.3  -7.3  10.6  2.136753  69.8   1.8  8.8  10.250000   \n",
            "23007 2022-12-28   0.1  -6.0   6.1  0.100000  58.1   2.5  8.7  10.860000   \n",
            "23008 2022-12-29   2.1  -7.8   9.9  0.000000  56.3   1.7  9.0  10.880000   \n",
            "23009 2022-12-30   2.3  -4.4   6.7  0.000000  65.6   1.9  7.9  10.840000   \n",
            "23010 2022-12-31   2.1  -5.1   7.2  0.000000  65.5   1.4  1.1   4.160000   \n",
            "\n",
            "             일조율  평균기온   월  계절  \n",
            "0      54.020054  -1.6   1  겨울  \n",
            "1      54.020054  -1.9   1  겨울  \n",
            "2      54.020054   4.0   1  겨울  \n",
            "3      54.020054   7.5   1  겨울  \n",
            "4      54.020054  -4.6   1  겨울  \n",
            "...          ...   ...  ..  ..  \n",
            "23006  91.700000  -2.6  12  겨울  \n",
            "23007  90.600000  -3.3  12  겨울  \n",
            "23008  93.800000  -2.9  12  겨울  \n",
            "23009  82.300000  -1.8  12  겨울  \n",
            "23010  11.500000  -1.2  12  겨울  \n",
            "\n",
            "[23011 rows x 13 columns]\n"
          ]
        },
        {
          "output_type": "stream",
          "name": "stderr",
          "text": [
            "<ipython-input-20-7e65321ee868>:2: FutureWarning: The default value of numeric_only in DataFrameGroupBy.median is deprecated. In a future version, numeric_only will default to False. Either specify numeric_only or select only columns which should be valid for the function.\n",
            "  seasonal_medians = data.groupby('계절').transform('median')\n"
          ]
        }
      ]
    },
    {
      "cell_type": "code",
      "source": [
        "train = data[['최고기온', '최저기온', '일교차', '강수량', '평균습도', '평균풍속', '일조합', '일사합', '일조율']]\n",
        "# 일시를 제외해보기로 함\n",
        "target = data['평균기온']\n",
        "\n",
        "from sklearn.model_selection import train_test_split\n",
        "train_input, test_input, train_target, test_target = train_test_split(train, target, test_size = 0.3)"
      ],
      "metadata": {
        "id": "hUPU5sTt2yzx"
      },
      "execution_count": 21,
      "outputs": []
    },
    {
      "cell_type": "code",
      "source": [
        "print(len(train_input), len(train_target))\n",
        "print(len(test_input), len(test_target))"
      ],
      "metadata": {
        "colab": {
          "base_uri": "https://localhost:8080/"
        },
        "id": "SLsp_gcT4qfe",
        "outputId": "6eee9652-7f3e-4030-8472-f0b52b4ab753"
      },
      "execution_count": 24,
      "outputs": [
        {
          "output_type": "stream",
          "name": "stdout",
          "text": [
            "16107 16107\n",
            "6904 6904\n"
          ]
        }
      ]
    },
    {
      "cell_type": "code",
      "source": [
        "from xgboost import XGBRegressor\n",
        "xgb = XGBRegressor()\n",
        "xgb.fit(train_input, train_target)\n",
        "\n",
        "from sklearn.ensemble import RandomForestRegressor\n",
        "rf = RandomForestRegressor()\n",
        "rf.fit(train_input, train_target)\n",
        "\n",
        "pred_xgb = xgb.predict(train_input)\n",
        "pred_rf = rf.predict(train_input)"
      ],
      "metadata": {
        "id": "KMliqMBe2lNo"
      },
      "execution_count": 26,
      "outputs": []
    },
    {
      "cell_type": "code",
      "source": [
        "from sklearn.metrics import mean_absolute_error\n",
        "\n",
        "train_mae_xgb = mean_absolute_error(train_target, pred_xgb)\n",
        "# test_mae_xgb = mean_absolute_error(test_target, pred_xgb)\n",
        "\n",
        "train_mae_rf = mean_absolute_error(train_target, pred_rf)\n",
        "# test_mae_rf = mean_absolute_error(test_target, pred_rf)\n",
        "\n",
        "\n",
        "print('xgb train:', train_mae_xgb)\n",
        "# print('xgb test:', test_mae_xgb)\n",
        "print('rf train:', train_mae_rf)\n",
        "# print('rf test:', test_mae_rf)\n",
        "\n",
        "submission['평균기온'] = pred_xgb[:358]\n",
        "print(submission.head(10))\n",
        "submission['평균기온'] = pred_rf[:358]\n",
        "print(submission.head(10))"
      ],
      "metadata": {
        "colab": {
          "base_uri": "https://localhost:8080/"
        },
        "id": "9vswRL3F5Ff3",
        "outputId": "4769bd96-1523-4128-9148-c3f685b1e869"
      },
      "execution_count": 29,
      "outputs": [
        {
          "output_type": "stream",
          "name": "stdout",
          "text": [
            "xgb train: 0.2707367184829587\n",
            "rf train: 0.1417423480474329\n",
            "           일시       평균기온\n",
            "0  2023-01-01  18.083761\n",
            "1  2023-01-02  20.201134\n",
            "2  2023-01-03  17.254198\n",
            "3  2023-01-04  12.661690\n",
            "4  2023-01-05  -0.326550\n",
            "5  2023-01-06   1.515783\n",
            "6  2023-01-07  -0.841269\n",
            "7  2023-01-08  20.667528\n",
            "8  2023-01-09  15.418682\n",
            "9  2023-01-10  23.525269\n",
            "           일시    평균기온\n",
            "0  2023-01-01  18.225\n",
            "1  2023-01-02  20.037\n",
            "2  2023-01-03  17.123\n",
            "3  2023-01-04  12.524\n",
            "4  2023-01-05  -0.626\n",
            "5  2023-01-06   1.517\n",
            "6  2023-01-07  -0.826\n",
            "7  2023-01-08  20.320\n",
            "8  2023-01-09  15.813\n",
            "9  2023-01-10  23.495\n"
          ]
        }
      ]
    },
    {
      "cell_type": "code",
      "source": [
        "submission.to_csv(\"DEAGYUL_7_submission.csv\", index=False)\n",
        "\n",
        "print(submission.head())"
      ],
      "metadata": {
        "colab": {
          "base_uri": "https://localhost:8080/"
        },
        "id": "Q3QVS0tu5i5Z",
        "outputId": "d5b4957a-31ba-41c5-cd52-7a2527737ad5"
      },
      "execution_count": 30,
      "outputs": [
        {
          "output_type": "stream",
          "name": "stdout",
          "text": [
            "           일시    평균기온\n",
            "0  2023-01-01  18.225\n",
            "1  2023-01-02  20.037\n",
            "2  2023-01-03  17.123\n",
            "3  2023-01-04  12.524\n",
            "4  2023-01-05  -0.626\n"
          ]
        }
      ]
    }
  ]
}