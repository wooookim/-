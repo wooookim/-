{
  "nbformat": 4,
  "nbformat_minor": 0,
  "metadata": {
    "colab": {
      "provenance": [],
      "authorship_tag": "ABX9TyNAc6rWsr76g+9LDVd4l0d7",
      "include_colab_link": true
    },
    "kernelspec": {
      "name": "python3",
      "display_name": "Python 3"
    },
    "language_info": {
      "name": "python"
    }
  },
  "cells": [
    {
      "cell_type": "markdown",
      "metadata": {
        "id": "view-in-github",
        "colab_type": "text"
      },
      "source": [
        "<a href=\"https://colab.research.google.com/github/wooookim/ML-DL/blob/main/%EC%84%9C%EC%9A%B8%EC%8B%9C_%ED%8F%89%EA%B7%A0_%EA%B8%B0%EC%98%A8_%EC%98%88%EC%B8%A1_14.ipynb\" target=\"_parent\"><img src=\"https://colab.research.google.com/assets/colab-badge.svg\" alt=\"Open In Colab\"/></a>"
      ]
    },
    {
      "cell_type": "code",
      "source": [
        "import pandas as pd\n",
        "data = pd.read_csv('/content/train.csv')\n",
        "submission = pd.read_csv('/content/sample_submission.csv')"
      ],
      "metadata": {
        "id": "BsQ8h3M4Mu90"
      },
      "execution_count": 2,
      "outputs": []
    },
    {
      "cell_type": "code",
      "source": [
        "# '일시' 열을 날짜 데이터로 변환\n",
        "data['일시'] = pd.to_datetime(data['일시'])\n",
        "\n",
        "# '일시' 컬럼에서 '월', '일' 열 추가\n",
        "data['월'] = data['일시'].dt.month\n",
        "data['일'] = data['일시'].dt.day\n",
        "\n",
        "# 월, 일별 중앙값 계산\n",
        "monthly_medians = data.groupby('일').transform('median')\n",
        "daily_medians = data.groupby('일').transform('median')"
      ],
      "metadata": {
        "colab": {
          "base_uri": "https://localhost:8080/"
        },
        "id": "nM5Lqd-hN_y4",
        "outputId": "e5a11b56-c9f1-4668-8e32-3a7358d1d882"
      },
      "execution_count": 3,
      "outputs": [
        {
          "output_type": "stream",
          "name": "stderr",
          "text": [
            "<ipython-input-3-f0d9f2a84bd0>:9: FutureWarning: The default value of numeric_only in DataFrameGroupBy.median is deprecated. In a future version, numeric_only will default to False. Either specify numeric_only or select only columns which should be valid for the function.\n",
            "  monthly_medians = data.groupby('일').transform('median')\n",
            "<ipython-input-3-f0d9f2a84bd0>:10: FutureWarning: The default value of numeric_only in DataFrameGroupBy.median is deprecated. In a future version, numeric_only will default to False. Either specify numeric_only or select only columns which should be valid for the function.\n",
            "  daily_medians = data.groupby('일').transform('median')\n"
          ]
        }
      ]
    },
    {
      "cell_type": "code",
      "source": [
        "from datetime import datetime\n",
        "\n",
        "current_year = datetime.now().year\n",
        "\n",
        "# 2월 29일에 해당하는 행 선택\n",
        "selected_rows = data[(data['일시'].dt.month == 2) & (data['일시'].dt.day == 29)]\n",
        "\n",
        "# 29일에 해당하는 16개 행\n",
        "# 23011 - 16 = 22995\n",
        "\n",
        "# 선택한 행의 인덱스를 사용하여 삭제\n",
        "data = data.drop(selected_rows.index)\n",
        "\n",
        "print(data.info())"
      ],
      "metadata": {
        "colab": {
          "base_uri": "https://localhost:8080/"
        },
        "id": "EBVK9j8gOL1E",
        "outputId": "2472b914-9b5e-49be-8913-bda99ba29009"
      },
      "execution_count": 4,
      "outputs": [
        {
          "output_type": "stream",
          "name": "stdout",
          "text": [
            "<class 'pandas.core.frame.DataFrame'>\n",
            "Int64Index: 22995 entries, 0 to 23010\n",
            "Data columns (total 13 columns):\n",
            " #   Column  Non-Null Count  Dtype         \n",
            "---  ------  --------------  -----         \n",
            " 0   일시      22995 non-null  datetime64[ns]\n",
            " 1   최고기온    22992 non-null  float64       \n",
            " 2   최저기온    22992 non-null  float64       \n",
            " 3   일교차     22991 non-null  float64       \n",
            " 4   강수량     9142 non-null   float64       \n",
            " 5   평균습도    22995 non-null  float64       \n",
            " 6   평균풍속    22991 non-null  float64       \n",
            " 7   일조합     22877 non-null  float64       \n",
            " 8   일사합     18137 non-null  float64       \n",
            " 9   일조율     22630 non-null  float64       \n",
            " 10  평균기온    22995 non-null  float64       \n",
            " 11  월       22995 non-null  int64         \n",
            " 12  일       22995 non-null  int64         \n",
            "dtypes: datetime64[ns](1), float64(10), int64(2)\n",
            "memory usage: 2.5 MB\n",
            "None\n"
          ]
        }
      ]
    },
    {
      "cell_type": "markdown",
      "source": [
        "윤년 데이터 빼고 365로 나눠서 모델에 적용시키기"
      ],
      "metadata": {
        "id": "485zyVzfPXpO"
      }
    },
    {
      "cell_type": "code",
      "source": [
        "train = data[['최고기온', '최저기온', '일교차', '강수량', '평균습도', '평균풍속', '일조합', '일사합', '일조율']]\n",
        "\n",
        "target = data['평균기온']"
      ],
      "metadata": {
        "id": "cAC9usK3QfdT"
      },
      "execution_count": 5,
      "outputs": []
    },
    {
      "cell_type": "code",
      "source": [
        "# 결측값 대체\n",
        "data.fillna(daily_medians, inplace=True)\n",
        "\n",
        "from xgboost import XGBRegressor\n",
        "xgb = XGBRegressor()\n",
        "xgb.fit(train, target)\n",
        "\n",
        "pred_xgb = xgb.predict(train)\n",
        "\n",
        "from sklearn.metrics import mean_squared_error\n",
        "xgb_mae = mean_squared_error(target, pred_xgb)\n",
        "print(xgb_mae)\n",
        "\n",
        "submission['평균기온'] = pred_xgb[:358]\n",
        "print(submission.head(10))"
      ],
      "metadata": {
        "colab": {
          "base_uri": "https://localhost:8080/"
        },
        "id": "Vyst1b9pRvu2",
        "outputId": "25c87438-296d-4208-a783-9d4df91cccdd"
      },
      "execution_count": 6,
      "outputs": [
        {
          "output_type": "stream",
          "name": "stdout",
          "text": [
            "0.14312530580469168\n",
            "           일시      평균기온\n",
            "0  2023-01-01 -2.011936\n",
            "1  2023-01-02 -1.901870\n",
            "2  2023-01-03  3.772155\n",
            "3  2023-01-04  6.986705\n",
            "4  2023-01-05 -4.083561\n",
            "5  2023-01-06 -5.160858\n",
            "6  2023-01-07  1.405020\n",
            "7  2023-01-08  1.828838\n",
            "8  2023-01-09  2.475737\n",
            "9  2023-01-10  1.886170\n"
          ]
        }
      ]
    },
    {
      "cell_type": "markdown",
      "source": [
        "타겟이 정렬된 형태라서 똑같이 나오나...?"
      ],
      "metadata": {
        "id": "2v9UdWiJSftt"
      }
    },
    {
      "cell_type": "markdown",
      "source": [
        "스케일링 적용해서 결과 확인해보기"
      ],
      "metadata": {
        "id": "zhJnRn_ySsFV"
      }
    },
    {
      "cell_type": "code",
      "source": [
        "# 결측값 대체\n",
        "data.fillna(daily_medians, inplace=True)\n",
        "\n",
        "from sklearn.ensemble import RandomForestRegressor\n",
        "rf = RandomForestRegressor()\n",
        "rf.fit(train, target)\n",
        "\n",
        "pred_rf = xgb.predict(train)\n",
        "\n",
        "from sklearn.metrics import mean_squared_error\n",
        "rf_mae = mean_squared_error(target, pred_rf)\n",
        "print(rf_mae)\n",
        "\n",
        "submission['평균기온'] = pred_rf[:358]\n",
        "print(submission.head(10))"
      ],
      "metadata": {
        "colab": {
          "base_uri": "https://localhost:8080/",
          "height": 497
        },
        "id": "JG566K-3Sql4",
        "outputId": "07ab9a1b-b297-426b-a8eb-918a979fcd6d"
      },
      "execution_count": 8,
      "outputs": [
        {
          "output_type": "error",
          "ename": "ValueError",
          "evalue": "ignored",
          "traceback": [
            "\u001b[0;31m---------------------------------------------------------------------------\u001b[0m",
            "\u001b[0;31mValueError\u001b[0m                                Traceback (most recent call last)",
            "\u001b[0;32m<ipython-input-8-c35d9898f03b>\u001b[0m in \u001b[0;36m<cell line: 6>\u001b[0;34m()\u001b[0m\n\u001b[1;32m      4\u001b[0m \u001b[0;32mfrom\u001b[0m \u001b[0msklearn\u001b[0m\u001b[0;34m.\u001b[0m\u001b[0mensemble\u001b[0m \u001b[0;32mimport\u001b[0m \u001b[0mRandomForestRegressor\u001b[0m\u001b[0;34m\u001b[0m\u001b[0;34m\u001b[0m\u001b[0m\n\u001b[1;32m      5\u001b[0m \u001b[0mrf\u001b[0m \u001b[0;34m=\u001b[0m \u001b[0mRandomForestRegressor\u001b[0m\u001b[0;34m(\u001b[0m\u001b[0;34m)\u001b[0m\u001b[0;34m\u001b[0m\u001b[0;34m\u001b[0m\u001b[0m\n\u001b[0;32m----> 6\u001b[0;31m \u001b[0mrf\u001b[0m\u001b[0;34m.\u001b[0m\u001b[0mfit\u001b[0m\u001b[0;34m(\u001b[0m\u001b[0mtrain\u001b[0m\u001b[0;34m,\u001b[0m \u001b[0mtarget\u001b[0m\u001b[0;34m)\u001b[0m\u001b[0;34m\u001b[0m\u001b[0;34m\u001b[0m\u001b[0m\n\u001b[0m\u001b[1;32m      7\u001b[0m \u001b[0;34m\u001b[0m\u001b[0m\n\u001b[1;32m      8\u001b[0m \u001b[0mpred_rf\u001b[0m \u001b[0;34m=\u001b[0m \u001b[0mxgb\u001b[0m\u001b[0;34m.\u001b[0m\u001b[0mpredict\u001b[0m\u001b[0;34m(\u001b[0m\u001b[0mtrain\u001b[0m\u001b[0;34m)\u001b[0m\u001b[0;34m\u001b[0m\u001b[0;34m\u001b[0m\u001b[0m\n",
            "\u001b[0;32m/usr/local/lib/python3.10/dist-packages/sklearn/ensemble/_forest.py\u001b[0m in \u001b[0;36mfit\u001b[0;34m(self, X, y, sample_weight)\u001b[0m\n\u001b[1;32m    343\u001b[0m         \u001b[0;32mif\u001b[0m \u001b[0missparse\u001b[0m\u001b[0;34m(\u001b[0m\u001b[0my\u001b[0m\u001b[0;34m)\u001b[0m\u001b[0;34m:\u001b[0m\u001b[0;34m\u001b[0m\u001b[0;34m\u001b[0m\u001b[0m\n\u001b[1;32m    344\u001b[0m             \u001b[0;32mraise\u001b[0m \u001b[0mValueError\u001b[0m\u001b[0;34m(\u001b[0m\u001b[0;34m\"sparse multilabel-indicator for y is not supported.\"\u001b[0m\u001b[0;34m)\u001b[0m\u001b[0;34m\u001b[0m\u001b[0;34m\u001b[0m\u001b[0m\n\u001b[0;32m--> 345\u001b[0;31m         X, y = self._validate_data(\n\u001b[0m\u001b[1;32m    346\u001b[0m             \u001b[0mX\u001b[0m\u001b[0;34m,\u001b[0m \u001b[0my\u001b[0m\u001b[0;34m,\u001b[0m \u001b[0mmulti_output\u001b[0m\u001b[0;34m=\u001b[0m\u001b[0;32mTrue\u001b[0m\u001b[0;34m,\u001b[0m \u001b[0maccept_sparse\u001b[0m\u001b[0;34m=\u001b[0m\u001b[0;34m\"csc\"\u001b[0m\u001b[0;34m,\u001b[0m \u001b[0mdtype\u001b[0m\u001b[0;34m=\u001b[0m\u001b[0mDTYPE\u001b[0m\u001b[0;34m\u001b[0m\u001b[0;34m\u001b[0m\u001b[0m\n\u001b[1;32m    347\u001b[0m         )\n",
            "\u001b[0;32m/usr/local/lib/python3.10/dist-packages/sklearn/base.py\u001b[0m in \u001b[0;36m_validate_data\u001b[0;34m(self, X, y, reset, validate_separately, **check_params)\u001b[0m\n\u001b[1;32m    582\u001b[0m                 \u001b[0my\u001b[0m \u001b[0;34m=\u001b[0m \u001b[0mcheck_array\u001b[0m\u001b[0;34m(\u001b[0m\u001b[0my\u001b[0m\u001b[0;34m,\u001b[0m \u001b[0minput_name\u001b[0m\u001b[0;34m=\u001b[0m\u001b[0;34m\"y\"\u001b[0m\u001b[0;34m,\u001b[0m \u001b[0;34m**\u001b[0m\u001b[0mcheck_y_params\u001b[0m\u001b[0;34m)\u001b[0m\u001b[0;34m\u001b[0m\u001b[0;34m\u001b[0m\u001b[0m\n\u001b[1;32m    583\u001b[0m             \u001b[0;32melse\u001b[0m\u001b[0;34m:\u001b[0m\u001b[0;34m\u001b[0m\u001b[0;34m\u001b[0m\u001b[0m\n\u001b[0;32m--> 584\u001b[0;31m                 \u001b[0mX\u001b[0m\u001b[0;34m,\u001b[0m \u001b[0my\u001b[0m \u001b[0;34m=\u001b[0m \u001b[0mcheck_X_y\u001b[0m\u001b[0;34m(\u001b[0m\u001b[0mX\u001b[0m\u001b[0;34m,\u001b[0m \u001b[0my\u001b[0m\u001b[0;34m,\u001b[0m \u001b[0;34m**\u001b[0m\u001b[0mcheck_params\u001b[0m\u001b[0;34m)\u001b[0m\u001b[0;34m\u001b[0m\u001b[0;34m\u001b[0m\u001b[0m\n\u001b[0m\u001b[1;32m    585\u001b[0m             \u001b[0mout\u001b[0m \u001b[0;34m=\u001b[0m \u001b[0mX\u001b[0m\u001b[0;34m,\u001b[0m \u001b[0my\u001b[0m\u001b[0;34m\u001b[0m\u001b[0;34m\u001b[0m\u001b[0m\n\u001b[1;32m    586\u001b[0m \u001b[0;34m\u001b[0m\u001b[0m\n",
            "\u001b[0;32m/usr/local/lib/python3.10/dist-packages/sklearn/utils/validation.py\u001b[0m in \u001b[0;36mcheck_X_y\u001b[0;34m(X, y, accept_sparse, accept_large_sparse, dtype, order, copy, force_all_finite, ensure_2d, allow_nd, multi_output, ensure_min_samples, ensure_min_features, y_numeric, estimator)\u001b[0m\n\u001b[1;32m   1104\u001b[0m         )\n\u001b[1;32m   1105\u001b[0m \u001b[0;34m\u001b[0m\u001b[0m\n\u001b[0;32m-> 1106\u001b[0;31m     X = check_array(\n\u001b[0m\u001b[1;32m   1107\u001b[0m         \u001b[0mX\u001b[0m\u001b[0;34m,\u001b[0m\u001b[0;34m\u001b[0m\u001b[0;34m\u001b[0m\u001b[0m\n\u001b[1;32m   1108\u001b[0m         \u001b[0maccept_sparse\u001b[0m\u001b[0;34m=\u001b[0m\u001b[0maccept_sparse\u001b[0m\u001b[0;34m,\u001b[0m\u001b[0;34m\u001b[0m\u001b[0;34m\u001b[0m\u001b[0m\n",
            "\u001b[0;32m/usr/local/lib/python3.10/dist-packages/sklearn/utils/validation.py\u001b[0m in \u001b[0;36mcheck_array\u001b[0;34m(array, accept_sparse, accept_large_sparse, dtype, order, copy, force_all_finite, ensure_2d, allow_nd, ensure_min_samples, ensure_min_features, estimator, input_name)\u001b[0m\n\u001b[1;32m    919\u001b[0m \u001b[0;34m\u001b[0m\u001b[0m\n\u001b[1;32m    920\u001b[0m         \u001b[0;32mif\u001b[0m \u001b[0mforce_all_finite\u001b[0m\u001b[0;34m:\u001b[0m\u001b[0;34m\u001b[0m\u001b[0;34m\u001b[0m\u001b[0m\n\u001b[0;32m--> 921\u001b[0;31m             _assert_all_finite(\n\u001b[0m\u001b[1;32m    922\u001b[0m                 \u001b[0marray\u001b[0m\u001b[0;34m,\u001b[0m\u001b[0;34m\u001b[0m\u001b[0;34m\u001b[0m\u001b[0m\n\u001b[1;32m    923\u001b[0m                 \u001b[0minput_name\u001b[0m\u001b[0;34m=\u001b[0m\u001b[0minput_name\u001b[0m\u001b[0;34m,\u001b[0m\u001b[0;34m\u001b[0m\u001b[0;34m\u001b[0m\u001b[0m\n",
            "\u001b[0;32m/usr/local/lib/python3.10/dist-packages/sklearn/utils/validation.py\u001b[0m in \u001b[0;36m_assert_all_finite\u001b[0;34m(X, allow_nan, msg_dtype, estimator_name, input_name)\u001b[0m\n\u001b[1;32m    159\u001b[0m                 \u001b[0;34m\"#estimators-that-handle-nan-values\"\u001b[0m\u001b[0;34m\u001b[0m\u001b[0;34m\u001b[0m\u001b[0m\n\u001b[1;32m    160\u001b[0m             )\n\u001b[0;32m--> 161\u001b[0;31m         \u001b[0;32mraise\u001b[0m \u001b[0mValueError\u001b[0m\u001b[0;34m(\u001b[0m\u001b[0mmsg_err\u001b[0m\u001b[0;34m)\u001b[0m\u001b[0;34m\u001b[0m\u001b[0;34m\u001b[0m\u001b[0m\n\u001b[0m\u001b[1;32m    162\u001b[0m \u001b[0;34m\u001b[0m\u001b[0m\n\u001b[1;32m    163\u001b[0m \u001b[0;34m\u001b[0m\u001b[0m\n",
            "\u001b[0;31mValueError\u001b[0m: Input X contains NaN.\nRandomForestRegressor does not accept missing values encoded as NaN natively. For supervised learning, you might want to consider sklearn.ensemble.HistGradientBoostingClassifier and Regressor which accept missing values encoded as NaNs natively. Alternatively, it is possible to preprocess the data, for instance by using an imputer transformer in a pipeline or drop samples with missing values. See https://scikit-learn.org/stable/modules/impute.html You can find a list of all estimators that handle NaN values at the following page: https://scikit-learn.org/stable/modules/impute.html#estimators-that-handle-nan-values"
          ]
        }
      ]
    },
    {
      "cell_type": "code",
      "source": [
        "from sklearn.impute import SimpleImputer\n",
        "\n",
        "# 중앙값으로 NaN 대체\n",
        "imputer = SimpleImputer(strategy='median')\n",
        "train_imputed = imputer.fit_transform(train)\n",
        "\n",
        "# 나머지 모델 학습 등의 과정은 그대로 유지\n",
        "rf = RandomForestRegressor()\n",
        "rf.fit(train_imputed, target)\n",
        "\n",
        "pred_rf = rf.predict(train_imputed)\n",
        "\n",
        "rf_mae = mean_squared_error(target, pred_rf)\n",
        "print(rf_mae)\n",
        "\n",
        "submission['평균기온'] = pred_rf[:358]\n",
        "print(submission.head(30))"
      ],
      "metadata": {
        "colab": {
          "base_uri": "https://localhost:8080/"
        },
        "id": "PA9EYkVzU8m-",
        "outputId": "5c289c1b-a784-4b03-f774-32093325d407"
      },
      "execution_count": 11,
      "outputs": [
        {
          "output_type": "stream",
          "name": "stdout",
          "text": [
            "0.03881840369645575\n",
            "            일시    평균기온\n",
            "0   2023-01-01  -1.672\n",
            "1   2023-01-02  -2.004\n",
            "2   2023-01-03   3.749\n",
            "3   2023-01-04   6.793\n",
            "4   2023-01-05  -4.161\n",
            "5   2023-01-06  -5.258\n",
            "6   2023-01-07   1.186\n",
            "7   2023-01-08   1.791\n",
            "8   2023-01-09   2.243\n",
            "9   2023-01-10   2.009\n",
            "10  2023-01-11  -1.961\n",
            "11  2023-01-12  -3.703\n",
            "12  2023-01-13  -3.389\n",
            "13  2023-01-14  -1.746\n",
            "14  2023-01-15  -5.045\n",
            "15  2023-01-16  -4.941\n",
            "16  2023-01-17  -5.453\n",
            "17  2023-01-18  -2.795\n",
            "18  2023-01-19   2.095\n",
            "19  2023-01-20  -0.712\n",
            "20  2023-01-21  -6.455\n",
            "21  2023-01-22  -9.380\n",
            "22  2023-01-23 -13.142\n",
            "23  2023-01-24 -12.591\n",
            "24  2023-01-25  -7.332\n",
            "25  2023-01-26  -7.521\n",
            "26  2023-01-27 -10.795\n",
            "27  2023-01-28 -11.248\n",
            "28  2023-01-29  -7.859\n",
            "29  2023-01-30  -0.373\n"
          ]
        }
      ]
    },
    {
      "cell_type": "markdown",
      "source": [
        "**Nan 값 처리**\n",
        "\n",
        "에러 메시지에서 나타나는 Input X contains NaN는 RandomForestRegressor 모델이 NaN 값을 포함하는 입력 데이터를 처리하지 못했기 때문에 발생한 것이에요.\n",
        "\n",
        "일반적으로 fillna 메서드는 데이터프레임의 NaN 값을 특정 값으로 채우는 데에 사용되지만, 모델 학습을 위한 입력 데이터에 대해 이 작업을 수행할 때는 주의해야 해요. fillna를 사용한 후에도 NaN 값이 남아있을 수 있으며, 이는 모델이 처리하지 못하는 상태로 남아 있을 수 있어요.\n",
        "\n",
        "이 문제를 해결하기 위해서는 SimpleImputer와 같은 대체 메서드를 사용하여 NaN 값을 적절하게 대체하거나, NaN 값을 가진 행 또는 열을 삭제하여야 해요. 또한, 모델 학습 이전에 NaN 값이 있는지 다시 확인하고 처리하는 것이 중요합니다."
      ],
      "metadata": {
        "id": "rtwt4KcMTBVL"
      }
    },
    {
      "cell_type": "code",
      "source": [
        "# submission.to_csv(\"DEAGYUL_11_submission.csv\", index=False)\n",
        "\n",
        "print(submission.head(30))"
      ],
      "metadata": {
        "colab": {
          "base_uri": "https://localhost:8080/"
        },
        "id": "PAUMxlxrVPav",
        "outputId": "9dd02c40-a7d2-412d-c376-ce5ddb0a617e"
      },
      "execution_count": 12,
      "outputs": [
        {
          "output_type": "stream",
          "name": "stdout",
          "text": [
            "            일시    평균기온\n",
            "0   2023-01-01  -1.672\n",
            "1   2023-01-02  -2.004\n",
            "2   2023-01-03   3.749\n",
            "3   2023-01-04   6.793\n",
            "4   2023-01-05  -4.161\n",
            "5   2023-01-06  -5.258\n",
            "6   2023-01-07   1.186\n",
            "7   2023-01-08   1.791\n",
            "8   2023-01-09   2.243\n",
            "9   2023-01-10   2.009\n",
            "10  2023-01-11  -1.961\n",
            "11  2023-01-12  -3.703\n",
            "12  2023-01-13  -3.389\n",
            "13  2023-01-14  -1.746\n",
            "14  2023-01-15  -5.045\n",
            "15  2023-01-16  -4.941\n",
            "16  2023-01-17  -5.453\n",
            "17  2023-01-18  -2.795\n",
            "18  2023-01-19   2.095\n",
            "19  2023-01-20  -0.712\n",
            "20  2023-01-21  -6.455\n",
            "21  2023-01-22  -9.380\n",
            "22  2023-01-23 -13.142\n",
            "23  2023-01-24 -12.591\n",
            "24  2023-01-25  -7.332\n",
            "25  2023-01-26  -7.521\n",
            "26  2023-01-27 -10.795\n",
            "27  2023-01-28 -11.248\n",
            "28  2023-01-29  -7.859\n",
            "29  2023-01-30  -0.373\n"
          ]
        }
      ]
    }
  ]
}