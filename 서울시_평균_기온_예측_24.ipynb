{
  "nbformat": 4,
  "nbformat_minor": 0,
  "metadata": {
    "colab": {
      "provenance": [],
      "authorship_tag": "ABX9TyPbC3pEhYzJvr8Q3IZPMZBy",
      "include_colab_link": true
    },
    "kernelspec": {
      "name": "python3",
      "display_name": "Python 3"
    },
    "language_info": {
      "name": "python"
    }
  },
  "cells": [
    {
      "cell_type": "markdown",
      "metadata": {
        "id": "view-in-github",
        "colab_type": "text"
      },
      "source": [
        "<a href=\"https://colab.research.google.com/github/wooookim/ML-DL/blob/main/%EC%84%9C%EC%9A%B8%EC%8B%9C_%ED%8F%89%EA%B7%A0_%EA%B8%B0%EC%98%A8_%EC%98%88%EC%B8%A1_24.ipynb\" target=\"_parent\"><img src=\"https://colab.research.google.com/assets/colab-badge.svg\" alt=\"Open In Colab\"/></a>"
      ]
    },
    {
      "cell_type": "code",
      "execution_count": 1,
      "metadata": {
        "id": "yLhCcEumjDdH"
      },
      "outputs": [],
      "source": [
        "import pandas as pd\n",
        "\n",
        "data = pd.read_csv('/content/train.csv')\n",
        "submission = pd.read_csv('/content/sample_submission.csv')"
      ]
    },
    {
      "cell_type": "code",
      "source": [
        "from datetime import datetime\n",
        "\n",
        "# '일시' 열을 날짜 데이터로 변환\n",
        "data['일시'] = pd.to_datetime(data['일시'])\n",
        "\n",
        "data['연도'] = data['일시'].dt.year\n",
        "data['월'] = data['일시'].dt.month\n",
        "data['일'] = data['일시'].dt.day\n",
        "\n",
        "# 연, 월 별 중앙값\n",
        "monthly_medians = data.groupby('월').median()\n",
        "yearly_medians = data.groupby('연도').median()\n",
        "# 연, 월 별 평균값\n",
        "monthly_means = data.groupby('월').mean()\n",
        "yearly_means = data.groupby('연도').mean()\n",
        "\n",
        "current_year = datetime.now().year\n",
        "\n",
        "# 2월 29일에 해당하는 행 선택\n",
        "selected_rows = data[(data['일시'].dt.month == 2) & (data['일시'].dt.day == 29)]\n",
        "\n",
        "# 29일에 해당하는 16개 행\n",
        "# 23011 - 16 = 22995\n",
        "\n",
        "# 선택한 행의 인덱스를 사용하여 삭제\n",
        "data = data.drop(selected_rows.index)"
      ],
      "metadata": {
        "colab": {
          "base_uri": "https://localhost:8080/"
        },
        "id": "MlXOnKNAjSEq",
        "outputId": "ae1e65ff-ec87-4d2c-b6e9-ef673aac87e3"
      },
      "execution_count": 2,
      "outputs": [
        {
          "output_type": "stream",
          "name": "stderr",
          "text": [
            "<ipython-input-2-08e5e0c1571b>:11: FutureWarning: The default value of numeric_only in DataFrameGroupBy.median is deprecated. In a future version, numeric_only will default to False. Either specify numeric_only or select only columns which should be valid for the function.\n",
            "  monthly_medians = data.groupby('월').median()\n",
            "<ipython-input-2-08e5e0c1571b>:12: FutureWarning: The default value of numeric_only in DataFrameGroupBy.median is deprecated. In a future version, numeric_only will default to False. Either specify numeric_only or select only columns which should be valid for the function.\n",
            "  yearly_medians = data.groupby('연도').median()\n",
            "<ipython-input-2-08e5e0c1571b>:14: FutureWarning: The default value of numeric_only in DataFrameGroupBy.mean is deprecated. In a future version, numeric_only will default to False. Either specify numeric_only or select only columns which should be valid for the function.\n",
            "  monthly_means = data.groupby('월').mean()\n",
            "<ipython-input-2-08e5e0c1571b>:15: FutureWarning: The default value of numeric_only in DataFrameGroupBy.mean is deprecated. In a future version, numeric_only will default to False. Either specify numeric_only or select only columns which should be valid for the function.\n",
            "  yearly_means = data.groupby('연도').mean()\n"
          ]
        }
      ]
    },
    {
      "cell_type": "code",
      "source": [
        "# 결측값 대체\n",
        "data.fillna(monthly_medians, inplace=True)\n",
        "\n",
        "for column in data.columns:\n",
        "    if data[column].isnull().any():  # 결측값이 있는 경우에만 처리\n",
        "        data[column+'_중앙값'] = data.apply(lambda row: monthly_medians.loc[row['월'], column], axis=1)\n",
        "        data[column].fillna(data[column+'_중앙값'], inplace=True)\n",
        "        data.drop(column+'_중앙값', axis=1, inplace=True)"
      ],
      "metadata": {
        "id": "wE8Zf0k2jpjC"
      },
      "execution_count": 5,
      "outputs": []
    },
    {
      "cell_type": "code",
      "source": [
        "train = data[['최고기온', '최저기온', '일교차', '강수량', '평균습도', '평균풍속', '일조합', '일사합', '일조율']]\n",
        "\n",
        "target = data['평균기온']\n",
        "\n",
        "import warnings\n",
        "warnings.filterwarnings(action='ignore')"
      ],
      "metadata": {
        "id": "JJH7-QahjW1-"
      },
      "execution_count": 6,
      "outputs": []
    },
    {
      "cell_type": "code",
      "source": [
        "from sklearn.preprocessing import PolynomialFeatures\n",
        "poly = PolynomialFeatures()\n",
        "poly.fit(train)\n",
        "train_poly = poly.transform(train)\n",
        "\n",
        "from sklearn.linear_model import LinearRegression\n",
        "lr = LinearRegression()\n",
        "lr.fit(train_poly, target)\n",
        "\n",
        "# print(lr.score(train_poly, target))\n",
        "\n",
        "from sklearn.metrics import mean_absolute_error\n",
        "lr_pred = lr.predict(train_poly)\n",
        "\n",
        "lr_mae = mean_absolute_error(target, lr_pred)\n",
        "\n",
        "print(\"훈련 세트 MAE:\", lr_mae)"
      ],
      "metadata": {
        "colab": {
          "base_uri": "https://localhost:8080/"
        },
        "id": "CfJwGO4RjbYw",
        "outputId": "471dfd19-7df3-45a1-894f-5db73417ac5a"
      },
      "execution_count": 16,
      "outputs": [
        {
          "output_type": "stream",
          "name": "stdout",
          "text": [
            "훈련 세트 MAE: 0.3650356700680076\n"
          ]
        }
      ]
    },
    {
      "cell_type": "code",
      "source": [
        "from sklearn.preprocessing import PolynomialFeatures\n",
        "poly = PolynomialFeatures()\n",
        "poly.fit(train)\n",
        "train_poly = poly.transform(train)\n",
        "\n",
        "from sklearn.preprocessing import StandardScaler\n",
        "ss = StandardScaler()\n",
        "ss.fit(train_poly)\n",
        "train_scaled = ss.transform(train_poly)\n",
        "\n",
        "from sklearn.linear_model import LinearRegression\n",
        "lr = LinearRegression()\n",
        "lr.fit(train_scaled, target)\n",
        "\n",
        "# print(lr.score(train_poly, target))\n",
        "\n",
        "from sklearn.metrics import mean_absolute_error\n",
        "lr_pred = lr.predict(train_scaled)\n",
        "\n",
        "lr_mae = mean_absolute_error(target, lr_pred)\n",
        "\n",
        "print(\"훈련 세트 MAE:\", lr_mae)"
      ],
      "metadata": {
        "colab": {
          "base_uri": "https://localhost:8080/"
        },
        "id": "RTKYDCzymDPn",
        "outputId": "534e8a26-85fa-4a78-87b5-d3c457e08132"
      },
      "execution_count": 17,
      "outputs": [
        {
          "output_type": "stream",
          "name": "stdout",
          "text": [
            "훈련 세트 MAE: 0.365076480582124\n"
          ]
        }
      ]
    },
    {
      "cell_type": "code",
      "source": [
        "# 차수 조정\n",
        "\n",
        "from sklearn.preprocessing import PolynomialFeatures, StandardScaler\n",
        "from sklearn.linear_model import LinearRegression\n",
        "from sklearn.pipeline import make_pipeline\n",
        "from sklearn.model_selection import cross_val_score\n",
        "\n",
        "# 다항 회귀 모델 생성 및 학습\n",
        "def train_polynomial_model(degree):\n",
        "    model = make_pipeline(\n",
        "        PolynomialFeatures(degree=degree),\n",
        "        StandardScaler(),\n",
        "        LinearRegression()\n",
        "    )\n",
        "\n",
        "    # 교차 검증을 통한 성능 평가\n",
        "    scores = cross_val_score(model, train, target, cv=5, scoring='neg_mean_absolute_error')\n",
        "\n",
        "    # 교차 검증 성능의 평균을 반환\n",
        "    return -scores.mean()\n",
        "\n",
        "# 다양한 차수에 대해 교차 검증을 통해 최적의 차수를 찾음\n",
        "best_degree = None\n",
        "best_score = float('inf')\n",
        "\n",
        "for degree in range(1, 5):  # 적절한 범위로 조정\n",
        "    score = train_polynomial_model(degree)\n",
        "    if score < best_score:\n",
        "        best_score = score\n",
        "        best_degree = degree\n",
        "\n",
        "# 최적의 차수 출력\n",
        "print(\"Best Polynomial Degree:\", best_degree)"
      ],
      "metadata": {
        "colab": {
          "base_uri": "https://localhost:8080/"
        },
        "id": "d45Xb-bUkEMY",
        "outputId": "eef65e95-6939-4ad5-9821-3a21a93d862f"
      },
      "execution_count": 9,
      "outputs": [
        {
          "output_type": "stream",
          "name": "stdout",
          "text": [
            "Best Polynomial Degree: 1\n"
          ]
        }
      ]
    },
    {
      "cell_type": "code",
      "source": [
        "submission['평균기온'] = lr_pred[:358]\n",
        "\n",
        "print(submission.head(30))"
      ],
      "metadata": {
        "colab": {
          "base_uri": "https://localhost:8080/"
        },
        "id": "Xdn5Wl2xk0rh",
        "outputId": "c32cf949-5f32-49c3-b581-d80a06cafda1"
      },
      "execution_count": 10,
      "outputs": [
        {
          "output_type": "stream",
          "name": "stdout",
          "text": [
            "            일시       평균기온\n",
            "0   2023-01-01  -1.887615\n",
            "1   2023-01-02  -2.399307\n",
            "2   2023-01-03   3.317630\n",
            "3   2023-01-04   5.729972\n",
            "4   2023-01-05  -3.861919\n",
            "5   2023-01-06  -5.578606\n",
            "6   2023-01-07   0.923217\n",
            "7   2023-01-08   1.622050\n",
            "8   2023-01-09   1.994953\n",
            "9   2023-01-10   1.576975\n",
            "10  2023-01-11  -1.777259\n",
            "11  2023-01-12  -3.453881\n",
            "12  2023-01-13  -3.885791\n",
            "13  2023-01-14  -2.435463\n",
            "14  2023-01-15  -5.298518\n",
            "15  2023-01-16  -4.851758\n",
            "16  2023-01-17  -5.792945\n",
            "17  2023-01-18  -3.209024\n",
            "18  2023-01-19   2.078111\n",
            "19  2023-01-20  -0.476940\n",
            "20  2023-01-21  -6.927532\n",
            "21  2023-01-22  -8.939129\n",
            "22  2023-01-23 -12.923155\n",
            "23  2023-01-24 -12.553946\n",
            "24  2023-01-25  -7.687326\n",
            "25  2023-01-26  -8.185752\n",
            "26  2023-01-27 -11.339591\n",
            "27  2023-01-28 -11.166284\n",
            "28  2023-01-29  -8.271055\n",
            "29  2023-01-30  -0.862834\n"
          ]
        }
      ]
    },
    {
      "cell_type": "code",
      "source": [
        "submission.to_csv(\"DEAGYUL_18_submission.csv\", index=False)\n",
        "\n",
        "print(submission.head())"
      ],
      "metadata": {
        "colab": {
          "base_uri": "https://localhost:8080/"
        },
        "id": "igE81ozbkyVy",
        "outputId": "f3efb5ce-ede5-404d-cb0d-ef0ec3462293"
      },
      "execution_count": 11,
      "outputs": [
        {
          "output_type": "stream",
          "name": "stdout",
          "text": [
            "           일시      평균기온\n",
            "0  2023-01-01 -1.887615\n",
            "1  2023-01-02 -2.399307\n",
            "2  2023-01-03  3.317630\n",
            "3  2023-01-04  5.729972\n",
            "4  2023-01-05 -3.861919\n"
          ]
        }
      ]
    }
  ]
}