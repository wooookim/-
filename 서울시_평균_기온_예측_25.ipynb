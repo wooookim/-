{
  "nbformat": 4,
  "nbformat_minor": 0,
  "metadata": {
    "colab": {
      "provenance": [],
      "authorship_tag": "ABX9TyPkeoyvzF8AMwWjnXxqg+BN",
      "include_colab_link": true
    },
    "kernelspec": {
      "name": "python3",
      "display_name": "Python 3"
    },
    "language_info": {
      "name": "python"
    }
  },
  "cells": [
    {
      "cell_type": "markdown",
      "metadata": {
        "id": "view-in-github",
        "colab_type": "text"
      },
      "source": [
        "<a href=\"https://colab.research.google.com/github/wooookim/ML-DL/blob/main/%EC%84%9C%EC%9A%B8%EC%8B%9C_%ED%8F%89%EA%B7%A0_%EA%B8%B0%EC%98%A8_%EC%98%88%EC%B8%A1_25.ipynb\" target=\"_parent\"><img src=\"https://colab.research.google.com/assets/colab-badge.svg\" alt=\"Open In Colab\"/></a>"
      ]
    },
    {
      "cell_type": "code",
      "execution_count": 40,
      "metadata": {
        "id": "UUI8Eiw0bJWT"
      },
      "outputs": [],
      "source": [
        "import pandas as pd\n",
        "import numpy as np\n",
        "\n",
        "data = pd.read_csv('/content/train.csv')\n",
        "submission = pd.read_csv('/content/sample_submission.csv')"
      ]
    },
    {
      "cell_type": "code",
      "source": [
        "# '일시' 열을 날짜 데이터로 변환\n",
        "data['일시'] = pd.to_datetime(data['일시'])\n",
        "\n",
        "# 계절 분류 함수 정의\n",
        "def classify_season(month):\n",
        "    if  month == 1 or month == 2 or month == 12:\n",
        "        return '겨울'\n",
        "    elif 3 <= month <= 5:\n",
        "        return '봄'\n",
        "    elif 6 <= month <= 8:\n",
        "        return '여름'\n",
        "    else:\n",
        "        return '가을'\n",
        "\n",
        "# '일시' 컬럼에서 월 정보를 추출하여 '계절' 열 추가\n",
        "data['월'] = data['일시'].dt.month\n",
        "data['계절'] = data['월'].apply(classify_season)\n",
        "\n",
        "# 계절별 중앙값 계산\n",
        "seasonal_medians = data.groupby('계절').transform('median')\n",
        "\n",
        "# 결측값 대체\n",
        "data.fillna(seasonal_medians, inplace=True)"
      ],
      "metadata": {
        "colab": {
          "base_uri": "https://localhost:8080/"
        },
        "id": "XN_c4_rZbbSv",
        "outputId": "e571bf5e-2b12-45c0-9b28-f6cbbf82a708"
      },
      "execution_count": 41,
      "outputs": [
        {
          "output_type": "stream",
          "name": "stderr",
          "text": [
            "<ipython-input-41-0f79c27d480d>:20: FutureWarning: The default value of numeric_only in DataFrameGroupBy.median is deprecated. In a future version, numeric_only will default to False. Either specify numeric_only or select only columns which should be valid for the function.\n",
            "  seasonal_medians = data.groupby('계절').transform('median')\n"
          ]
        }
      ]
    },
    {
      "cell_type": "code",
      "source": [
        "# 2월 29일에 해당하는 행 선택\n",
        "selected_rows = data[(data['일시'].dt.month == 2) & (data['일시'].dt.day == 29)]\n",
        "\n",
        "# 29일에 해당하는 16개 행\n",
        "# 23011 - 16 = 22995\n",
        "\n",
        "# 선택한 행의 인덱스를 사용하여 삭제\n",
        "data = data.drop(selected_rows.index)"
      ],
      "metadata": {
        "id": "PcOj-xiMb1ZL"
      },
      "execution_count": 42,
      "outputs": []
    },
    {
      "cell_type": "code",
      "source": [
        "data = data.reset_index()"
      ],
      "metadata": {
        "id": "cFY7zx_OcZbm"
      },
      "execution_count": 43,
      "outputs": []
    },
    {
      "cell_type": "code",
      "source": [
        "train = data[['최고기온', '최저기온', '일교차', '강수량', '평균습도', '평균풍속', '일조합', '일사합', '일조율']]\n",
        "\n",
        "target = data['평균기온']"
      ],
      "metadata": {
        "id": "1wS3-ryEbi0r"
      },
      "execution_count": 44,
      "outputs": []
    },
    {
      "cell_type": "code",
      "source": [
        "print(train.head())\n",
        "print(train.info())"
      ],
      "metadata": {
        "colab": {
          "base_uri": "https://localhost:8080/"
        },
        "id": "2nz07eBkbmok",
        "outputId": "4af16d22-11ad-4137-e5ea-3821415473c3"
      },
      "execution_count": 45,
      "outputs": [
        {
          "output_type": "stream",
          "name": "stdout",
          "text": [
            "   최고기온  최저기온   일교차  강수량  평균습도  평균풍속  일조합  일사합   일조율\n",
            "0   2.2  -5.2   7.4  0.3  68.3   1.7  6.7  8.0  63.7\n",
            "1   1.2  -5.6   6.8  0.4  87.7   1.3  0.0  8.0  63.7\n",
            "2   8.7  -2.1  10.8  0.0  81.3   3.0  0.0  8.0  63.7\n",
            "3  10.8   1.2   9.6  0.0  79.7   4.4  2.6  8.0  63.7\n",
            "4   1.3  -8.2   9.5  0.3  44.0   5.1  8.2  8.0  63.7\n",
            "<class 'pandas.core.frame.DataFrame'>\n",
            "RangeIndex: 22995 entries, 0 to 22994\n",
            "Data columns (total 9 columns):\n",
            " #   Column  Non-Null Count  Dtype  \n",
            "---  ------  --------------  -----  \n",
            " 0   최고기온    22995 non-null  float64\n",
            " 1   최저기온    22995 non-null  float64\n",
            " 2   일교차     22995 non-null  float64\n",
            " 3   강수량     22995 non-null  float64\n",
            " 4   평균습도    22995 non-null  float64\n",
            " 5   평균풍속    22995 non-null  float64\n",
            " 6   일조합     22995 non-null  float64\n",
            " 7   일사합     22995 non-null  float64\n",
            " 8   일조율     22995 non-null  float64\n",
            "dtypes: float64(9)\n",
            "memory usage: 1.6 MB\n",
            "None\n"
          ]
        }
      ]
    },
    {
      "cell_type": "code",
      "source": [
        "target.head()"
      ],
      "metadata": {
        "colab": {
          "base_uri": "https://localhost:8080/"
        },
        "id": "B3wdUeLQdyKx",
        "outputId": "d3c58baa-a341-4fbe-8364-0d4edb1f8c0b"
      },
      "execution_count": 46,
      "outputs": [
        {
          "output_type": "execute_result",
          "data": {
            "text/plain": [
              "0   -1.6\n",
              "1   -1.9\n",
              "2    4.0\n",
              "3    7.5\n",
              "4   -4.6\n",
              "Name: 평균기온, dtype: float64"
            ]
          },
          "metadata": {},
          "execution_count": 46
        }
      ]
    },
    {
      "cell_type": "code",
      "source": [
        "train = train[3650:]\n",
        "target = target[3650:]\n",
        "\n",
        "train = train.reset_index()\n",
        "target = target.reset_index()\n",
        "\n",
        "\n",
        "print(train.info())\n",
        "print(target.info())"
      ],
      "metadata": {
        "colab": {
          "base_uri": "https://localhost:8080/"
        },
        "id": "2cycl6FJcDB8",
        "outputId": "37db1a89-9086-493a-e193-365354eee51d"
      },
      "execution_count": 47,
      "outputs": [
        {
          "output_type": "stream",
          "name": "stdout",
          "text": [
            "<class 'pandas.core.frame.DataFrame'>\n",
            "RangeIndex: 19345 entries, 0 to 19344\n",
            "Data columns (total 10 columns):\n",
            " #   Column  Non-Null Count  Dtype  \n",
            "---  ------  --------------  -----  \n",
            " 0   index   19345 non-null  int64  \n",
            " 1   최고기온    19345 non-null  float64\n",
            " 2   최저기온    19345 non-null  float64\n",
            " 3   일교차     19345 non-null  float64\n",
            " 4   강수량     19345 non-null  float64\n",
            " 5   평균습도    19345 non-null  float64\n",
            " 6   평균풍속    19345 non-null  float64\n",
            " 7   일조합     19345 non-null  float64\n",
            " 8   일사합     19345 non-null  float64\n",
            " 9   일조율     19345 non-null  float64\n",
            "dtypes: float64(9), int64(1)\n",
            "memory usage: 1.5 MB\n",
            "None\n",
            "<class 'pandas.core.frame.DataFrame'>\n",
            "RangeIndex: 19345 entries, 0 to 19344\n",
            "Data columns (total 2 columns):\n",
            " #   Column  Non-Null Count  Dtype  \n",
            "---  ------  --------------  -----  \n",
            " 0   index   19345 non-null  int64  \n",
            " 1   평균기온    19345 non-null  float64\n",
            "dtypes: float64(1), int64(1)\n",
            "memory usage: 302.4 KB\n",
            "None\n"
          ]
        }
      ]
    },
    {
      "cell_type": "code",
      "source": [
        "train = train.drop('index', axis=1)\n",
        "target = target.drop('index', axis=1)\n",
        "\n",
        "print(train.info())\n",
        "print(target.info())"
      ],
      "metadata": {
        "colab": {
          "base_uri": "https://localhost:8080/"
        },
        "id": "Gpnqezhpe4nu",
        "outputId": "bac82637-d4e6-411c-f5ce-4091d2e6cae2"
      },
      "execution_count": 51,
      "outputs": [
        {
          "output_type": "stream",
          "name": "stdout",
          "text": [
            "<class 'pandas.core.frame.DataFrame'>\n",
            "RangeIndex: 19345 entries, 0 to 19344\n",
            "Data columns (total 9 columns):\n",
            " #   Column  Non-Null Count  Dtype  \n",
            "---  ------  --------------  -----  \n",
            " 0   최고기온    19345 non-null  float64\n",
            " 1   최저기온    19345 non-null  float64\n",
            " 2   일교차     19345 non-null  float64\n",
            " 3   강수량     19345 non-null  float64\n",
            " 4   평균습도    19345 non-null  float64\n",
            " 5   평균풍속    19345 non-null  float64\n",
            " 6   일조합     19345 non-null  float64\n",
            " 7   일사합     19345 non-null  float64\n",
            " 8   일조율     19345 non-null  float64\n",
            "dtypes: float64(9)\n",
            "memory usage: 1.3 MB\n",
            "None\n",
            "<class 'pandas.core.frame.DataFrame'>\n",
            "RangeIndex: 19345 entries, 0 to 19344\n",
            "Data columns (total 1 columns):\n",
            " #   Column  Non-Null Count  Dtype  \n",
            "---  ------  --------------  -----  \n",
            " 0   평균기온    19345 non-null  float64\n",
            "dtypes: float64(1)\n",
            "memory usage: 151.3 KB\n",
            "None\n"
          ]
        }
      ]
    },
    {
      "cell_type": "code",
      "source": [
        "from sklearn.preprocessing import PolynomialFeatures\n",
        "poly = PolynomialFeatures()\n",
        "poly.fit(train)\n",
        "train_poly = poly.transform(train)\n",
        "\n",
        "from sklearn.linear_model import LinearRegression\n",
        "lr = LinearRegression()\n",
        "lr.fit(train_poly, target)\n",
        "\n",
        "# print(lr.score(train_poly, target))\n",
        "\n",
        "from sklearn.metrics import mean_absolute_error\n",
        "lr_pred = lr.predict(train_poly)\n",
        "\n",
        "lr_mae = mean_absolute_error(target, lr_pred)\n",
        "\n",
        "print(\"훈련 세트 MAE:\", lr_mae)\n",
        "\n",
        "submission['평균기온'] = lr_pred[:358]\n",
        "# submission.to_csv(\"DEAGYUL_9_submission.csv\", index=False)\n",
        "\n",
        "print(submission.head(100))"
      ],
      "metadata": {
        "colab": {
          "base_uri": "https://localhost:8080/"
        },
        "id": "ni7RcfVQeLeR",
        "outputId": "897fbb86-9830-410c-fb69-3bec2d4340d2"
      },
      "execution_count": 52,
      "outputs": [
        {
          "output_type": "stream",
          "name": "stdout",
          "text": [
            "훈련 세트 MAE: 0.3578173282465275\n",
            "            일시       평균기온\n",
            "0   2023-01-01   0.094039\n",
            "1   2023-01-02  -1.001492\n",
            "2   2023-01-03  -4.980850\n",
            "3   2023-01-04 -13.596549\n",
            "4   2023-01-05 -14.820412\n",
            "..         ...        ...\n",
            "95  2023-04-06   8.036493\n",
            "96  2023-04-07   7.526149\n",
            "97  2023-04-08   7.909111\n",
            "98  2023-04-09  10.752963\n",
            "99  2023-04-10  12.919923\n",
            "\n",
            "[100 rows x 2 columns]\n"
          ]
        }
      ]
    },
    {
      "cell_type": "code",
      "source": [
        "submission.to_csv(\"DEAGYUL_19_submission.csv\", index=False)\n",
        "\n",
        "print(submission.head(30))"
      ],
      "metadata": {
        "colab": {
          "base_uri": "https://localhost:8080/"
        },
        "id": "2IzJhLXufCXo",
        "outputId": "62757c63-410a-4854-8b09-24b2ca4cb71a"
      },
      "execution_count": 53,
      "outputs": [
        {
          "output_type": "stream",
          "name": "stdout",
          "text": [
            "            일시       평균기온\n",
            "0   2023-01-01   0.094039\n",
            "1   2023-01-02  -1.001492\n",
            "2   2023-01-03  -4.980850\n",
            "3   2023-01-04 -13.596549\n",
            "4   2023-01-05 -14.820412\n",
            "5   2023-01-06  -4.073376\n",
            "6   2023-01-07  -4.346673\n",
            "7   2023-01-08  -3.827487\n",
            "8   2023-01-09  -7.116881\n",
            "9   2023-01-10  -6.125682\n",
            "10  2023-01-11  -3.958298\n",
            "11  2023-01-12  -0.426415\n",
            "12  2023-01-13  -8.951407\n",
            "13  2023-01-14 -10.146280\n",
            "14  2023-01-15 -12.394464\n",
            "15  2023-01-16 -11.814327\n",
            "16  2023-01-17 -11.409095\n",
            "17  2023-01-18  -8.535631\n",
            "18  2023-01-19  -6.908598\n",
            "19  2023-01-20  -5.588712\n",
            "20  2023-01-21  -2.834235\n",
            "21  2023-01-22   1.411281\n",
            "22  2023-01-23  -4.200978\n",
            "23  2023-01-24  -5.376997\n",
            "24  2023-01-25  -2.900670\n",
            "25  2023-01-26  -0.036012\n",
            "26  2023-01-27   1.239943\n",
            "27  2023-01-28   2.617267\n",
            "28  2023-01-29   2.319372\n",
            "29  2023-01-30   1.872337\n"
          ]
        }
      ]
    },
    {
      "cell_type": "markdown",
      "source": [
        "제일 괜찮은 점수를 받았던 모델에 전처리를 적용했는데 점수가 처참\n",
        "\n",
        "적용해본 거\n",
        "\n",
        "1. 윤년 삭제\n",
        "2. 선형회귀에서 가장 효과가 좋았던 70년대 이후 데이터로 적용"
      ],
      "metadata": {
        "id": "ymCNxJ3Efiim"
      }
    }
  ]
}