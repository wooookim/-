{
  "nbformat": 4,
  "nbformat_minor": 0,
  "metadata": {
    "colab": {
      "provenance": [],
      "authorship_tag": "ABX9TyOQ3easZS/TeEsoewOTqvTl",
      "include_colab_link": true
    },
    "kernelspec": {
      "name": "python3",
      "display_name": "Python 3"
    },
    "language_info": {
      "name": "python"
    }
  },
  "cells": [
    {
      "cell_type": "markdown",
      "metadata": {
        "id": "view-in-github",
        "colab_type": "text"
      },
      "source": [
        "<a href=\"https://colab.research.google.com/github/wooookim/ML-DL/blob/main/1_2_KNN.ipynb\" target=\"_parent\"><img src=\"https://colab.research.google.com/assets/colab-badge.svg\" alt=\"Open In Colab\"/></a>"
      ]
    },
    {
      "cell_type": "code",
      "execution_count": 12,
      "metadata": {
        "colab": {
          "base_uri": "https://localhost:8080/"
        },
        "id": "SExLdw-pxot1",
        "outputId": "6933b0a6-9d6f-4a9e-ded4-799afd3f98f6"
      },
      "outputs": [
        {
          "output_type": "execute_result",
          "data": {
            "text/plain": [
              "0.7142857142857143"
            ]
          },
          "metadata": {},
          "execution_count": 12
        }
      ],
      "source": [
        "bream_length = [25.4, 26.3, 26.5, 29.0, 29.0, 29.7, 29.7, 30.0, 30.0, 30.7, 31.0, 31.0,\n",
        "                31.5, 32.0, 32.0, 32.0, 33.0, 33.0, 33.5, 33.5, 34.0, 34.0, 34.5, 35.0,\n",
        "                35.0, 35.0, 35.0, 36.0, 36.0, 37.0, 38.5, 38.5, 39.5, 41.0, 41.0]\n",
        "bream_weight = [242.0, 290.0, 340.0, 363.0, 430.0, 450.0, 500.0, 390.0, 450.0, 500.0, 475.0, 500.0,\n",
        "                500.0, 340.0, 600.0, 600.0, 700.0, 700.0, 610.0, 650.0, 575.0, 685.0, 620.0, 680.0,\n",
        "                700.0, 725.0, 720.0, 714.0, 850.0, 1000.0, 920.0, 955.0, 925.0, 975.0, 950.0]\n",
        "\n",
        "import matplotlib.pyplot as plt\n",
        "# plt.scatter(bream_length, bream_weight)\n",
        "# plt.xlabel('length')\n",
        "# plt.ylabel('wieght')\n",
        "# plt.show()\n",
        "\n",
        "\n",
        "smelt_length = [9.8, 10.5, 10.6, 11.0, 11.2, 11.3, 11.8, 11.8, 12.0, 12.2, 12.4, 13.0, 14.3, 15.0]\n",
        "smelt_weight = [6.7, 7.5, 7.0, 9.7, 9.8, 8.7, 10.0, 9.9, 9.8, 12.2, 13.4, 12.2, 19.7, 19.9]\n",
        "\n",
        "# plt.scatter(bream_length, bream_weight)\n",
        "# plt.scatter(smelt_length, smelt_weight)\n",
        "# plt.xlabel('length')\n",
        "# plt.ylabel('weight')\n",
        "# plt.show()\n",
        "\n",
        "length = bream_length + smelt_length\n",
        "weight = bream_weight + smelt_weight\n",
        "\n",
        "# 사이킷런 패키지 사용을 위한 2차원 리스트로 변환\n",
        "fish_data = [[l, w] for l, w in zip(length, weight)]    # 훈련 데이터\n",
        "fish_target = [1]*35 + [0]*14    # 타겟 데이터\n",
        "\n",
        "from sklearn.neighbors import KNeighborsClassifier\n",
        "kn = KNeighborsClassifier()\n",
        "kn.fit(fish_data, fish_target)\n",
        "kn.score(fish_data, fish_target)   # 정확도\n",
        "\n",
        "\n",
        "'''\n",
        "k-최근접 이웃 알고리즘\n",
        "- 어떤 데이터에 대한 답을 구할 때 주위의 다른 데이터를 보고 다수를 차지하는 것을 정답으로 사용\n",
        "- 새로운 데이터에 대한 예측을 할 때 가장 가까운 직선 거리에 어떤 데이터가 있는지 확인\n",
        "\n",
        "- 데이터가 아주 많은 경웅 사용이 어려움\n",
        "- 데이터가 크기 때문에 메모리가 많이 필요하고 직선거리를 계산하는 데에 많은 시간 필요\n",
        "'''\n",
        "\n",
        "\n",
        "kn.predict([[30, 600]])   # 2차원 리스트를 넣어야 됨 -> [[]]  # 예시 샘플 데이터 예측 / 1로 예측\n",
        "\n",
        "kn._fit_X   # 속성\n",
        "kn._y   # 타겟\n",
        "\n",
        "kn49 = KNeighborsClassifier(n_neighbors = 49)   # 참고 데이터를 49개로 지정\n",
        "kn49.fit(fish_data, fish_target)\n",
        "kn49.score(fish_data, fish_target)"
      ]
    }
  ]
}