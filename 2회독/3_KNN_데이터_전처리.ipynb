{
  "nbformat": 4,
  "nbformat_minor": 0,
  "metadata": {
    "colab": {
      "provenance": [],
      "authorship_tag": "ABX9TyNOMUGSqDNxsG+w4l5FNE+J",
      "include_colab_link": true
    },
    "kernelspec": {
      "name": "python3",
      "display_name": "Python 3"
    },
    "language_info": {
      "name": "python"
    }
  },
  "cells": [
    {
      "cell_type": "markdown",
      "metadata": {
        "id": "view-in-github",
        "colab_type": "text"
      },
      "source": [
        "<a href=\"https://colab.research.google.com/github/wooookim/ML-DL/blob/main/3_KNN_%EB%8D%B0%EC%9D%B4%ED%84%B0_%EC%A0%84%EC%B2%98%EB%A6%AC.ipynb\" target=\"_parent\"><img src=\"https://colab.research.google.com/assets/colab-badge.svg\" alt=\"Open In Colab\"/></a>"
      ]
    },
    {
      "cell_type": "code",
      "execution_count": 11,
      "metadata": {
        "colab": {
          "base_uri": "https://localhost:8080/",
          "height": 449
        },
        "id": "-RDpEeuxDhxu",
        "outputId": "d8ba6174-4a67-4786-8c63-e04dc9f63851"
      },
      "outputs": [
        {
          "output_type": "display_data",
          "data": {
            "text/plain": [
              "<Figure size 640x480 with 1 Axes>"
            ],
            "image/png": "[encoded data removed]"
          },
          "metadata": {}
        }
      ],
      "source": [
        "fish_length = [25.4, 26.3, 26.5, 29.0, 29.0, 29.7, 29.7, 30.0, 30.0, 30.7, 31.0, 31.0,\n",
        "                31.5, 32.0, 32.0, 32.0, 33.0, 33.0, 33.5, 33.5, 34.0, 34.0, 34.5, 35.0,\n",
        "                35.0, 35.0, 35.0, 36.0, 36.0, 37.0, 38.5, 38.5, 39.5, 41.0, 41.0, 9.8,\n",
        "                10.5, 10.6, 11.0, 11.2, 11.3, 11.8, 11.8, 12.0, 12.2, 12.4, 13.0, 14.3, 15.0]\n",
        "fish_weight = [242.0, 290.0, 340.0, 363.0, 430.0, 450.0, 500.0, 390.0, 450.0, 500.0, 475.0, 500.0,\n",
        "                500.0, 340.0, 600.0, 600.0, 700.0, 700.0, 610.0, 650.0, 575.0, 685.0, 620.0, 680.0,\n",
        "                700.0, 725.0, 720.0, 714.0, 850.0, 1000.0, 920.0, 955.0, 925.0, 975.0, 950.0, 6.7,\n",
        "                7.5, 7.0, 9.7, 9.8, 8.7, 10.0, 9.9, 9.8, 12.2, 13.4, 12.2, 19.7, 19.9]\n",
        "\n",
        "import numpy as np\n",
        "fish_data = np.column_stack((fish_length, fish_weight))  # 행-열 변환\n",
        "\n",
        "fish_target = np.concatenate((np.ones(35), np.zeros(14)))  # 배열 연결\n",
        "\n",
        "from sklearn.model_selection import train_test_split\n",
        "train_input, test_input, train_target, test_target = train_test_split(fish_data, fish_target, stratify = fish_target, random_state = 42)  # stratify = fish_target 타겟값으로 분리 비율 조정\n",
        "\n",
        "from sklearn.neighbors import KNeighborsClassifier\n",
        "kn = KNeighborsClassifier()\n",
        "kn.fit(train_input, train_target)\n",
        "kn.score(test_input, test_target)\n",
        "\n",
        "# print(kn.predict([[25, 150]]))  # 이상 데이터\n",
        "\n",
        "import matplotlib.pyplot as plt\n",
        "# plt.scatter(train_input[:, 0], train_input[:, 1])\n",
        "# plt.scatter(25, 150, marker = '^')\n",
        "# plt.xlabel('length')\n",
        "# plt.ylabel('weight')\n",
        "# plt.show()\n",
        "\n",
        "distances, indexes = kn.kneighbors([[25, 150]])\n",
        "\n",
        "# plt.scatter(train_input[:, 0], train_input[:, 1])\n",
        "# plt.scatter(25, 150, marker = '^')\n",
        "# plt.scatter(train_input[indexes, 0], train_input[indexes, 1], marker = 'D')\n",
        "# plt.xlabel('length')\n",
        "# plt.ylabel('weight')\n",
        "# plt.show()\n",
        "\n",
        "# plt.scatter(train_input[:, 0], train_input[:, 1])\n",
        "# plt.scatter(25, 150, marker = '^')\n",
        "# plt.scatter(train_input[indexes, 0], train_input[indexes, 1], marker = 'D')\n",
        "# plt.xlim((0, 1000))\n",
        "# plt.xlabel('length')\n",
        "# plt.ylabel('weight')\n",
        "# plt.show()\n",
        "\n",
        "\n",
        "'''\n",
        "스케일 차이\n",
        "- 두 특성 간 범위 차이\n",
        "\n",
        "데이터 전처리\n",
        "- 알고리즘들은 샘플 간 거리에 영향을 많이 받으므로 특성값을 일정한 기준으로 맞춰야 됨\n",
        "\n",
        "표준 점수(z점수)\n",
        "- 특성값이 평균에서 표준편차의 몇배만큼 떨어져 있는지를 나타냄\n",
        "- 각 데이터가 원점에서 몇 표준편차만큼 떨어져 있는지 나타내는 값\n",
        "\n",
        "분산\n",
        "- 데이터에서 평균을 뺀 값을 모두 제곱한 다음 평균을 내어 구함\n",
        "\n",
        "표준편차\n",
        "- 분산의 제곱근으로 데이터가 분산된 정도를 나타냄\n",
        "'''\n",
        "\n",
        "mean = np.mean(train_input, axis = 0)  #  열 기준\n",
        "std = np.std(train_input, axis = 0)\n",
        "\n",
        "train_scaled = (train_input - mean) / std\n",
        "new = ([25, 150] - mean) / std\n",
        "\n",
        "# plt.scatter(train_scaled[:, 0], train_scaled[:, 1])\n",
        "# plt.scatter(new[0], new[1], marker = '^')\n",
        "# plt.xlabel('length')\n",
        "# plt.ylabel('weight')\n",
        "# plt.show()\n",
        "\n",
        "kn.fit(train_scaled, train_target)\n",
        "\n",
        "test_scaled = (test_input - mean) / std\n",
        "\n",
        "kn.score(test_scaled, test_target)\n",
        "\n",
        "distances, indexes = kn.kneighbors([new])\n",
        "plt.scatter(train_scaled[:, 0], train_scaled[:, 1])\n",
        "plt.scatter(new[0], new[1], marker = '^')\n",
        "plt.scatter(train_scaled[indexes, 0], train_scaled[indexes, 1], marker = 'D')\n",
        "plt.xlabel('length')\n",
        "plt.ylabel('weight')\n",
        "plt.show()"
      ]
    }
  ]
}
