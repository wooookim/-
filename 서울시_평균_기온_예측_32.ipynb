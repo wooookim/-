{
  "cells": [
    {
      "cell_type": "markdown",
      "metadata": {
        "id": "view-in-github",
        "colab_type": "text"
      },
      "source": [
        "<a href=\"https://colab.research.google.com/github/wooookim/ML-DL/blob/main/%EC%84%9C%EC%9A%B8%EC%8B%9C_%ED%8F%89%EA%B7%A0_%EA%B8%B0%EC%98%A8_%EC%98%88%EC%B8%A1_32.ipynb\" target=\"_parent\"><img src=\"https://colab.research.google.com/assets/colab-badge.svg\" alt=\"Open In Colab\"/></a>"
      ]
    },
    {
      "cell_type": "code",
      "execution_count": 1,
      "metadata": {
        "id": "zEewGZ_ksUcv"
      },
      "outputs": [],
      "source": [
        "import pandas as pd\n",
        "import numpy as np\n",
        "from datetime import datetime\n",
        "import warnings\n",
        "warnings.filterwarnings('ignore')"
      ]
    },
    {
      "cell_type": "code",
      "execution_count": 2,
      "metadata": {
        "id": "HhTEcZ7hsxKZ"
      },
      "outputs": [],
      "source": [
        "data = pd.read_csv('/content/train.csv')\n",
        "submission = pd.read_csv('/content/sample_submission.csv')\n",
        "target = pd.read_csv('/content/target.csv', encoding = 'cp949')"
      ]
    },
    {
      "cell_type": "code",
      "execution_count": null,
      "metadata": {
        "id": "PHZgjmj-tOU1"
      },
      "outputs": [],
      "source": [
        "!pip install autokeras"
      ]
    },
    {
      "cell_type": "code",
      "execution_count": 4,
      "metadata": {
        "id": "2KihZ9WRtHlw",
        "colab": {
          "base_uri": "https://localhost:8080/"
        },
        "outputId": "e34adc66-842e-4e24-ecae-1917f6de141c"
      },
      "outputs": [
        {
          "output_type": "stream",
          "name": "stdout",
          "text": [
            "Using TensorFlow backend\n"
          ]
        }
      ],
      "source": [
        "import tensorflow as tf\n",
        "import autokeras as ak"
      ]
    },
    {
      "cell_type": "code",
      "execution_count": 5,
      "metadata": {
        "id": "60dFCFa0uSxg"
      },
      "outputs": [],
      "source": [
        "# '일시' 열을 날짜 데이터로 변환\n",
        "data['일시'] = pd.to_datetime(data['일시'])\n",
        "\n",
        "current_year = datetime.now().year\n",
        "\n",
        "# 2월 29일에 해당하는 행 선택\n",
        "selected_rows = data[(data['일시'].dt.month == 2) & (data['일시'].dt.day == 29)]\n",
        "\n",
        "# 선택한 행의 인덱스를 사용하여 삭제\n",
        "data = data.drop(selected_rows.index)"
      ]
    },
    {
      "cell_type": "code",
      "execution_count": 6,
      "metadata": {
        "id": "x3B-s8rpuL9d"
      },
      "outputs": [],
      "source": [
        "# 계절 분류 함수 정의\n",
        "def classify_season(month):\n",
        "    if  month == 1 or month == 2 or month == 12:\n",
        "        return '겨울'\n",
        "    elif 3 <= month <= 5:\n",
        "        return '봄'\n",
        "    elif 6 <= month <= 8:\n",
        "        return '여름'\n",
        "    else:\n",
        "        return '가을'\n",
        "\n",
        "# '일시' 컬럼에서 월 정보를 추출하여 '계절' 열 추가\n",
        "data['월'] = data['일시'].dt.month\n",
        "data['계절'] = data['월'].apply(classify_season)\n",
        "\n",
        "# 계절별 중앙값 계산\n",
        "seasonal_medians = data.groupby('계절').transform('median')\n",
        "\n",
        "# 결측값 대체\n",
        "data.fillna(seasonal_medians, inplace=True)"
      ]
    },
    {
      "cell_type": "code",
      "execution_count": 7,
      "metadata": {
        "colab": {
          "base_uri": "https://localhost:8080/"
        },
        "id": "zjDG1lVcsPiW",
        "outputId": "df96ace7-ad04-48d8-cddd-0dfdc4e55575"
      },
      "outputs": [
        {
          "output_type": "stream",
          "name": "stdout",
          "text": [
            "Trial 1 Complete [00h 00m 45s]\n",
            "val_loss: 27.817323684692383\n",
            "\n",
            "Best val_loss So Far: 27.817323684692383\n",
            "Total elapsed time: 00h 00m 45s\n",
            "Epoch 1/10\n",
            "719/719 [==============================] - 4s 4ms/step - loss: 71.3991 - mean_squared_error: 71.3991\n",
            "Epoch 2/10\n",
            "719/719 [==============================] - 2s 2ms/step - loss: 26.5444 - mean_squared_error: 26.5444\n",
            "Epoch 3/10\n",
            "719/719 [==============================] - 2s 2ms/step - loss: 22.8874 - mean_squared_error: 22.8874\n",
            "Epoch 4/10\n",
            "719/719 [==============================] - 2s 2ms/step - loss: 20.2050 - mean_squared_error: 20.2050\n",
            "Epoch 5/10\n",
            "719/719 [==============================] - 2s 3ms/step - loss: 17.9133 - mean_squared_error: 17.9133\n",
            "Epoch 6/10\n",
            "719/719 [==============================] - 3s 4ms/step - loss: 15.9846 - mean_squared_error: 15.9846\n",
            "Epoch 7/10\n",
            "719/719 [==============================] - 2s 2ms/step - loss: 14.4187 - mean_squared_error: 14.4187\n",
            "Epoch 8/10\n",
            "719/719 [==============================] - 2s 2ms/step - loss: 13.1158 - mean_squared_error: 13.1158\n",
            "Epoch 9/10\n",
            "719/719 [==============================] - 2s 2ms/step - loss: 12.0696 - mean_squared_error: 12.0696\n",
            "Epoch 10/10\n",
            "719/719 [==============================] - 2s 3ms/step - loss: 11.2367 - mean_squared_error: 11.2367\n"
          ]
        },
        {
          "output_type": "execute_result",
          "data": {
            "text/plain": [
              "<keras.src.callbacks.History at 0x7ddfd39e62f0>"
            ]
          },
          "metadata": {},
          "execution_count": 7
        }
      ],
      "source": [
        "# 입력 특성과 출력 정의\n",
        "x_train = data.drop(columns=['평균기온'])  # 입력 특성\n",
        "y_train = data['평균기온']  # 출력 정답\n",
        "\n",
        "# AutoML 모델 정의\n",
        "regressor = ak.StructuredDataRegressor(max_trials=1)  # max_trials는 조정 가능\n",
        "\n",
        "# 모델 훈련\n",
        "regressor.fit(x_train, y_train, epochs=10)"
      ]
    },
    {
      "cell_type": "code",
      "execution_count": 8,
      "metadata": {
        "colab": {
          "base_uri": "https://localhost:8080/"
        },
        "id": "broaJ5l5u_L-",
        "outputId": "03b04c1f-1390-402a-d432-3ef7caa923e8"
      },
      "outputs": [
        {
          "output_type": "stream",
          "name": "stdout",
          "text": [
            "Model: \"model\"\n",
            "_________________________________________________________________\n",
            " Layer (type)                Output Shape              Param #   \n",
            "=================================================================\n",
            " input_1 (InputLayer)        [(None, 12)]              0         \n",
            "                                                                 \n",
            " multi_category_encoding (M  (None, 12)                0         \n",
            " ultiCategoryEncoding)                                           \n",
            "                                                                 \n",
            " normalization (Normalizati  (None, 12)                25        \n",
            " on)                                                             \n",
            "                                                                 \n",
            " dense (Dense)               (None, 32)                416       \n",
            "                                                                 \n",
            " re_lu (ReLU)                (None, 32)                0         \n",
            "                                                                 \n",
            " dense_1 (Dense)             (None, 32)                1056      \n",
            "                                                                 \n",
            " re_lu_1 (ReLU)              (None, 32)                0         \n",
            "                                                                 \n",
            " regression_head_1 (Dense)   (None, 1)                 33        \n",
            "                                                                 \n",
            "=================================================================\n",
            "Total params: 1530 (5.98 KB)\n",
            "Trainable params: 1505 (5.88 KB)\n",
            "Non-trainable params: 25 (104.00 Byte)\n",
            "_________________________________________________________________\n"
          ]
        }
      ],
      "source": [
        "# AutoKeras 모델 확인\n",
        "model = regressor.export_model()  # AutoKeras 모델을 내보내서 TensorFlow 모델로 변환\n",
        "model.summary()  # TensorFlow 모델의 구조 확인"
      ]
    },
    {
      "cell_type": "code",
      "execution_count": 9,
      "metadata": {
        "colab": {
          "base_uri": "https://localhost:8080/"
        },
        "id": "Gx5gT0-Pv2ox",
        "outputId": "25722222-6c1c-43ee-ad03-5a4199aefc7a"
      },
      "outputs": [
        {
          "output_type": "stream",
          "name": "stdout",
          "text": [
            "719/719 [==============================] - 2s 3ms/step\n",
            "719/719 [==============================] - 1s 2ms/step\n"
          ]
        }
      ],
      "source": [
        "reg_pred = regressor.predict(x_train)"
      ]
    },
    {
      "cell_type": "code",
      "source": [
        "import numpy as np\n",
        "\n",
        "# 주어진 배열\n",
        "input_array = np.array(reg_pred)  # 22995개의 행\n",
        "\n",
        "# 365행을 갖는 62개의 열로 변환\n",
        "output_array = input_array.reshape((63, 365))"
      ],
      "metadata": {
        "id": "K_zoelL1dA_R"
      },
      "execution_count": 10,
      "outputs": []
    },
    {
      "cell_type": "code",
      "source": [
        "# 각 열별로 중앙값 계산하여 365개의 행으로 만들기\n",
        "medians = np.median(output_array, axis=0)\n",
        "result_array = medians.reshape((365, 1))"
      ],
      "metadata": {
        "id": "70NVUZXsdXHB"
      },
      "execution_count": 12,
      "outputs": []
    },
    {
      "cell_type": "code",
      "source": [
        "submission['평균기온'] = result_array[:358]\n",
        "print(submission.head(30))"
      ],
      "metadata": {
        "colab": {
          "base_uri": "https://localhost:8080/"
        },
        "id": "1MNjZzWUcToo",
        "outputId": "a6c887f3-007d-4a04-bd75-746f8cce64dc"
      },
      "execution_count": 13,
      "outputs": [
        {
          "output_type": "stream",
          "name": "stdout",
          "text": [
            "            일시      평균기온\n",
            "0   2023-01-01 -0.862728\n",
            "1   2023-01-02 -0.564053\n",
            "2   2023-01-03 -1.318483\n",
            "3   2023-01-04 -2.009847\n",
            "4   2023-01-05 -1.793496\n",
            "5   2023-01-06 -1.167435\n",
            "6   2023-01-07 -1.280011\n",
            "7   2023-01-08 -1.608852\n",
            "8   2023-01-09 -1.439035\n",
            "9   2023-01-10 -0.779074\n",
            "10  2023-01-11 -1.897509\n",
            "11  2023-01-12 -2.256212\n",
            "12  2023-01-13 -2.725864\n",
            "13  2023-01-14 -3.362925\n",
            "14  2023-01-15 -1.616807\n",
            "15  2023-01-16 -1.159448\n",
            "16  2023-01-17 -2.077671\n",
            "17  2023-01-18 -2.454230\n",
            "18  2023-01-19 -3.174580\n",
            "19  2023-01-20 -1.644116\n",
            "20  2023-01-21 -1.484362\n",
            "21  2023-01-22 -1.483323\n",
            "22  2023-01-23 -1.690084\n",
            "23  2023-01-24 -2.171626\n",
            "24  2023-01-25 -1.183056\n",
            "25  2023-01-26 -1.785281\n",
            "26  2023-01-27 -1.322183\n",
            "27  2023-01-28 -1.238248\n",
            "28  2023-01-29 -0.873744\n",
            "29  2023-01-30 -1.391449\n"
          ]
        }
      ]
    },
    {
      "cell_type": "code",
      "source": [
        "submission.to_csv(\"DEAGYUL_26_submission.csv\", index=False)\n",
        "\n",
        "print(submission.head())"
      ],
      "metadata": {
        "colab": {
          "base_uri": "https://localhost:8080/"
        },
        "id": "8qoSUezyeVHQ",
        "outputId": "85ba5553-8a38-4e2c-f351-91371e66b403"
      },
      "execution_count": 14,
      "outputs": [
        {
          "output_type": "stream",
          "name": "stdout",
          "text": [
            "           일시      평균기온\n",
            "0  2023-01-01 -0.862728\n",
            "1  2023-01-02 -0.564053\n",
            "2  2023-01-03 -1.318483\n",
            "3  2023-01-04 -2.009847\n",
            "4  2023-01-05 -1.793496\n"
          ]
        }
      ]
    }
  ],
  "metadata": {
    "colab": {
      "provenance": [],
      "authorship_tag": "ABX9TyPKNbmdmlMhuv037Ruc+sjm",
      "include_colab_link": true
    },
    "kernelspec": {
      "display_name": "Python 3",
      "name": "python3"
    },
    "language_info": {
      "name": "python"
    }
  },
  "nbformat": 4,
  "nbformat_minor": 0
}