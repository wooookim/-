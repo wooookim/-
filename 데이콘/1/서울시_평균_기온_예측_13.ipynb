{
  "nbformat": 4,
  "nbformat_minor": 0,
  "metadata": {
    "colab": {
      "provenance": [],
      "authorship_tag": "ABX9TyPqkgs/eNGo74AeTH+eE79V",
      "include_colab_link": true
    },
    "kernelspec": {
      "name": "python3",
      "display_name": "Python 3"
    },
    "language_info": {
      "name": "python"
    }
  },
  "cells": [
    {
      "cell_type": "markdown",
      "metadata": {
        "id": "view-in-github",
        "colab_type": "text"
      },
      "source": [
        "<a href=\"https://colab.research.google.com/github/wooookim/ML-DL/blob/main/%EC%84%9C%EC%9A%B8%EC%8B%9C_%ED%8F%89%EA%B7%A0_%EA%B8%B0%EC%98%A8_%EC%98%88%EC%B8%A1_13.ipynb\" target=\"_parent\"><img src=\"https://colab.research.google.com/assets/colab-badge.svg\" alt=\"Open In Colab\"/></a>"
      ]
    },
    {
      "cell_type": "code",
      "execution_count": 1,
      "metadata": {
        "colab": {
          "base_uri": "https://localhost:8080/",
          "height": 76
        },
        "id": "FZL_IljTMm9h",
        "outputId": "2a43b5a9-221c-42ac-dd58-efdface90797"
      },
      "outputs": [
        {
          "output_type": "display_data",
          "data": {
            "text/plain": [
              "<IPython.core.display.HTML object>"
            ],
            "text/html": [
              "\n",
              "     <input type=\"file\" id=\"files-679a92a6-4713-42f3-b11f-fd9c883f6728\" name=\"files[]\" multiple disabled\n",
              "        style=\"border:none\" />\n",
              "     <output id=\"result-679a92a6-4713-42f3-b11f-fd9c883f6728\">\n",
              "      Upload widget is only available when the cell has been executed in the\n",
              "      current browser session. Please rerun this cell to enable.\n",
              "      </output>\n",
              "      <script>// Copyright 2017 Google LLC\n",
              "//\n",
              "// Licensed under the Apache License, Version 2.0 (the \"License\");\n",
              "// you may not use this file except in compliance with the License.\n",
              "// You may obtain a copy of the License at\n",
              "//\n",
              "//      http://www.apache.org/licenses/LICENSE-2.0\n",
              "//\n",
              "// Unless required by applicable law or agreed to in writing, software\n",
              "// distributed under the License is distributed on an \"AS IS\" BASIS,\n",
              "// WITHOUT WARRANTIES OR CONDITIONS OF ANY KIND, either express or implied.\n",
              "// See the License for the specific language governing permissions and\n",
              "// limitations under the License.\n",
              "\n",
              "/**\n",
              " * @fileoverview Helpers for google.colab Python module.\n",
              " */\n",
              "(function(scope) {\n",
              "function span(text, styleAttributes = {}) {\n",
              "  const element = document.createElement('span');\n",
              "  element.textContent = text;\n",
              "  for (const key of Object.keys(styleAttributes)) {\n",
              "    element.style[key] = styleAttributes[key];\n",
              "  }\n",
              "  return element;\n",
              "}\n",
              "\n",
              "// Max number of bytes which will be uploaded at a time.\n",
              "const MAX_PAYLOAD_SIZE = 100 * 1024;\n",
              "\n",
              "function _uploadFiles(inputId, outputId) {\n",
              "  const steps = uploadFilesStep(inputId, outputId);\n",
              "  const outputElement = document.getElementById(outputId);\n",
              "  // Cache steps on the outputElement to make it available for the next call\n",
              "  // to uploadFilesContinue from Python.\n",
              "  outputElement.steps = steps;\n",
              "\n",
              "  return _uploadFilesContinue(outputId);\n",
              "}\n",
              "\n",
              "// This is roughly an async generator (not supported in the browser yet),\n",
              "// where there are multiple asynchronous steps and the Python side is going\n",
              "// to poll for completion of each step.\n",
              "// This uses a Promise to block the python side on completion of each step,\n",
              "// then passes the result of the previous step as the input to the next step.\n",
              "function _uploadFilesContinue(outputId) {\n",
              "  const outputElement = document.getElementById(outputId);\n",
              "  const steps = outputElement.steps;\n",
              "\n",
              "  const next = steps.next(outputElement.lastPromiseValue);\n",
              "  return Promise.resolve(next.value.promise).then((value) => {\n",
              "    // Cache the last promise value to make it available to the next\n",
              "    // step of the generator.\n",
              "    outputElement.lastPromiseValue = value;\n",
              "    return next.value.response;\n",
              "  });\n",
              "}\n",
              "\n",
              "/**\n",
              " * Generator function which is called between each async step of the upload\n",
              " * process.\n",
              " * @param {string} inputId Element ID of the input file picker element.\n",
              " * @param {string} outputId Element ID of the output display.\n",
              " * @return {!Iterable<!Object>} Iterable of next steps.\n",
              " */\n",
              "function* uploadFilesStep(inputId, outputId) {\n",
              "  const inputElement = document.getElementById(inputId);\n",
              "  inputElement.disabled = false;\n",
              "\n",
              "  const outputElement = document.getElementById(outputId);\n",
              "  outputElement.innerHTML = '';\n",
              "\n",
              "  const pickedPromise = new Promise((resolve) => {\n",
              "    inputElement.addEventListener('change', (e) => {\n",
              "      resolve(e.target.files);\n",
              "    });\n",
              "  });\n",
              "\n",
              "  const cancel = document.createElement('button');\n",
              "  inputElement.parentElement.appendChild(cancel);\n",
              "  cancel.textContent = 'Cancel upload';\n",
              "  const cancelPromise = new Promise((resolve) => {\n",
              "    cancel.onclick = () => {\n",
              "      resolve(null);\n",
              "    };\n",
              "  });\n",
              "\n",
              "  // Wait for the user to pick the files.\n",
              "  const files = yield {\n",
              "    promise: Promise.race([pickedPromise, cancelPromise]),\n",
              "    response: {\n",
              "      action: 'starting',\n",
              "    }\n",
              "  };\n",
              "\n",
              "  cancel.remove();\n",
              "\n",
              "  // Disable the input element since further picks are not allowed.\n",
              "  inputElement.disabled = true;\n",
              "\n",
              "  if (!files) {\n",
              "    return {\n",
              "      response: {\n",
              "        action: 'complete',\n",
              "      }\n",
              "    };\n",
              "  }\n",
              "\n",
              "  for (const file of files) {\n",
              "    const li = document.createElement('li');\n",
              "    li.append(span(file.name, {fontWeight: 'bold'}));\n",
              "    li.append(span(\n",
              "        `(${file.type || 'n/a'}) - ${file.size} bytes, ` +\n",
              "        `last modified: ${\n",
              "            file.lastModifiedDate ? file.lastModifiedDate.toLocaleDateString() :\n",
              "                                    'n/a'} - `));\n",
              "    const percent = span('0% done');\n",
              "    li.appendChild(percent);\n",
              "\n",
              "    outputElement.appendChild(li);\n",
              "\n",
              "    const fileDataPromise = new Promise((resolve) => {\n",
              "      const reader = new FileReader();\n",
              "      reader.onload = (e) => {\n",
              "        resolve(e.target.result);\n",
              "      };\n",
              "      reader.readAsArrayBuffer(file);\n",
              "    });\n",
              "    // Wait for the data to be ready.\n",
              "    let fileData = yield {\n",
              "      promise: fileDataPromise,\n",
              "      response: {\n",
              "        action: 'continue',\n",
              "      }\n",
              "    };\n",
              "\n",
              "    // Use a chunked sending to avoid message size limits. See b/62115660.\n",
              "    let position = 0;\n",
              "    do {\n",
              "      const length = Math.min(fileData.byteLength - position, MAX_PAYLOAD_SIZE);\n",
              "      const chunk = new Uint8Array(fileData, position, length);\n",
              "      position += length;\n",
              "\n",
              "      const base64 = btoa(String.fromCharCode.apply(null, chunk));\n",
              "      yield {\n",
              "        response: {\n",
              "          action: 'append',\n",
              "          file: file.name,\n",
              "          data: base64,\n",
              "        },\n",
              "      };\n",
              "\n",
              "      let percentDone = fileData.byteLength === 0 ?\n",
              "          100 :\n",
              "          Math.round((position / fileData.byteLength) * 100);\n",
              "      percent.textContent = `${percentDone}% done`;\n",
              "\n",
              "    } while (position < fileData.byteLength);\n",
              "  }\n",
              "\n",
              "  // All done.\n",
              "  yield {\n",
              "    response: {\n",
              "      action: 'complete',\n",
              "    }\n",
              "  };\n",
              "}\n",
              "\n",
              "scope.google = scope.google || {};\n",
              "scope.google.colab = scope.google.colab || {};\n",
              "scope.google.colab._files = {\n",
              "  _uploadFiles,\n",
              "  _uploadFilesContinue,\n",
              "};\n",
              "})(self);\n",
              "</script> "
            ]
          },
          "metadata": {}
        },
        {
          "output_type": "stream",
          "name": "stdout",
          "text": [
            "Saving train.csv to train.csv\n"
          ]
        }
      ],
      "source": [
        "from google.colab import files\n",
        "uploaded = files.upload()"
      ]
    },
    {
      "cell_type": "code",
      "source": [
        "import pandas as pd\n",
        "data = pd.read_csv('/content/train.csv')\n",
        "submission = pd.read_csv('/content/sample_submission.csv')"
      ],
      "metadata": {
        "id": "BsQ8h3M4Mu90"
      },
      "execution_count": 2,
      "outputs": []
    },
    {
      "cell_type": "code",
      "source": [
        "# '일시' 열을 날짜 데이터로 변환\n",
        "data['일시'] = pd.to_datetime(data['일시'])\n",
        "\n",
        "# '일시' 컬럼에서 '월', '일' 열 추가\n",
        "data['월'] = data['일시'].dt.month\n",
        "data['일'] = data['일시'].dt.day\n",
        "\n",
        "# 월, 일별 중앙값 계산\n",
        "monthly_medians = data.groupby('일').transform('median')\n",
        "daily_medians = data.groupby('일').transform('median')"
      ],
      "metadata": {
        "colab": {
          "base_uri": "https://localhost:8080/"
        },
        "id": "nM5Lqd-hN_y4",
        "outputId": "d927d88f-2d67-4907-a415-09b0aa43ff75"
      },
      "execution_count": 3,
      "outputs": [
        {
          "output_type": "stream",
          "name": "stderr",
          "text": [
            "<ipython-input-3-f0d9f2a84bd0>:9: FutureWarning: The default value of numeric_only in DataFrameGroupBy.median is deprecated. In a future version, numeric_only will default to False. Either specify numeric_only or select only columns which should be valid for the function.\n",
            "  monthly_medians = data.groupby('일').transform('median')\n",
            "<ipython-input-3-f0d9f2a84bd0>:10: FutureWarning: The default value of numeric_only in DataFrameGroupBy.median is deprecated. In a future version, numeric_only will default to False. Either specify numeric_only or select only columns which should be valid for the function.\n",
            "  daily_medians = data.groupby('일').transform('median')\n"
          ]
        }
      ]
    },
    {
      "cell_type": "code",
      "source": [
        "from datetime import datetime\n",
        "\n",
        "current_year = datetime.now().year\n",
        "\n",
        "# 2월 29일에 해당하는 행 선택\n",
        "selected_rows = data[(data['일시'].dt.month == 2) & (data['일시'].dt.day == 29)]\n",
        "\n",
        "# 29일에 해당하는 16개 행\n",
        "# 23011 - 16 = 22995\n",
        "\n",
        "# 선택한 행의 인덱스를 사용하여 삭제\n",
        "data = data.drop(selected_rows.index)\n",
        "\n",
        "print(data.info())"
      ],
      "metadata": {
        "colab": {
          "base_uri": "https://localhost:8080/"
        },
        "id": "EBVK9j8gOL1E",
        "outputId": "9d5a6cf5-4e9f-47d6-87fc-c6debbd82f4b"
      },
      "execution_count": 13,
      "outputs": [
        {
          "output_type": "stream",
          "name": "stdout",
          "text": [
            "<class 'pandas.core.frame.DataFrame'>\n",
            "Int64Index: 22995 entries, 0 to 23010\n",
            "Data columns (total 13 columns):\n",
            " #   Column  Non-Null Count  Dtype         \n",
            "---  ------  --------------  -----         \n",
            " 0   일시      22995 non-null  datetime64[ns]\n",
            " 1   최고기온    22992 non-null  float64       \n",
            " 2   최저기온    22992 non-null  float64       \n",
            " 3   일교차     22991 non-null  float64       \n",
            " 4   강수량     9142 non-null   float64       \n",
            " 5   평균습도    22995 non-null  float64       \n",
            " 6   평균풍속    22991 non-null  float64       \n",
            " 7   일조합     22877 non-null  float64       \n",
            " 8   일사합     18137 non-null  float64       \n",
            " 9   일조율     22630 non-null  float64       \n",
            " 10  평균기온    22995 non-null  float64       \n",
            " 11  월       22995 non-null  int64         \n",
            " 12  일       22995 non-null  int64         \n",
            "dtypes: datetime64[ns](1), float64(10), int64(2)\n",
            "memory usage: 2.5 MB\n",
            "None\n"
          ]
        }
      ]
    },
    {
      "cell_type": "markdown",
      "source": [
        "윤년 데이터 빼고 365로 나눠서 모델에 적용시키기"
      ],
      "metadata": {
        "id": "485zyVzfPXpO"
      }
    },
    {
      "cell_type": "code",
      "source": [
        "train = data[['최고기온', '최저기온', '일교차', '강수량', '평균습도', '평균풍속', '일조합', '일사합', '일조율']]\n",
        "\n",
        "target = data['평균기온']"
      ],
      "metadata": {
        "id": "cAC9usK3QfdT"
      },
      "execution_count": 14,
      "outputs": []
    },
    {
      "cell_type": "code",
      "source": [
        "# 결측값 대체\n",
        "data.fillna(daily_medians, inplace=True)\n",
        "\n",
        "from xgboost import XGBRegressor\n",
        "xgb = XGBRegressor()\n",
        "xgb.fit(train, target)\n",
        "\n",
        "pred_xgb = xgb.predict(train)\n",
        "\n",
        "from sklearn.metrics import mean_squared_error\n",
        "xgb_mae = mean_squared_error(target, pred_xgb)\n",
        "print(xgb_mae)\n",
        "\n",
        "submission['평균기온'] = pred_xgb[:358]\n",
        "print(submission.head(10))"
      ],
      "metadata": {
        "colab": {
          "base_uri": "https://localhost:8080/"
        },
        "id": "Vyst1b9pRvu2",
        "outputId": "bc875cc8-ec5a-4883-8008-bee14a163e0a"
      },
      "execution_count": 20,
      "outputs": [
        {
          "output_type": "stream",
          "name": "stdout",
          "text": [
            "0.14312530580469168\n",
            "         일시      평균기온\n",
            "0 -2.011936 -2.011936\n",
            "1 -1.901870 -1.901870\n",
            "2  3.772155  3.772155\n",
            "3  6.986705  6.986705\n",
            "4 -4.083561 -4.083561\n",
            "5 -5.160858 -5.160858\n",
            "6  1.405020  1.405020\n",
            "7  1.828838  1.828838\n",
            "8  2.475737  2.475737\n",
            "9  1.886170  1.886170\n"
          ]
        }
      ]
    },
    {
      "cell_type": "code",
      "source": [
        "# 월 결측값 대체\n",
        "data.fillna(monthly_medians, inplace=True)\n",
        "\n",
        "from xgboost import XGBRegressor\n",
        "xgb = XGBRegressor()\n",
        "xgb.fit(train, target)\n",
        "\n",
        "pred_xgb = xgb.predict(train)\n",
        "\n",
        "from sklearn.metrics import mean_squared_error\n",
        "xgb_mae = mean_squared_error(target, pred_xgb)\n",
        "print(xgb_mae)\n",
        "\n",
        "submission['평균기온'] = pred_xgb[:358]\n",
        "print(submission.head(10))"
      ],
      "metadata": {
        "colab": {
          "base_uri": "https://localhost:8080/"
        },
        "id": "DhrzpceGNE5J",
        "outputId": "b278f347-fcf2-46f4-ce1f-85daf3a3939f"
      },
      "execution_count": 19,
      "outputs": [
        {
          "output_type": "stream",
          "name": "stdout",
          "text": [
            "0.14312530580469168\n",
            "         일시      평균기온\n",
            "0 -2.011936 -2.011936\n",
            "1 -1.901870 -1.901870\n",
            "2  3.772155  3.772155\n",
            "3  6.986705  6.986705\n",
            "4 -4.083561 -4.083561\n",
            "5 -5.160858 -5.160858\n",
            "6  1.405020  1.405020\n",
            "7  1.828838  1.828838\n",
            "8  2.475737  2.475737\n",
            "9  1.886170  1.886170\n"
          ]
        }
      ]
    },
    {
      "cell_type": "markdown",
      "source": [
        "타겟이 정렬된 형태라서 똑같이 나오나...?"
      ],
      "metadata": {
        "id": "2v9UdWiJSftt"
      }
    },
    {
      "cell_type": "markdown",
      "source": [
        "스케일링 적용해서 결과 확인해보기"
      ],
      "metadata": {
        "id": "zhJnRn_ySsFV"
      }
    },
    {
      "cell_type": "code",
      "source": [
        "# 결측값 대체\n",
        "data.fillna(daily_medians, inplace=True)\n",
        "\n",
        "from sklearn.preprocessing import StandardScaler\n",
        "ss = StandardScaler()\n",
        "ss.fit(train)\n",
        "train_scaled = ss.transform(train)\n",
        "\n",
        "from xgboost import XGBRegressor\n",
        "xgb = XGBRegressor()\n",
        "xgb.fit(train_scaled, target)\n",
        "\n",
        "pred_xgb = xgb.predict(train_scaled)\n",
        "\n",
        "from sklearn.metrics import mean_squared_error\n",
        "xgb_mae = mean_squared_error(target, pred_xgb)\n",
        "print(xgb_mae)\n",
        "\n",
        "submission['평균기온'] = pred_xgb[:358]\n",
        "print(submission.head(10))"
      ],
      "metadata": {
        "colab": {
          "base_uri": "https://localhost:8080/"
        },
        "id": "JG566K-3Sql4",
        "outputId": "911b9b6c-23aa-4a5b-96b4-9ebe76418c17"
      },
      "execution_count": 22,
      "outputs": [
        {
          "output_type": "stream",
          "name": "stdout",
          "text": [
            "0.14312530580469168\n",
            "         일시      평균기온\n",
            "0 -2.011936 -2.011936\n",
            "1 -1.901870 -1.901870\n",
            "2  3.772155  3.772155\n",
            "3  6.986705  6.986705\n",
            "4 -4.083561 -4.083561\n",
            "5 -5.160858 -5.160858\n",
            "6  1.405020  1.405020\n",
            "7  1.828838  1.828838\n",
            "8  2.475737  2.475737\n",
            "9  1.886170  1.886170\n"
          ]
        }
      ]
    },
    {
      "cell_type": "markdown",
      "source": [
        "**스케일링 전과 후가 동일한 결과**\n",
        "\n",
        "스케일링의 효과가 적은 경우: XGBoost는 트리 기반 모델로, 트리 알고리즘은 입력 특성의 스케일에 민감하지 않을 수 있어. 따라서 특히 스케일링이 큰 영향을 주지 않을 경우 결과가 거의 같을 수 있어.\n",
        "\n",
        "과적합의 가능성: 모델이 학습 데이터에 너무 맞춰져서 과적합되었을 가능성이 있어. 학습 데이터에 대해 성능이 좋아질 수 있지만, 검증 데이터나 테스트 데이터에 대한 성능이 떨어질 수 있어.\n",
        "\n",
        "하이퍼파라미터 튜닝의 필요성: 모델의 성능을 향상시키기 위해 XGBoost의 하이퍼파라미터를 튜닝할 필요가 있을 수 있어. 특히 학습률, 트리 깊이, 트리 개수 등을 조절하는 것이 도움이 될 수 있어."
      ],
      "metadata": {
        "id": "rtwt4KcMTBVL"
      }
    },
    {
      "cell_type": "markdown",
      "source": [
        "스케일링 효과를 보기 위해서는 검증, 테스트 데이터를 분리할 필요가 있다"
      ],
      "metadata": {
        "id": "tW256RrZT7Ig"
      }
    }
  ]
}
