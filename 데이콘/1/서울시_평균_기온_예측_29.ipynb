{
  "nbformat": 4,
  "nbformat_minor": 0,
  "metadata": {
    "colab": {
      "provenance": [],
      "authorship_tag": "ABX9TyOrwV1KgsgmcEYNQ7V6l1hK",
      "include_colab_link": true
    },
    "kernelspec": {
      "name": "python3",
      "display_name": "Python 3"
    },
    "language_info": {
      "name": "python"
    }
  },
  "cells": [
    {
      "cell_type": "markdown",
      "metadata": {
        "id": "view-in-github",
        "colab_type": "text"
      },
      "source": [
        "<a href=\"https://colab.research.google.com/github/wooookim/ML-DL/blob/main/%EC%84%9C%EC%9A%B8%EC%8B%9C_%ED%8F%89%EA%B7%A0_%EA%B8%B0%EC%98%A8_%EC%98%88%EC%B8%A1_29.ipynb\" target=\"_parent\"><img src=\"https://colab.research.google.com/assets/colab-badge.svg\" alt=\"Open In Colab\"/></a>"
      ]
    },
    {
      "cell_type": "code",
      "source": [
        "import pandas as pd\n",
        "import numpy as np\n",
        "from datetime import datetime\n",
        "import warnings\n",
        "warnings.filterwarnings('ignore')"
      ],
      "metadata": {
        "id": "zEewGZ_ksUcv"
      },
      "execution_count": 1,
      "outputs": []
    },
    {
      "cell_type": "code",
      "source": [
        "data = pd.read_csv('/content/train.csv')\n",
        "submission = pd.read_csv('/content/sample_submission.csv')"
      ],
      "metadata": {
        "id": "HhTEcZ7hsxKZ"
      },
      "execution_count": 6,
      "outputs": []
    },
    {
      "cell_type": "code",
      "source": [
        "!pip install autokeras"
      ],
      "metadata": {
        "id": "PHZgjmj-tOU1"
      },
      "execution_count": null,
      "outputs": []
    },
    {
      "cell_type": "code",
      "source": [
        "import tensorflow as tf\n",
        "import autokeras as ak"
      ],
      "metadata": {
        "id": "2KihZ9WRtHlw"
      },
      "execution_count": 7,
      "outputs": []
    },
    {
      "cell_type": "code",
      "source": [
        "# '일시' 열을 날짜 데이터로 변환\n",
        "data['일시'] = pd.to_datetime(data['일시'])\n",
        "\n",
        "current_year = datetime.now().year\n",
        "\n",
        "# 2월 29일에 해당하는 행 선택\n",
        "selected_rows = data[(data['일시'].dt.month == 2) & (data['일시'].dt.day == 29)]\n",
        "\n",
        "# 선택한 행의 인덱스를 사용하여 삭제\n",
        "data = data.drop(selected_rows.index)"
      ],
      "metadata": {
        "id": "60dFCFa0uSxg"
      },
      "execution_count": 10,
      "outputs": []
    },
    {
      "cell_type": "code",
      "source": [
        "# 계절 분류 함수 정의\n",
        "def classify_season(month):\n",
        "    if  month == 1 or month == 2 or month == 12:\n",
        "        return '겨울'\n",
        "    elif 3 <= month <= 5:\n",
        "        return '봄'\n",
        "    elif 6 <= month <= 8:\n",
        "        return '여름'\n",
        "    else:\n",
        "        return '가을'\n",
        "\n",
        "# '일시' 컬럼에서 월 정보를 추출하여 '계절' 열 추가\n",
        "data['월'] = data['일시'].dt.month\n",
        "data['계절'] = data['월'].apply(classify_season)\n",
        "\n",
        "# 계절별 중앙값 계산\n",
        "seasonal_medians = data.groupby('계절').transform('median')\n",
        "\n",
        "# 결측값 대체\n",
        "data.fillna(seasonal_medians, inplace=True)"
      ],
      "metadata": {
        "id": "x3B-s8rpuL9d"
      },
      "execution_count": 11,
      "outputs": []
    },
    {
      "cell_type": "code",
      "execution_count": 13,
      "metadata": {
        "colab": {
          "base_uri": "https://localhost:8080/"
        },
        "id": "zjDG1lVcsPiW",
        "outputId": "18acf311-0009-4490-f925-2605c3fa5ec9"
      },
      "outputs": [
        {
          "output_type": "stream",
          "name": "stdout",
          "text": [
            "Trial 1 Complete [00h 00m 46s]\n",
            "val_loss: 22.670211791992188\n",
            "\n",
            "Best val_loss So Far: 22.670211791992188\n",
            "Total elapsed time: 00h 00m 46s\n",
            "Epoch 1/10\n",
            "719/719 [==============================] - 3s 3ms/step - loss: 67.6966 - mean_squared_error: 67.6966\n",
            "Epoch 2/10\n",
            "719/719 [==============================] - 2s 3ms/step - loss: 26.7407 - mean_squared_error: 26.7407\n",
            "Epoch 3/10\n",
            "719/719 [==============================] - 4s 5ms/step - loss: 23.1504 - mean_squared_error: 23.1504\n",
            "Epoch 4/10\n",
            "719/719 [==============================] - 2s 3ms/step - loss: 20.6675 - mean_squared_error: 20.6675\n",
            "Epoch 5/10\n",
            "719/719 [==============================] - 2s 3ms/step - loss: 18.4958 - mean_squared_error: 18.4958\n",
            "Epoch 6/10\n",
            "719/719 [==============================] - 2s 3ms/step - loss: 16.7162 - mean_squared_error: 16.7162\n",
            "Epoch 7/10\n",
            "719/719 [==============================] - 3s 5ms/step - loss: 15.2758 - mean_squared_error: 15.2758\n",
            "Epoch 8/10\n",
            "719/719 [==============================] - 2s 3ms/step - loss: 14.0473 - mean_squared_error: 14.0473\n",
            "Epoch 9/10\n",
            "719/719 [==============================] - 2s 3ms/step - loss: 12.9962 - mean_squared_error: 12.9962\n",
            "Epoch 10/10\n",
            "719/719 [==============================] - 2s 3ms/step - loss: 12.1637 - mean_squared_error: 12.1637\n"
          ]
        },
        {
          "output_type": "execute_result",
          "data": {
            "text/plain": [
              "<keras.src.callbacks.History at 0x7fef45a3a170>"
            ]
          },
          "metadata": {},
          "execution_count": 13
        }
      ],
      "source": [
        "# 입력 특성과 출력 정의\n",
        "x_train = data.drop(columns=['평균기온'])  # 입력 특성\n",
        "y_train = data['평균기온']  # 출력 정답\n",
        "\n",
        "# AutoML 모델 정의\n",
        "regressor = ak.StructuredDataRegressor(max_trials=1)  # max_trials는 조정 가능\n",
        "\n",
        "# 모델 훈련\n",
        "regressor.fit(x_train, y_train, epochs=10)"
      ]
    },
    {
      "cell_type": "code",
      "source": [
        "# AutoKeras 모델 확인\n",
        "model = regressor.export_model()  # AutoKeras 모델을 내보내서 TensorFlow 모델로 변환\n",
        "model.summary()  # TensorFlow 모델의 구조 확인"
      ],
      "metadata": {
        "colab": {
          "base_uri": "https://localhost:8080/"
        },
        "id": "broaJ5l5u_L-",
        "outputId": "3f6ad1ec-fdf9-4bd5-a1e6-27375acec8aa"
      },
      "execution_count": 14,
      "outputs": [
        {
          "output_type": "stream",
          "name": "stdout",
          "text": [
            "Model: \"model\"\n",
            "_________________________________________________________________\n",
            " Layer (type)                Output Shape              Param #   \n",
            "=================================================================\n",
            " input_1 (InputLayer)        [(None, 12)]              0         \n",
            "                                                                 \n",
            " multi_category_encoding (M  (None, 12)                0         \n",
            " ultiCategoryEncoding)                                           \n",
            "                                                                 \n",
            " normalization (Normalizati  (None, 12)                25        \n",
            " on)                                                             \n",
            "                                                                 \n",
            " dense (Dense)               (None, 32)                416       \n",
            "                                                                 \n",
            " re_lu (ReLU)                (None, 32)                0         \n",
            "                                                                 \n",
            " dense_1 (Dense)             (None, 32)                1056      \n",
            "                                                                 \n",
            " re_lu_1 (ReLU)              (None, 32)                0         \n",
            "                                                                 \n",
            " regression_head_1 (Dense)   (None, 1)                 33        \n",
            "                                                                 \n",
            "=================================================================\n",
            "Total params: 1530 (5.98 KB)\n",
            "Trainable params: 1505 (5.88 KB)\n",
            "Non-trainable params: 25 (104.00 Byte)\n",
            "_________________________________________________________________\n"
          ]
        }
      ]
    },
    {
      "cell_type": "code",
      "source": [
        "reg_pred = regressor.predict(x_train)\n",
        "\n",
        "submission['평균기온'] = reg_pred[:358]\n",
        "print(submission.head(30))"
      ],
      "metadata": {
        "colab": {
          "base_uri": "https://localhost:8080/"
        },
        "id": "Gx5gT0-Pv2ox",
        "outputId": "481cb5ba-89b1-4ddd-830d-bb37f5ca30ee"
      },
      "execution_count": 15,
      "outputs": [
        {
          "output_type": "stream",
          "name": "stdout",
          "text": [
            "719/719 [==============================] - 2s 2ms/step\n",
            "719/719 [==============================] - 2s 2ms/step\n",
            "            일시       평균기온\n",
            "0   2023-01-01   0.593957\n",
            "1   2023-01-02  -0.422025\n",
            "2   2023-01-03  -0.853573\n",
            "3   2023-01-04   3.354601\n",
            "4   2023-01-05  -2.711838\n",
            "5   2023-01-06  -3.076963\n",
            "6   2023-01-07   4.136969\n",
            "7   2023-01-08   2.871657\n",
            "8   2023-01-09  -0.624630\n",
            "9   2023-01-10   3.470317\n",
            "10  2023-01-11   1.068488\n",
            "11  2023-01-12  -0.060010\n",
            "12  2023-01-13   1.552577\n",
            "13  2023-01-14   1.543258\n",
            "14  2023-01-15  -4.396987\n",
            "15  2023-01-16  -0.572939\n",
            "16  2023-01-17  -7.109331\n",
            "17  2023-01-18   0.562037\n",
            "18  2023-01-19   4.081431\n",
            "19  2023-01-20   1.587454\n",
            "20  2023-01-21  -6.314811\n",
            "21  2023-01-22  -8.528751\n",
            "22  2023-01-23 -11.594494\n",
            "23  2023-01-24 -11.908494\n",
            "24  2023-01-25  -3.066175\n",
            "25  2023-01-26  -5.750393\n",
            "26  2023-01-27  -9.376151\n",
            "27  2023-01-28  -7.090781\n",
            "28  2023-01-29  -7.055742\n",
            "29  2023-01-30   0.756731\n"
          ]
        }
      ]
    },
    {
      "cell_type": "code",
      "source": [
        "from sklearn.metrics import mean_absolute_error\n",
        "reg_mae = mean_absolute_error(reg_pred, y_train)\n",
        "print(reg_mae)"
      ],
      "metadata": {
        "colab": {
          "base_uri": "https://localhost:8080/"
        },
        "id": "jZTc_SbCwk51",
        "outputId": "a1502696-9376-47cb-f9a1-d64b574093ef"
      },
      "execution_count": 17,
      "outputs": [
        {
          "output_type": "stream",
          "name": "stdout",
          "text": [
            "2.567952564157437\n",
            "2.567952564157437\n"
          ]
        }
      ]
    },
    {
      "cell_type": "code",
      "source": [
        "submission.to_csv(\"DEAGYUL_23_submission.csv\", index=False)\n",
        "\n",
        "print(submission.head())"
      ],
      "metadata": {
        "colab": {
          "base_uri": "https://localhost:8080/"
        },
        "id": "CXTEHt4uwx2G",
        "outputId": "10350599-6254-4f02-9662-b89f88b31a35"
      },
      "execution_count": 18,
      "outputs": [
        {
          "output_type": "stream",
          "name": "stdout",
          "text": [
            "           일시      평균기온\n",
            "0  2023-01-01  0.593957\n",
            "1  2023-01-02 -0.422025\n",
            "2  2023-01-03 -0.853573\n",
            "3  2023-01-04  3.354601\n",
            "4  2023-01-05 -2.711838\n"
          ]
        }
      ]
    },
    {
      "cell_type": "markdown",
      "source": [
        "오토ml이 답인가..."
      ],
      "metadata": {
        "id": "dO1VbQYSxb-k"
      }
    }
  ]
}
