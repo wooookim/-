{
  "nbformat": 4,
  "nbformat_minor": 0,
  "metadata": {
    "colab": {
      "provenance": [],
      "authorship_tag": "ABX9TyMwz1cZWK1AsCYJ7xsfoTxo",
      "include_colab_link": true
    },
    "kernelspec": {
      "name": "python3",
      "display_name": "Python 3"
    },
    "language_info": {
      "name": "python"
    }
  },
  "cells": [
    {
      "cell_type": "markdown",
      "metadata": {
        "id": "view-in-github",
        "colab_type": "text"
      },
      "source": [
        "<a href=\"https://colab.research.google.com/github/wooookim/ML-DL/blob/main/%EC%84%9C%EC%9A%B8%EC%8B%9C_%ED%8F%89%EA%B7%A0_%EA%B8%B0%EC%98%A8_%EC%98%88%EC%B8%A1_19.ipynb\" target=\"_parent\"><img src=\"https://colab.research.google.com/assets/colab-badge.svg\" alt=\"Open In Colab\"/></a>"
      ]
    },
    {
      "cell_type": "code",
      "execution_count": null,
      "metadata": {
        "id": "4Tz-HbcvIRhJ"
      },
      "outputs": [],
      "source": [
        "import pandas as pd\n",
        "\n",
        "data = pd.read_csv('/content/train.csv')\n",
        "submission = pd.read_csv('/content/sample_submission.csv')"
      ]
    },
    {
      "cell_type": "code",
      "source": [
        "!sudo apt-get install -y fonts-nanum\n",
        "!sudo fc-cache -fv\n",
        "!rm ~/.cache/matplotlib -rf"
      ],
      "metadata": {
        "colab": {
          "base_uri": "https://localhost:8080/"
        },
        "id": "w1-F63BAM5Wg",
        "outputId": "649df777-8caf-4903-f1a8-294e7bed1d49"
      },
      "execution_count": null,
      "outputs": [
        {
          "output_type": "stream",
          "name": "stdout",
          "text": [
            "Reading package lists... Done\n",
            "Building dependency tree... Done\n",
            "Reading state information... Done\n",
            "fonts-nanum is already the newest version (20200506-1).\n",
            "0 upgraded, 0 newly installed, 0 to remove and 24 not upgraded.\n",
            "/usr/share/fonts: caching, new cache contents: 0 fonts, 1 dirs\n",
            "/usr/share/fonts/truetype: caching, new cache contents: 0 fonts, 3 dirs\n",
            "/usr/share/fonts/truetype/humor-sans: caching, new cache contents: 1 fonts, 0 dirs\n",
            "/usr/share/fonts/truetype/liberation: caching, new cache contents: 16 fonts, 0 dirs\n",
            "/usr/share/fonts/truetype/nanum: caching, new cache contents: 12 fonts, 0 dirs\n",
            "/usr/local/share/fonts: caching, new cache contents: 0 fonts, 0 dirs\n",
            "/root/.local/share/fonts: skipping, no such directory\n",
            "/root/.fonts: skipping, no such directory\n",
            "/usr/share/fonts/truetype: skipping, looped directory detected\n",
            "/usr/share/fonts/truetype/humor-sans: skipping, looped directory detected\n",
            "/usr/share/fonts/truetype/liberation: skipping, looped directory detected\n",
            "/usr/share/fonts/truetype/nanum: skipping, looped directory detected\n",
            "/var/cache/fontconfig: cleaning cache directory\n",
            "/root/.cache/fontconfig: not cleaning non-existent cache directory\n",
            "/root/.fontconfig: not cleaning non-existent cache directory\n",
            "fc-cache: succeeded\n"
          ]
        }
      ]
    },
    {
      "cell_type": "code",
      "source": [
        "# '일시' 열을 날짜 데이터로 변환\n",
        "data['일시'] = pd.to_datetime(data['일시'])\n",
        "\n",
        "data['연도'] = data['일시'].dt.year\n",
        "data['월'] = data['일시'].dt.month\n",
        "data['일'] = data['일시'].dt.day\n",
        "\n",
        "# 월, 일별 중앙값 계산\n",
        "# 월별 중앙값 계산\n",
        "monthly_medians = data.groupby('월').median()\n",
        "daily_medians = data.groupby('일').median()\n",
        "\n",
        "\n",
        "monthly_means = data.groupby('월').mean()\n",
        "daily_means = data.groupby('일').mean()"
      ],
      "metadata": {
        "id": "fdywfFUxIo4v"
      },
      "execution_count": null,
      "outputs": []
    },
    {
      "cell_type": "code",
      "source": [
        "from datetime import datetime\n",
        "\n",
        "current_year = datetime.now().year\n",
        "\n",
        "# 2월 29일에 해당하는 행 선택\n",
        "selected_rows = data[(data['일시'].dt.month == 2) & (data['일시'].dt.day == 29)]\n",
        "\n",
        "# 29일에 해당하는 16개 행\n",
        "# 23011 - 16 = 22995\n",
        "\n",
        "# 선택한 행의 인덱스를 사용하여 삭제\n",
        "data = data.drop(selected_rows.index)\n",
        "\n",
        "print(data.info())"
      ],
      "metadata": {
        "colab": {
          "base_uri": "https://localhost:8080/"
        },
        "id": "1DAMlt0hKOWH",
        "outputId": "128d1856-32a6-4b59-c731-a28c479148ba"
      },
      "execution_count": null,
      "outputs": [
        {
          "output_type": "stream",
          "name": "stdout",
          "text": [
            "<class 'pandas.core.frame.DataFrame'>\n",
            "Int64Index: 22995 entries, 0 to 23010\n",
            "Data columns (total 14 columns):\n",
            " #   Column  Non-Null Count  Dtype         \n",
            "---  ------  --------------  -----         \n",
            " 0   일시      22995 non-null  datetime64[ns]\n",
            " 1   최고기온    22992 non-null  float64       \n",
            " 2   최저기온    22992 non-null  float64       \n",
            " 3   일교차     22991 non-null  float64       \n",
            " 4   강수량     9142 non-null   float64       \n",
            " 5   평균습도    22995 non-null  float64       \n",
            " 6   평균풍속    22991 non-null  float64       \n",
            " 7   일조합     22877 non-null  float64       \n",
            " 8   일사합     18137 non-null  float64       \n",
            " 9   일조율     22630 non-null  float64       \n",
            " 10  평균기온    22995 non-null  float64       \n",
            " 11  연도      22995 non-null  int64         \n",
            " 12  월       22995 non-null  int64         \n",
            " 13  일       22995 non-null  int64         \n",
            "dtypes: datetime64[ns](1), float64(10), int64(3)\n",
            "memory usage: 2.6 MB\n",
            "None\n"
          ]
        }
      ]
    },
    {
      "cell_type": "code",
      "source": [
        "# 결측값 대체\n",
        "data.fillna(monthly_medians, inplace=True)\n",
        "\n",
        "for column in data.columns:\n",
        "    if data[column].isnull().any():  # 결측값이 있는 경우에만 처리\n",
        "        data[column+'_중앙값'] = data.apply(lambda row: monthly_medians.loc[row['월'], column], axis=1)\n",
        "        data[column].fillna(data[column+'_중앙값'], inplace=True)\n",
        "        data.drop(column+'_중앙값', axis=1, inplace=True)\n",
        "\n",
        "print(data.info())"
      ],
      "metadata": {
        "colab": {
          "base_uri": "https://localhost:8080/"
        },
        "id": "QK6j7XNaKVWW",
        "outputId": "23cfc4b5-79dc-4b59-93ed-e9193d9220e7"
      },
      "execution_count": null,
      "outputs": [
        {
          "output_type": "stream",
          "name": "stdout",
          "text": [
            "<class 'pandas.core.frame.DataFrame'>\n",
            "Int64Index: 22995 entries, 0 to 23010\n",
            "Data columns (total 14 columns):\n",
            " #   Column  Non-Null Count  Dtype         \n",
            "---  ------  --------------  -----         \n",
            " 0   일시      22995 non-null  datetime64[ns]\n",
            " 1   최고기온    22995 non-null  float64       \n",
            " 2   최저기온    22995 non-null  float64       \n",
            " 3   일교차     22995 non-null  float64       \n",
            " 4   강수량     22995 non-null  float64       \n",
            " 5   평균습도    22995 non-null  float64       \n",
            " 6   평균풍속    22995 non-null  float64       \n",
            " 7   일조합     22995 non-null  float64       \n",
            " 8   일사합     22995 non-null  float64       \n",
            " 9   일조율     22995 non-null  float64       \n",
            " 10  평균기온    22995 non-null  float64       \n",
            " 11  연도      22995 non-null  int64         \n",
            " 12  월       22995 non-null  int64         \n",
            " 13  일       22995 non-null  int64         \n",
            "dtypes: datetime64[ns](1), float64(10), int64(3)\n",
            "memory usage: 3.1 MB\n",
            "None\n"
          ]
        }
      ]
    },
    {
      "cell_type": "code",
      "source": [
        "print(monthly_medians)\n",
        "print(daily_medians)\n",
        "print(monthly_means)\n",
        "print(daily_means)"
      ],
      "metadata": {
        "colab": {
          "base_uri": "https://localhost:8080/"
        },
        "id": "kKdTzNnBaltp",
        "outputId": "6b9cd9c3-f526-48d2-e10c-009ce9c188fb"
      },
      "execution_count": null,
      "outputs": [
        {
          "output_type": "stream",
          "name": "stdout",
          "text": [
            "    최고기온   최저기온    일교차   강수량   평균습도  평균풍속  일조합     일사합    일조율  평균기온      연도  \\\n",
            "월                                                                             \n",
            "1    1.7  -6.40   7.70  0.30  60.50   2.2  6.4   7.890  64.35  -2.6  1991.0   \n",
            "2    4.4  -3.90   8.30  0.40  58.30   2.4  7.2  10.910  66.10   0.0  1991.0   \n",
            "3   10.4   1.30   9.20  0.70  58.50   2.6  7.6  14.130  63.40   5.6  1991.0   \n",
            "4   17.7   7.50  10.35  2.00  56.50   2.7  8.3  17.500  62.80  12.2  1991.0   \n",
            "5   23.5  13.00  10.60  1.60  61.30   2.4  8.7  19.605  61.55  17.9  1991.0   \n",
            "6   27.4  18.20   9.30  1.70  69.50   2.2  6.8  17.580  45.90  22.3  1991.0   \n",
            "7   29.0  22.10   6.90  4.45  79.50   2.1  3.1  12.710  20.05  25.0  1991.0   \n",
            "8   30.0  22.75   7.40  5.00  76.80   2.0  4.8  13.200  34.70  25.8  1991.0   \n",
            "9   26.1  17.40   9.10  2.80  69.50   1.8  6.9  13.770  55.60  21.2  1991.0   \n",
            "10  20.4  10.40  10.10  1.50  64.80   1.8  7.7  11.610  68.50  15.1  1991.0   \n",
            "11  12.1   3.40   8.50  1.30  63.85   2.0  6.0   7.945  59.00   7.6  1991.0   \n",
            "12   4.1  -3.80   7.60  0.30  62.00   2.1  5.9   6.780  60.95   0.0  1991.0   \n",
            "\n",
            "       일  \n",
            "월         \n",
            "1   16.0  \n",
            "2   14.5  \n",
            "3   16.0  \n",
            "4   15.5  \n",
            "5   16.0  \n",
            "6   15.5  \n",
            "7   16.0  \n",
            "8   16.0  \n",
            "9   15.5  \n",
            "10  16.0  \n",
            "11  15.5  \n",
            "12  16.0  \n",
            "     최고기온   최저기온   일교차   강수량   평균습도  평균풍속   일조합     일사합    일조율   평균기온      연도  \\\n",
            "일                                                                               \n",
            "1   17.95   8.90  8.50  1.50  66.30  2.20  6.50  11.610  56.55  13.25  1991.0   \n",
            "2   18.60   8.60  8.60  1.50  65.90  2.20  6.50  11.600  55.10  13.70  1991.0   \n",
            "3   18.55   8.90  8.60  1.50  66.30  2.20  6.45  11.610  55.80  13.45  1991.0   \n",
            "4   19.30   9.30  8.70  1.50  65.50  2.20  6.70  12.170  56.45  13.60  1991.0   \n",
            "5   18.55   9.00  9.00  1.50  66.30  2.20  7.10  11.870  58.20  13.80  1991.0   \n",
            "6   19.30   9.30  8.60  1.50  65.60  2.20  6.50  11.610  54.60  13.95  1991.0   \n",
            "7   19.00   9.60  8.60  1.50  65.50  2.20  6.40  11.870  53.85  14.10  1991.0   \n",
            "8   19.15   9.35  8.70  1.50  65.90  2.20  6.75  12.355  56.75  13.95  1991.0   \n",
            "9   19.20   9.55  8.70  1.50  65.00  2.20  6.70  11.625  56.45  14.10  1991.0   \n",
            "10  18.90   9.50  8.25  1.50  67.05  2.20  6.20  11.585  50.75  14.05  1991.0   \n",
            "11  18.80   9.45  8.60  1.50  65.50  2.20  6.60  11.695  54.95  13.75  1991.0   \n",
            "12  19.30   9.25  8.70  1.50  65.40  2.20  6.60  11.985  57.05  14.15  1991.0   \n",
            "13  18.75   9.70  8.80  1.50  66.30  2.30  6.65  11.610  56.00  13.70  1991.0   \n",
            "14  18.80   9.35  8.70  1.50  64.55  2.20  6.80  11.785  56.25  13.80  1991.0   \n",
            "15  18.70   9.00  8.50  1.50  64.85  2.20  6.70  12.160  56.90  13.40  1991.0   \n",
            "16  18.40   9.15  8.40  1.50  65.40  2.20  6.40  11.610  54.30  13.40  1991.0   \n",
            "17  18.35   8.50  8.60  1.50  65.30  2.20  6.70  11.650  56.70  13.35  1991.0   \n",
            "18  18.80   8.80  8.70  1.50  64.80  2.20  6.90  11.870  57.45  13.65  1991.0   \n",
            "19  19.15   9.00  8.65  1.50  64.50  2.10  6.80  11.930  56.15  13.80  1991.0   \n",
            "20  19.50   9.25  8.70  1.50  65.90  2.20  6.20  11.610  55.30  13.95  1991.0   \n",
            "21  19.50   9.25  8.75  1.50  64.50  2.20  6.70  12.075  57.30  14.10  1991.0   \n",
            "22  18.95   9.00  8.80  1.50  65.00  2.20  6.50  11.610  54.20  14.00  1991.0   \n",
            "23  19.85   8.90  8.60  1.50  65.00  2.20  6.80  12.245  57.40  13.70  1991.0   \n",
            "24  18.55   9.10  8.60  1.50  65.30  2.20  6.90  11.610  58.60  13.60  1991.0   \n",
            "25  18.45   9.15  8.60  1.50  66.00  2.20  6.50  11.610  56.00  13.45  1991.0   \n",
            "26  18.50   9.00  8.60  1.50  64.80  2.25  6.90  12.155  58.95  13.20  1991.0   \n",
            "27  18.90   8.30  8.75  1.50  64.90  2.30  6.70  11.640  56.55  13.50  1991.0   \n",
            "28  18.90   8.65  8.50  1.45  65.80  2.20  6.60  11.520  55.55  13.70  1991.0   \n",
            "29  20.30  10.70  8.50  1.60  67.00  2.20  6.30  11.610  52.90  15.30  1991.0   \n",
            "30  20.40  10.70  8.50  1.50  66.80  2.20  6.50  11.610  55.10  15.50  1991.0   \n",
            "31  18.10   7.90  8.30  1.10  65.90  2.10  6.60  11.610  56.20  12.60  1991.0   \n",
            "\n",
            "      월  \n",
            "일        \n",
            "1   6.5  \n",
            "2   6.5  \n",
            "3   6.5  \n",
            "4   6.5  \n",
            "5   6.5  \n",
            "6   6.5  \n",
            "7   6.5  \n",
            "8   6.5  \n",
            "9   6.5  \n",
            "10  6.5  \n",
            "11  6.5  \n",
            "12  6.5  \n",
            "13  6.5  \n",
            "14  6.5  \n",
            "15  6.5  \n",
            "16  6.5  \n",
            "17  6.5  \n",
            "18  6.5  \n",
            "19  6.5  \n",
            "20  6.5  \n",
            "21  6.5  \n",
            "22  6.5  \n",
            "23  6.5  \n",
            "24  6.5  \n",
            "25  6.5  \n",
            "26  6.5  \n",
            "27  6.5  \n",
            "28  6.5  \n",
            "29  7.0  \n",
            "30  7.0  \n",
            "31  7.0  \n",
            "         최고기온       최저기온        일교차        강수량       평균습도      평균풍속       일조합  \\\n",
            "월                                                                               \n",
            "1    1.432770  -6.316078   7.748848   0.825141  60.268203  2.437276  5.414849   \n",
            "2    4.289683  -4.002154   8.291837   1.166893  59.093821  2.637585  6.007483   \n",
            "3   10.403840   1.248797   9.155044   1.922632  59.056784  2.817051  6.516283   \n",
            "4   17.661534   7.511587  10.149947   4.028042  57.918254  2.850106  6.931005   \n",
            "5   23.263850  13.031746  10.232104   4.189964  62.080338  2.555351  7.299027   \n",
            "6   27.070847  18.046931   9.023915   5.525450  69.113545  2.240265  6.290212   \n",
            "7   28.875525  22.069278   6.806247  14.031618  78.629032  2.266155  4.046544   \n",
            "8   29.768152  22.560036   7.209012  12.518280  76.152791  2.165028  4.952842   \n",
            "9   25.879471  17.148413   8.731058   6.901005  69.528624  1.989048  6.017302   \n",
            "10  19.970302  10.079672   9.889913   2.750026  64.750998  1.993600  6.642294   \n",
            "11  11.662063   3.123016   8.539048   2.558783  63.450317  2.288360  5.184021   \n",
            "12   3.879314  -3.813978   7.693292   0.885765  61.813466  2.347312  5.054173   \n",
            "\n",
            "          일사합        일조율       평균기온      연도     일  \n",
            "월                                                  \n",
            "1    7.539754  54.575038  -2.694572  1991.0  16.0  \n",
            "2   10.265102  55.582370  -0.181293  1991.0  14.5  \n",
            "3   13.269360  54.326523   5.414593  1991.0  16.0  \n",
            "4   16.174413  52.498836  12.221587  1991.0  15.5  \n",
            "5   17.916654  51.558653  17.809575  1991.0  16.0  \n",
            "6   16.555651  42.796931  22.108519  1991.0  15.5  \n",
            "7   12.523175  27.503456  25.067127  1991.0  16.0  \n",
            "8   12.961592  36.010958  25.737839  1991.0  16.0  \n",
            "9   13.020857  48.531481  21.159206  1991.0  15.5  \n",
            "10  11.106984  59.032360  14.674194  1991.0  16.0  \n",
            "11   7.593048  50.766667   7.124709  1991.0  15.5  \n",
            "12   6.511843  52.498848  -0.175422  1991.0  16.0  \n",
            "         최고기온      최저기온       일교차       강수량       평균습도      평균풍속       일조합  \\\n",
            "일                                                                            \n",
            "1   16.936508  8.380688  8.555820  5.210185  65.460979  2.420106  5.811376   \n",
            "2   16.767593  8.264418  8.503175  5.777116  65.925132  2.398677  5.714153   \n",
            "3   16.901587  8.329101  8.572487  5.383135  66.319048  2.357804  5.722487   \n",
            "4   17.023280  8.348016  8.675265  4.682474  65.052249  2.390476  6.043122   \n",
            "5   17.142857  8.307143  8.835714  4.519048  64.880291  2.352513  6.138624   \n",
            "6   17.133598  8.451720  8.681878  4.553307  65.259392  2.335317  5.794841   \n",
            "7   17.186111  8.581614  8.604497  4.914352  65.612302  2.342593  5.728175   \n",
            "8   17.176720  8.536442  8.642593  4.431944  65.395767  2.410185  5.937963   \n",
            "9   17.230688  8.572884  8.657804  4.349603  65.275000  2.351058  5.985714   \n",
            "10  16.960450  8.622222  8.338228  4.867262  66.045370  2.410582  5.498280   \n",
            "11  17.009656  8.429630  8.580026  4.517063  64.961111  2.392196  5.895635   \n",
            "12  17.050794  8.387831  8.660979  5.046958  65.089947  2.381614  5.972090   \n",
            "13  17.089286  8.427646  8.661640  5.200728  65.602513  2.401455  5.855159   \n",
            "14  17.035317  8.394048  8.641270  4.373082  64.214815  2.383069  5.903439   \n",
            "15  16.973413  8.421958  8.551455  5.008995  64.537169  2.388757  5.902646   \n",
            "16  16.750000  8.299735  8.450397  4.864881  65.191270  2.369180  5.700132   \n",
            "17  16.890476  8.236640  8.653836  4.936177  65.071693  2.334524  5.853175   \n",
            "18  17.006878  8.286640  8.720238  4.017526  64.709259  2.362037  5.996561   \n",
            "19  17.188360  8.443254  8.745106  5.334325  65.078175  2.345767  5.829894   \n",
            "20  17.283995  8.623677  8.660317  4.679101  65.541270  2.348942  5.733862   \n",
            "21  17.290873  8.531481  8.759392  4.621495  64.615344  2.391534  6.047751   \n",
            "22  17.335317  8.490344  8.844974  3.843320  64.762698  2.411905  5.906878   \n",
            "23  17.049603  8.430159  8.619444  4.233135  64.280952  2.432804  6.074471   \n",
            "24  16.884259  8.367989  8.516270  5.012368  64.991534  2.417725  5.960714   \n",
            "25  16.801058  8.270370  8.530688  5.777315  65.235847  2.389550  5.738360   \n",
            "26  16.975794  8.229365  8.746429  4.411177  64.438757  2.428439  6.085317   \n",
            "27  16.902381  8.213757  8.688624  5.281944  64.678175  2.398413  5.928968   \n",
            "28  17.013360  8.422884  8.590476  4.643651  65.168519  2.375926  5.756614   \n",
            "29  17.805339  9.417893  8.387446  5.134416  66.483838  2.341558  5.563492   \n",
            "30  17.883550  9.309524  8.574026  4.907215  66.200144  2.370851  5.722655   \n",
            "31  16.753515  8.265760  8.487755  4.219955  65.712925  2.343764  5.749660   \n",
            "\n",
            "          일사합        일조율       평균기온      연도         월  \n",
            "일                                                      \n",
            "1   11.999272  48.307540  12.291138  1991.0  6.500000  \n",
            "2   11.777897  47.633466  12.172619  1991.0  6.500000  \n",
            "3   12.115410  47.797156  12.296296  1991.0  6.500000  \n",
            "4   12.445225  50.260384  12.329101  1991.0  6.500000  \n",
            "5   12.454332  50.692262  12.359921  1991.0  6.500000  \n",
            "6   12.024279  47.999074  12.428704  1991.0  6.500000  \n",
            "7   12.045159  47.131019  12.561111  1991.0  6.500000  \n",
            "8   12.341812  49.222090  12.514286  1991.0  6.500000  \n",
            "9   12.210370  49.616336  12.546693  1991.0  6.500000  \n",
            "10  11.741085  45.638955  12.455556  1991.0  6.500000  \n",
            "11  12.214140  49.137632  12.326058  1991.0  6.500000  \n",
            "12  12.062110  49.611310  12.371693  1991.0  6.500000  \n",
            "13  12.038413  48.742593  12.442725  1991.0  6.500000  \n",
            "14  12.292341  49.253175  12.368386  1991.0  6.500000  \n",
            "15  12.199392  48.990741  12.332540  1991.0  6.500000  \n",
            "16  12.069008  47.140741  12.174206  1991.0  6.500000  \n",
            "17  12.179034  48.815476  12.227249  1991.0  6.500000  \n",
            "18  12.152474  50.069841  12.304762  1991.0  6.500000  \n",
            "19  12.119352  48.487434  12.496032  1991.0  6.500000  \n",
            "20  12.040324  48.043915  12.593783  1991.0  6.500000  \n",
            "21  12.269153  50.036905  12.546561  1991.0  6.500000  \n",
            "22  12.167698  48.911376  12.564418  1991.0  6.500000  \n",
            "23  12.311005  50.614550  12.384259  1991.0  6.500000  \n",
            "24  12.086640  49.763757  12.301455  1991.0  6.500000  \n",
            "25  12.032897  48.027646  12.235847  1991.0  6.500000  \n",
            "26  12.470860  51.178175  12.225794  1991.0  6.500000  \n",
            "27  12.118009  49.891270  12.208333  1991.0  6.500000  \n",
            "28  11.884960  47.808201  12.381217  1991.0  6.500000  \n",
            "29  11.921558  46.263781  13.315440  1991.0  6.909091  \n",
            "30  12.028045  47.795094  13.212554  1991.0  6.909091  \n",
            "31  11.807812  47.754422  12.154422  1991.0  6.571429  \n"
          ]
        }
      ]
    },
    {
      "cell_type": "code",
      "source": [
        "train = data[['최고기온', '최저기온', '일교차', '강수량', '평균습도', '평균풍속', '일조합', '일사합', '일조율']]\n",
        "\n",
        "target = data['평균기온']"
      ],
      "metadata": {
        "id": "jMEltLFNKhTn"
      },
      "execution_count": null,
      "outputs": []
    },
    {
      "cell_type": "code",
      "source": [
        "import warnings\n",
        "warnings.filterwarnings(action='ignore')"
      ],
      "metadata": {
        "id": "rI8xZOFzLO6r"
      },
      "execution_count": null,
      "outputs": []
    },
    {
      "cell_type": "code",
      "source": [
        "data_after_1970 = data[(data['연도'] >= 1970) & (data['연도'] < 1980)]\n",
        "data_after_1980 = data[(data['연도'] >= 1980) & (data['연도'] < 1990)]\n",
        "data_after_1990 = data[(data['연도'] >= 1990) & (data['연도'] < 2000)]\n",
        "data_after_2000 = data[(data['연도'] >= 2000) & (data['연도'] < 2010)]\n",
        "data_after_2010 = data[data['연도'] >= 2010]\n",
        "\n",
        "# print(data_after_1970.info())"
      ],
      "metadata": {
        "id": "eu5bpnaPQl3j"
      },
      "execution_count": null,
      "outputs": []
    },
    {
      "cell_type": "code",
      "source": [
        "import matplotlib.pyplot as plt\n",
        "\n",
        "yearly_70_mean_temperature = data_after_1970.groupby('연도')['평균기온'].mean()\n",
        "yearly_80_mean_temperature = data_after_1980.groupby('연도')['평균기온'].mean()\n",
        "yearly_90_mean_temperature = data_after_1990.groupby('연도')['평균기온'].mean()\n",
        "yearly_00_mean_temperature = data_after_2000.groupby('연도')['평균기온'].mean()\n",
        "yearly_10_mean_temperature = data_after_2010.groupby('연도')['평균기온'].mean()\n",
        "\n",
        "# 그래프 그리기\n",
        "plt.rc('font', family='NanumBarunGothic')\n",
        "plt.rc('font', family='NanumBarunGothic')\n",
        "plt.plot(yearly_70_mean_temperature.index, yearly_70_mean_temperature.values)\n",
        "plt.plot(yearly_80_mean_temperature.index, yearly_80_mean_temperature.values)\n",
        "plt.plot(yearly_90_mean_temperature.index, yearly_90_mean_temperature.values)\n",
        "plt.plot(yearly_00_mean_temperature.index, yearly_00_mean_temperature.values)\n",
        "plt.plot(yearly_10_mean_temperature.index, yearly_10_mean_temperature.values)\n",
        "plt.xlabel('연도')\n",
        "plt.ylabel('평균기온')\n",
        "plt.show()"
      ],
      "metadata": {
        "colab": {
          "base_uri": "https://localhost:8080/",
          "height": 449
        },
        "id": "_fwyAq_qXtjO",
        "outputId": "ae1b55af-85ab-40dc-b9b4-a176dc27bc6f"
      },
      "execution_count": null,
      "outputs": [
        {
          "output_type": "display_data",
          "data": {
            "text/plain": [
              "<Figure size 640x480 with 1 Axes>"
            ],
            "image/png": "[encoded data removed]"
          },
          "metadata": {}
        }
      ]
    },
    {
      "cell_type": "code",
      "source": [
        "import matplotlib.pyplot as plt\n",
        "\n",
        "data_after_2014 = data[data['연도'] >= 2014]\n",
        "yearly_mean_temperature_after_2014 = data_after_2014.groupby('연도')['평균기온'].mean()\n",
        "\n",
        "# 그래프 그리기\n",
        "plt.rc('font', family='NanumBarunGothic')\n",
        "plt.plot(yearly_10_mean_temperature.index, yearly_10_mean_temperature.values)\n",
        "plt.plot(yearly_mean_temperature_after_2014.index, yearly_mean_temperature_after_2014.values, label='2014년 이후 데이터', linestyle='--')\n",
        "plt.xlabel('연도')\n",
        "plt.ylabel('평균기온')\n",
        "plt.show()"
      ],
      "metadata": {
        "colab": {
          "base_uri": "https://localhost:8080/",
          "height": 449
        },
        "id": "_Z7EXtCjZA2f",
        "outputId": "67d8975e-288b-43de-ffc0-16f376010e69"
      },
      "execution_count": null,
      "outputs": [
        {
          "output_type": "display_data",
          "data": {
            "text/plain": [
              "<Figure size 640x480 with 1 Axes>"
            ],
            "image/png": "[encoded data removed]"
          },
          "metadata": {}
        }
      ]
    },
    {
      "cell_type": "code",
      "source": [
        "train_14 = data_after_2014[['최고기온', '최저기온', '일교차', '강수량', '평균습도', '평균풍속', '일조합', '일사합', '일조율']]\n",
        "target_14 = data_after_2014['평균기온']"
      ],
      "metadata": {
        "id": "rWTDvLhlRSS1"
      },
      "execution_count": null,
      "outputs": []
    },
    {
      "cell_type": "code",
      "source": [
        "from sklearn.ensemble import RandomForestRegressor\n",
        "rf = RandomForestRegressor()\n",
        "rf.fit(train_14, target_14)\n",
        "\n",
        "pred_rf = rf.predict(train_14)\n",
        "\n",
        "from sklearn.metrics import mean_squared_error\n",
        "rf_mae = mean_squared_error(target_14, pred_rf)\n",
        "print(rf_mae)\n",
        "\n",
        "submission['평균기온'] = pred_rf[:358]\n",
        "print(submission.head(10))"
      ],
      "metadata": {
        "colab": {
          "base_uri": "https://localhost:8080/"
        },
        "id": "Yjogm9wHRsdp",
        "outputId": "cdb69c02-3d47-45c7-9792-73850a6a1adf"
      },
      "execution_count": null,
      "outputs": [
        {
          "output_type": "stream",
          "name": "stdout",
          "text": [
            "0.039626992085236075\n",
            "           일시   평균기온\n",
            "0  2023-01-01  3.836\n",
            "1  2023-01-02  1.834\n",
            "2  2023-01-03  2.568\n",
            "3  2023-01-04  0.167\n",
            "4  2023-01-05 -0.721\n",
            "5  2023-01-06  0.844\n",
            "6  2023-01-07  2.893\n",
            "7  2023-01-08 -0.069\n",
            "8  2023-01-09 -7.821\n",
            "9  2023-01-10 -4.827\n"
          ]
        }
      ]
    },
    {
      "cell_type": "code",
      "source": [
        "submission.to_csv(\"DEAGYUL_14_submission.csv\", index=False)"
      ],
      "metadata": {
        "id": "d6C-U_6aZ1P7"
      },
      "execution_count": null,
      "outputs": []
    },
    {
      "cell_type": "code",
      "source": [
        "# 결측값 대체\n",
        "data.fillna(monthly_means, inplace=True)\n",
        "\n",
        "for column in data.columns:\n",
        "    if data[column].isnull().any():  # 결측값이 있는 경우에만 처리\n",
        "        data[column+'_평균'] = data.apply(lambda row: monthly_means.loc[row['월'], column], axis=1)\n",
        "        data[column].fillna(data[column+'_평균'], inplace=True)\n",
        "        data.drop(column+'_평균', axis=1, inplace=True)\n",
        "\n",
        "print(data.info())"
      ],
      "metadata": {
        "colab": {
          "base_uri": "https://localhost:8080/"
        },
        "id": "M4yfIuHcbI_T",
        "outputId": "3024ba7d-59df-430b-87c6-23dac8051225"
      },
      "execution_count": null,
      "outputs": [
        {
          "output_type": "stream",
          "name": "stdout",
          "text": [
            "<class 'pandas.core.frame.DataFrame'>\n",
            "Int64Index: 22995 entries, 0 to 23010\n",
            "Data columns (total 14 columns):\n",
            " #   Column  Non-Null Count  Dtype         \n",
            "---  ------  --------------  -----         \n",
            " 0   일시      22995 non-null  datetime64[ns]\n",
            " 1   최고기온    22995 non-null  float64       \n",
            " 2   최저기온    22995 non-null  float64       \n",
            " 3   일교차     22995 non-null  float64       \n",
            " 4   강수량     22995 non-null  float64       \n",
            " 5   평균습도    22995 non-null  float64       \n",
            " 6   평균풍속    22995 non-null  float64       \n",
            " 7   일조합     22995 non-null  float64       \n",
            " 8   일사합     22995 non-null  float64       \n",
            " 9   일조율     22995 non-null  float64       \n",
            " 10  평균기온    22995 non-null  float64       \n",
            " 11  연도      22995 non-null  int64         \n",
            " 12  월       22995 non-null  int64         \n",
            " 13  일       22995 non-null  int64         \n",
            "dtypes: datetime64[ns](1), float64(10), int64(3)\n",
            "memory usage: 3.1 MB\n",
            "None\n"
          ]
        }
      ]
    }
  ]
}