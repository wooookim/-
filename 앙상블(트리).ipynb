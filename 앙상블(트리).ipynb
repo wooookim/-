{
  "nbformat": 4,
  "nbformat_minor": 0,
  "metadata": {
    "colab": {
      "provenance": [],
      "authorship_tag": "ABX9TyO+M/xT2i6xSNYpsHSldd7C",
      "include_colab_link": true
    },
    "kernelspec": {
      "name": "python3",
      "display_name": "Python 3"
    },
    "language_info": {
      "name": "python"
    }
  },
  "cells": [
    {
      "cell_type": "markdown",
      "metadata": {
        "id": "view-in-github",
        "colab_type": "text"
      },
      "source": [
        "<a href=\"https://colab.research.google.com/github/wooookim/ML-DL/blob/main/%EC%95%99%EC%83%81%EB%B8%94(%ED%8A%B8%EB%A6%AC).ipynb\" target=\"_parent\"><img src=\"https://colab.research.google.com/assets/colab-badge.svg\" alt=\"Open In Colab\"/></a>"
      ]
    },
    {
      "cell_type": "markdown",
      "source": [
        "앙상블 학습\n",
        "\n",
        "- 통상 정형데이터를 다루는 데 가장 뛰어난 성과를 냄\n",
        "\n",
        "\n",
        "비정형 데이터는 규칙성을 찾기 어려워 전통적인 머신러닝 방법으로는 모델을 만들기 까다롭다"
      ],
      "metadata": {
        "id": "FsVYAD8whhCn"
      }
    },
    {
      "cell_type": "markdown",
      "source": [
        "**랜덤포레스트**\n",
        "\n",
        "결정 트리를 랜덤하게 만들고 각 결정트리의 예측을 사용해 최종 예측\n",
        "\n",
        "입력된 훈련 훈련 데이터에서 랜덤하게 샘플을 추출하여 훈련 데이터를 만듦(샘플 중복 추출 가능)\n",
        "\n",
        "추출된 샘플 = 부트스트랩 샘플\n",
        "\n",
        "부트스트랩 샘플을 훈련세트의 크기와 같게 생성\n",
        "\n",
        "분류\n",
        "- 전체 특성 개수의 제곱근만큼 특성을 사용\n",
        "- 각 트리의 클래스 별 확률을 평균하여 가장 높은 확률을 가진 클래스를 예측\n",
        "\n",
        "회귀\n",
        "- 경우 전체 특성 사용\n",
        "- 단순히 각 ㅌ트리의 에측을 평균\n",
        "\n",
        "랜덤하게 선택한 샘플과 특성을 사용하기 때문에 과적합을 방지\n",
        "\n",
        "검증/테스트 세트에서 안정적인 성능을 얻을 수 있음"
      ],
      "metadata": {
        "id": "fJG8Z8sth6rI"
      }
    },
    {
      "cell_type": "code",
      "source": [
        "import numpy as np\n",
        "import pandas as pd\n",
        "from sklearn.model_selection import train_test_split\n",
        "wine = pd.read_csv('https://bit.ly/wine_csv_data')\n",
        "data = wine[['alcohol', 'sugar', 'pH']].to_numpy()\n",
        "target = wine['class'].to_numpy()\n",
        "train_input, test_input, train_target,test_target = train_test_split(data, target, test_size = 0.2, random_state = 42)"
      ],
      "metadata": {
        "id": "BOr4QItuh59s"
      },
      "execution_count": 2,
      "outputs": []
    },
    {
      "cell_type": "code",
      "source": [
        "from sklearn.model_selection import cross_validate\n",
        "from sklearn.ensemble import RandomForestClassifier # 기본적으로 100개의 트리 사용\n",
        "rf = RandomForestClassifier(n_jobs = -1, random_state = 42)\n",
        "scores = cross_validate(rf, train_input, train_target, return_train_score = True, n_jobs = -1) #return_train_score = True -> 훈련세트 점수도 같이 반환\n",
        "print(np.mean(scores['train_score']), np.mean(scores['test_score']))"
      ],
      "metadata": {
        "colab": {
          "base_uri": "https://localhost:8080/"
        },
        "id": "ilgnO_C_kll7",
        "outputId": "a234d541-7e46-4ba8-8779-3980d8b7a91b"
      },
      "execution_count": 3,
      "outputs": [
        {
          "output_type": "stream",
          "name": "stdout",
          "text": [
            "0.9973541965122431 0.8905151032797809\n"
          ]
        }
      ]
    },
    {
      "cell_type": "code",
      "source": [
        "# DecisionTreeClassifier 매개변수\n",
        "# criterion, max_depth, max_feature, min_samples_split, min_impurity_decrease, min_samples_leaf"
      ],
      "metadata": {
        "id": "LQdnGTORlxw8"
      },
      "execution_count": null,
      "outputs": []
    },
    {
      "cell_type": "code",
      "source": [
        "rf.fit(train_input, train_target)\n",
        "print(rf.feature_importances_) # 특성 중요도"
      ],
      "metadata": {
        "colab": {
          "base_uri": "https://localhost:8080/"
        },
        "id": "trF1nVZDmJpj",
        "outputId": "03066536-41ab-4106-d2ca-ed570e8c1b84"
      },
      "execution_count": 4,
      "outputs": [
        {
          "output_type": "stream",
          "name": "stdout",
          "text": [
            "[0.23167441 0.50039841 0.26792718]\n"
          ]
        }
      ]
    },
    {
      "cell_type": "markdown",
      "source": [
        "하나의 특성에 과도한 집중을 막고 좀 더 많은특성이 훈련에 기여할 수 있게함\n",
        "\n",
        "-> 과대적합을 막고 일반화 성능을 향상"
      ],
      "metadata": {
        "id": "qLIOsk6xmaka"
      }
    },
    {
      "cell_type": "markdown",
      "source": [
        "**랜덤포레스트 자체 모델 평가 기능**\n",
        "\n",
        "OOB(out of bag) = 부트스트랩 제외 샘플\n",
        "- 검증 세트 역할 수행"
      ],
      "metadata": {
        "id": "qGHqzLqTmm0t"
      }
    },
    {
      "cell_type": "code",
      "source": [
        "rf = RandomForestClassifier(oob_score = True, n_jobs = -1, random_state = 42) #oob_score = -> 기본값 false\n",
        "rf.fit(train_input, train_target)\n",
        "print(rf.oob_score_) #oob 점수 출력"
      ],
      "metadata": {
        "colab": {
          "base_uri": "https://localhost:8080/"
        },
        "id": "u6zvzjJum4MT",
        "outputId": "bd08daea-01ea-4e86-92d2-c6324849b645"
      },
      "execution_count": 5,
      "outputs": [
        {
          "output_type": "stream",
          "name": "stdout",
          "text": [
            "0.8934000384837406\n"
          ]
        }
      ]
    },
    {
      "cell_type": "markdown",
      "source": [
        "**에스트라 트리**\n",
        "\n",
        "부트스트랩 샘플을 사용하지 않음\n",
        "\n",
        "결정트리 생성 시 전체 훈련세트 사용\n",
        "\n",
        "대신 노드를 분할할 때 가장 좋은 분할이 아닌 랜덤 분할 시행\n",
        "\n",
        "계산 속도가 빠름"
      ],
      "metadata": {
        "id": "XPP3C_a9nXI_"
      }
    },
    {
      "cell_type": "code",
      "source": [
        "from sklearn.ensemble import ExtraTreesClassifier\n",
        "et = ExtraTreesClassifier(n_jobs = -1, random_state = 42)\n",
        "scores = cross_validate(et, train_input, train_target, return_train_score = True, n_jobs = -1)\n",
        "print(np.mean(scores['train_score']), np.mean(scores['test_score']))"
      ],
      "metadata": {
        "colab": {
          "base_uri": "https://localhost:8080/"
        },
        "id": "C9-Ts0Q9nynk",
        "outputId": "ed4cfcd2-4b35-4f31-d84b-194b43537e72"
      },
      "execution_count": 8,
      "outputs": [
        {
          "output_type": "stream",
          "name": "stdout",
          "text": [
            "0.9974503966084433 0.8887848893166506\n"
          ]
        }
      ]
    },
    {
      "cell_type": "code",
      "source": [
        "et.fit(train_input, train_target)\n",
        "print(et.feature_importances_)"
      ],
      "metadata": {
        "colab": {
          "base_uri": "https://localhost:8080/"
        },
        "id": "nr6Xx8wrogbX",
        "outputId": "b279e7a0-7700-43a5-9f4b-5f02d8e35f77"
      },
      "execution_count": 11,
      "outputs": [
        {
          "output_type": "stream",
          "name": "stdout",
          "text": [
            "[0.20183568 0.52242907 0.27573525]\n"
          ]
        }
      ]
    },
    {
      "cell_type": "markdown",
      "source": [
        "**그레디언트 부스팅**\n",
        "\n",
        "깊이가 얕은 결정 트리를 사용해 이전 트리의 오차를 보완\n",
        "\n",
        "기본적으로 깊이가 3인 결정트리 100개 사용\n",
        "\n",
        "깊이가 얕은 트리 사용으로 과대적합에 강하고 통상 높은 일반화 성능을 기대할 수 있음\n",
        "\n",
        "학습률 매개변수로 속도 조절"
      ],
      "metadata": {
        "id": "QNF3mWbGo1fd"
      }
    },
    {
      "cell_type": "code",
      "source": [
        "from sklearn.ensemble import GradientBoostingClassifier\n",
        "gb = GradientBoostingClassifier(random_state = 42)\n",
        "scores = cross_validate(gb, train_input, train_target, return_train_score = True, n_jobs = -1)\n",
        "print(np.mean(scores['train_score']), np.mean(scores['test_score']))"
      ],
      "metadata": {
        "colab": {
          "base_uri": "https://localhost:8080/"
        },
        "id": "u8bRm8hNpXg2",
        "outputId": "c68adf6b-6284-4386-f200-d6d4b50bd3ca"
      },
      "execution_count": 13,
      "outputs": [
        {
          "output_type": "stream",
          "name": "stdout",
          "text": [
            "0.8881086892152563 0.8720430147331015\n"
          ]
        }
      ]
    },
    {
      "cell_type": "markdown",
      "source": [
        "학습률을 증가시키고, 트리 개수를 늘리면 향상될 수 있음"
      ],
      "metadata": {
        "id": "4FrMz3afp-QO"
      }
    },
    {
      "cell_type": "code",
      "source": [
        "gb = GradientBoostingClassifier(n_estimators = 500, learning_rate = 0.2, random_state = 42) # n_estimators -> 트리개수 / learning_rate 기본값 0.1\n",
        "scores = cross_validate(gb, train_input, train_target, return_train_score = True, n_jobs = -1)\n",
        "print(np.mean(scores['train_score']), np.mean(scores['test_score']))"
      ],
      "metadata": {
        "colab": {
          "base_uri": "https://localhost:8080/"
        },
        "id": "Asb0bqj9qDoS",
        "outputId": "107f9321-4d03-43d1-a751-86e7f560e9fe"
      },
      "execution_count": 14,
      "outputs": [
        {
          "output_type": "stream",
          "name": "stdout",
          "text": [
            "0.9464595437171814 0.8780082549788999\n"
          ]
        }
      ]
    },
    {
      "cell_type": "code",
      "source": [
        "gb.fit(train_input, train_target)\n",
        "print(gb.feature_importances_)"
      ],
      "metadata": {
        "colab": {
          "base_uri": "https://localhost:8080/"
        },
        "id": "FsSrtMVkq0Xm",
        "outputId": "b13ef7a0-c153-4a89-ca36-37d1afa17222"
      },
      "execution_count": 15,
      "outputs": [
        {
          "output_type": "stream",
          "name": "stdout",
          "text": [
            "[0.15872278 0.68010884 0.16116839]\n"
          ]
        }
      ]
    },
    {
      "cell_type": "markdown",
      "source": [
        "일반적으로 부스팅이 랜덤포레스트보다 조금 더 높은 성능을 얻을 수 있다\n",
        "\n",
        "반면 부스팅의 경우 순서대로 트리를 추가하기 때문에 훈련 속도가 느림"
      ],
      "metadata": {
        "id": "jKfAN_XBrIL_"
      }
    },
    {
      "cell_type": "markdown",
      "source": [
        "**히스토그램 기반 그레디언트 부스팅**\n",
        "\n",
        "입력 특성을256개 구간으로 나눔 -> 노드를 분할할 때 최적의 분할을 매우 빠르게 찾음\n",
        "\n",
        "성능개선 관련 n_estimators 매개변수 대신, max_iter 매개변수 사용"
      ],
      "metadata": {
        "id": "g2taACe4rWCu"
      }
    },
    {
      "cell_type": "code",
      "source": [
        "from sklearn.experimental import enable_hist_gradient_boosting\n",
        "from sklearn.ensemble import HistGradientBoostingClassifier\n",
        "hgb = HistGradientBoostingClassifier(random_state = 42)\n",
        "scores = cross_validate(hgb, train_input, train_target, return_train_score = True)\n",
        "print(np.mean(scores['train_score']), np.mean(scores['test_score']))"
      ],
      "metadata": {
        "colab": {
          "base_uri": "https://localhost:8080/"
        },
        "id": "iqj7gXOxrrWz",
        "outputId": "04bd9a3a-5418-4385-df1f-d42ed85bb7e8"
      },
      "execution_count": 16,
      "outputs": [
        {
          "output_type": "stream",
          "name": "stderr",
          "text": [
            "/usr/local/lib/python3.10/dist-packages/sklearn/experimental/enable_hist_gradient_boosting.py:16: UserWarning: Since version 1.0, it is not needed to import enable_hist_gradient_boosting anymore. HistGradientBoostingClassifier and HistGradientBoostingRegressor are now stable and can be normally imported from sklearn.ensemble.\n",
            "  warnings.warn(\n"
          ]
        },
        {
          "output_type": "stream",
          "name": "stdout",
          "text": [
            "0.9321723946453317 0.8801241948619236\n"
          ]
        }
      ]
    },
    {
      "cell_type": "markdown",
      "source": [
        "**permutation_importances**\n",
        "\n",
        " 특성을 하나씩 랜덤하게 섞어 모델 성능이 변화하는지 관찰해 어떤 특성이 중요한지 계산\n",
        "\n",
        " 사이킷런 제공 모든 추정기 모델에 사용 가능"
      ],
      "metadata": {
        "id": "wf3ezypss7PP"
      }
    },
    {
      "cell_type": "code",
      "source": [
        "from sklearn.inspection import permutation_importance #permutation = 순열\n",
        "\n",
        "hgb.fit(train_input, train_target)\n",
        "result = permutation_importance(hgb, train_input, train_target, n_repeats = 10, random_state = 42, n_jobs = -1) # n_repeats -> 매개변수를 섞는 횟수, 기본값 5\n",
        "print(result.importances_mean) # 중요도 평균 // importances = 중요도 // importances_std =표준편차"
      ],
      "metadata": {
        "colab": {
          "base_uri": "https://localhost:8080/"
        },
        "id": "_aNWf2-6so99",
        "outputId": "2124e29c-417c-4ff3-afea-5d1ce7845c51"
      },
      "execution_count": 19,
      "outputs": [
        {
          "output_type": "stream",
          "name": "stdout",
          "text": [
            "[0.08876275 0.23438522 0.08027708]\n"
          ]
        }
      ]
    },
    {
      "cell_type": "code",
      "source": [
        "hgb.score(test_input, test_target)"
      ],
      "metadata": {
        "colab": {
          "base_uri": "https://localhost:8080/"
        },
        "id": "bcLqVCrOuEv5",
        "outputId": "78d846bd-e61e-4dcb-f551-c48764a73352"
      },
      "execution_count": 21,
      "outputs": [
        {
          "output_type": "execute_result",
          "data": {
            "text/plain": [
              "0.8723076923076923"
            ]
          },
          "metadata": {},
          "execution_count": 21
        }
      ]
    },
    {
      "cell_type": "markdown",
      "source": [
        "xgboost -> 다양한 부스팅 알고리즘 지원"
      ],
      "metadata": {
        "id": "JSQ343hHvGtq"
      }
    },
    {
      "cell_type": "code",
      "source": [
        "from xgboost import XGBClassifier\n",
        "xgb = XGBClassifier(tree_method = 'hist', random_state = 42) # tree_method = hist -> 히스토그램기반\n",
        "scores = cross_validate(xgb, train_input, train_target, return_train_score = True)\n",
        "print(np.mean(scores['train_score']), np.mean(scores['test_score']))"
      ],
      "metadata": {
        "colab": {
          "base_uri": "https://localhost:8080/"
        },
        "id": "4Qy-yM8SuiuJ",
        "outputId": "dd7b13a0-a687-40d9-f698-6771ddb34956"
      },
      "execution_count": 22,
      "outputs": [
        {
          "output_type": "stream",
          "name": "stdout",
          "text": [
            "0.9558403027491312 0.8782000074035686\n"
          ]
        }
      ]
    },
    {
      "cell_type": "markdown",
      "source": [
        "히스토그램 기반 그래디언트 부스팅 라이브러리는 ms사에서 만든 LightGBM"
      ],
      "metadata": {
        "id": "F09yKfbfvV57"
      }
    },
    {
      "cell_type": "code",
      "source": [
        "from lightgbm import LGBMClassifier\n",
        "lgb = LGBMClassifier(random_state = 42)\n",
        "scores = cross_validate(lgb, train_input, train_target, return_train_score = True, n_jobs = -1)\n",
        "print(np.mean(scores['train_score']), np.mean(scores['test_score']))"
      ],
      "metadata": {
        "colab": {
          "base_uri": "https://localhost:8080/"
        },
        "id": "XEaOW2e6vWnV",
        "outputId": "a92e0b7e-79ff-489a-98f4-50bda6753897"
      },
      "execution_count": 23,
      "outputs": [
        {
          "output_type": "stream",
          "name": "stdout",
          "text": [
            "0.935828414851749 0.8801251203079884\n"
          ]
        }
      ]
    }
  ]
}