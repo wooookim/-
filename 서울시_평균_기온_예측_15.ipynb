{
  "nbformat": 4,
  "nbformat_minor": 0,
  "metadata": {
    "colab": {
      "provenance": [],
      "authorship_tag": "ABX9TyOKpN9R5Lrfi+GxzSMoPU8B",
      "include_colab_link": true
    },
    "kernelspec": {
      "name": "python3",
      "display_name": "Python 3"
    },
    "language_info": {
      "name": "python"
    }
  },
  "cells": [
    {
      "cell_type": "markdown",
      "metadata": {
        "id": "view-in-github",
        "colab_type": "text"
      },
      "source": [
        "<a href=\"https://colab.research.google.com/github/wooookim/ML-DL/blob/main/%EC%84%9C%EC%9A%B8%EC%8B%9C_%ED%8F%89%EA%B7%A0_%EA%B8%B0%EC%98%A8_%EC%98%88%EC%B8%A1_15.ipynb\" target=\"_parent\"><img src=\"https://colab.research.google.com/assets/colab-badge.svg\" alt=\"Open In Colab\"/></a>"
      ]
    },
    {
      "cell_type": "code",
      "source": [
        "import pandas as pd\n",
        "data = pd.read_csv('/content/train.csv')\n",
        "submission = pd.read_csv('/content/sample_submission.csv')"
      ],
      "metadata": {
        "id": "BsQ8h3M4Mu90"
      },
      "execution_count": 3,
      "outputs": []
    },
    {
      "cell_type": "code",
      "source": [
        "# '일시' 열을 날짜 데이터로 변환\n",
        "data['일시'] = pd.to_datetime(data['일시'])\n",
        "\n",
        "# '일시' 컬럼에서 '월', '일' 열 추가\n",
        "data['월'] = data['일시'].dt.month\n",
        "data['일'] = data['일시'].dt.day\n",
        "\n",
        "# 월, 일별 중앙값 계산\n",
        "monthly_medians = data.groupby('일').transform('median')\n",
        "daily_medians = data.groupby('일').transform('median')"
      ],
      "metadata": {
        "colab": {
          "base_uri": "https://localhost:8080/"
        },
        "id": "nM5Lqd-hN_y4",
        "outputId": "59908a61-8895-48f8-8f92-8c1fea4dd2bf"
      },
      "execution_count": 4,
      "outputs": [
        {
          "output_type": "stream",
          "name": "stderr",
          "text": [
            "<ipython-input-4-f0d9f2a84bd0>:9: FutureWarning: The default value of numeric_only in DataFrameGroupBy.median is deprecated. In a future version, numeric_only will default to False. Either specify numeric_only or select only columns which should be valid for the function.\n",
            "  monthly_medians = data.groupby('일').transform('median')\n",
            "<ipython-input-4-f0d9f2a84bd0>:10: FutureWarning: The default value of numeric_only in DataFrameGroupBy.median is deprecated. In a future version, numeric_only will default to False. Either specify numeric_only or select only columns which should be valid for the function.\n",
            "  daily_medians = data.groupby('일').transform('median')\n"
          ]
        }
      ]
    },
    {
      "cell_type": "code",
      "source": [
        "from datetime import datetime\n",
        "\n",
        "current_year = datetime.now().year\n",
        "\n",
        "# 2월 29일에 해당하는 행 선택\n",
        "selected_rows = data[(data['일시'].dt.month == 2) & (data['일시'].dt.day == 29)]\n",
        "\n",
        "# 29일에 해당하는 16개 행\n",
        "# 23011 - 16 = 22995\n",
        "\n",
        "# 선택한 행의 인덱스를 사용하여 삭제\n",
        "data = data.drop(selected_rows.index)\n",
        "\n",
        "print(data.info())"
      ],
      "metadata": {
        "colab": {
          "base_uri": "https://localhost:8080/"
        },
        "id": "EBVK9j8gOL1E",
        "outputId": "57ea7d11-b5d2-4963-8788-e76469b16c3f"
      },
      "execution_count": 5,
      "outputs": [
        {
          "output_type": "stream",
          "name": "stdout",
          "text": [
            "<class 'pandas.core.frame.DataFrame'>\n",
            "Int64Index: 22995 entries, 0 to 23010\n",
            "Data columns (total 13 columns):\n",
            " #   Column  Non-Null Count  Dtype         \n",
            "---  ------  --------------  -----         \n",
            " 0   일시      22995 non-null  datetime64[ns]\n",
            " 1   최고기온    22992 non-null  float64       \n",
            " 2   최저기온    22992 non-null  float64       \n",
            " 3   일교차     22991 non-null  float64       \n",
            " 4   강수량     9142 non-null   float64       \n",
            " 5   평균습도    22995 non-null  float64       \n",
            " 6   평균풍속    22991 non-null  float64       \n",
            " 7   일조합     22877 non-null  float64       \n",
            " 8   일사합     18137 non-null  float64       \n",
            " 9   일조율     22630 non-null  float64       \n",
            " 10  평균기온    22995 non-null  float64       \n",
            " 11  월       22995 non-null  int64         \n",
            " 12  일       22995 non-null  int64         \n",
            "dtypes: datetime64[ns](1), float64(10), int64(2)\n",
            "memory usage: 2.5 MB\n",
            "None\n"
          ]
        }
      ]
    },
    {
      "cell_type": "markdown",
      "source": [
        "윤년 데이터 빼고 365로 나눠서 모델에 적용시키기"
      ],
      "metadata": {
        "id": "485zyVzfPXpO"
      }
    },
    {
      "cell_type": "code",
      "source": [
        "# 결측값 대체\n",
        "data.fillna(daily_medians, inplace=True)\n",
        "\n",
        "for column in data.columns:\n",
        "    if data[column].isnull().any():  # 결측값이 있는 경우에만 처리\n",
        "        data[column+'_중앙값'] = data.apply(lambda row: daily_medians.loc[row['일'], column], axis=1)\n",
        "        data[column].fillna(data[column+'_중앙값'], inplace=True)\n",
        "        data.drop(column+'_중앙값', axis=1, inplace=True)\n",
        "\n",
        "print(data.info())"
      ],
      "metadata": {
        "colab": {
          "base_uri": "https://localhost:8080/"
        },
        "id": "5sM9HUCpW-FV",
        "outputId": "8654995e-81e4-4ead-87c7-5da250bcf318"
      },
      "execution_count": 7,
      "outputs": [
        {
          "output_type": "stream",
          "name": "stdout",
          "text": [
            "<class 'pandas.core.frame.DataFrame'>\n",
            "Int64Index: 22995 entries, 0 to 23010\n",
            "Data columns (total 13 columns):\n",
            " #   Column  Non-Null Count  Dtype         \n",
            "---  ------  --------------  -----         \n",
            " 0   일시      22995 non-null  datetime64[ns]\n",
            " 1   최고기온    22995 non-null  float64       \n",
            " 2   최저기온    22995 non-null  float64       \n",
            " 3   일교차     22995 non-null  float64       \n",
            " 4   강수량     22995 non-null  float64       \n",
            " 5   평균습도    22995 non-null  float64       \n",
            " 6   평균풍속    22995 non-null  float64       \n",
            " 7   일조합     22995 non-null  float64       \n",
            " 8   일사합     22995 non-null  float64       \n",
            " 9   일조율     22995 non-null  float64       \n",
            " 10  평균기온    22995 non-null  float64       \n",
            " 11  월       22995 non-null  int64         \n",
            " 12  일       22995 non-null  int64         \n",
            "dtypes: datetime64[ns](1), float64(10), int64(2)\n",
            "memory usage: 3.0 MB\n",
            "None\n"
          ]
        }
      ]
    },
    {
      "cell_type": "code",
      "source": [
        "train = data[['최고기온', '최저기온', '일교차', '강수량', '평균습도', '평균풍속', '일조합', '일사합', '일조율']]\n",
        "\n",
        "target = data['평균기온']"
      ],
      "metadata": {
        "id": "WYnyNYa_X6oL"
      },
      "execution_count": 8,
      "outputs": []
    },
    {
      "cell_type": "code",
      "source": [
        "from xgboost import XGBRegressor\n",
        "xgb = XGBRegressor()\n",
        "xgb.fit(train, target)\n",
        "\n",
        "pred_xgb = xgb.predict(train)\n",
        "\n",
        "from sklearn.metrics import mean_squared_error\n",
        "xgb_mae = mean_squared_error(target, pred_xgb)\n",
        "print(xgb_mae)\n",
        "\n",
        "submission['평균기온'] = pred_xgb[:358]\n",
        "print(submission.head(10))"
      ],
      "metadata": {
        "colab": {
          "base_uri": "https://localhost:8080/"
        },
        "id": "Vyst1b9pRvu2",
        "outputId": "a4ca9788-a957-4832-a24f-42172a7bd78a"
      },
      "execution_count": 11,
      "outputs": [
        {
          "output_type": "stream",
          "name": "stdout",
          "text": [
            "0.14606162682038204\n",
            "           일시      평균기온\n",
            "0  2023-01-01 -2.183585\n",
            "1  2023-01-02 -2.091987\n",
            "2  2023-01-03  3.852068\n",
            "3  2023-01-04  6.974639\n",
            "4  2023-01-05 -3.713041\n",
            "5  2023-01-06 -5.435071\n",
            "6  2023-01-07  1.221396\n",
            "7  2023-01-08  1.920237\n",
            "8  2023-01-09  2.150571\n",
            "9  2023-01-10  1.890086\n"
          ]
        }
      ]
    },
    {
      "cell_type": "code",
      "source": [
        "from sklearn.ensemble import RandomForestRegressor\n",
        "rf = RandomForestRegressor()\n",
        "rf.fit(train, target)\n",
        "\n",
        "pred_rf = rf.predict(train)\n",
        "\n",
        "from sklearn.metrics import mean_squared_error\n",
        "rf_mae = mean_squared_error(target, pred_rf)\n",
        "print(rf_mae)\n",
        "\n",
        "submission['평균기온'] = pred_rf[:358]\n",
        "print(submission.head(10))"
      ],
      "metadata": {
        "colab": {
          "base_uri": "https://localhost:8080/"
        },
        "id": "dkx5-ZjJYM2W",
        "outputId": "c1f5f9b8-7aec-4ba1-b71a-82ed64eb3a5e"
      },
      "execution_count": 9,
      "outputs": [
        {
          "output_type": "stream",
          "name": "stdout",
          "text": [
            "0.03759200474016091\n",
            "           일시   평균기온\n",
            "0  2023-01-01 -1.645\n",
            "1  2023-01-02 -2.074\n",
            "2  2023-01-03  3.741\n",
            "3  2023-01-04  6.982\n",
            "4  2023-01-05 -4.270\n",
            "5  2023-01-06 -5.253\n",
            "6  2023-01-07  1.146\n",
            "7  2023-01-08  1.814\n",
            "8  2023-01-09  2.312\n",
            "9  2023-01-10  1.974\n"
          ]
        }
      ]
    },
    {
      "cell_type": "markdown",
      "source": [
        "다른 모델을 썼는데 어떻게 점수가 똑같이 나오지\n",
        "\n",
        "예측에다가 위에 모델을 불러와서 그런거였고"
      ],
      "metadata": {
        "id": "7NrKA5i9ZOTT"
      }
    },
    {
      "cell_type": "code",
      "source": [
        "submission.to_csv(\"DEAGYUL_12_submission.csv\", index=False)\n",
        "\n",
        "print(submission.head(30))"
      ],
      "metadata": {
        "colab": {
          "base_uri": "https://localhost:8080/"
        },
        "id": "ThFhBN0DbaaK",
        "outputId": "97554aca-9087-4171-dc22-48b834f226cc"
      },
      "execution_count": 10,
      "outputs": [
        {
          "output_type": "stream",
          "name": "stdout",
          "text": [
            "            일시    평균기온\n",
            "0   2023-01-01  -1.645\n",
            "1   2023-01-02  -2.074\n",
            "2   2023-01-03   3.741\n",
            "3   2023-01-04   6.982\n",
            "4   2023-01-05  -4.270\n",
            "5   2023-01-06  -5.253\n",
            "6   2023-01-07   1.146\n",
            "7   2023-01-08   1.814\n",
            "8   2023-01-09   2.312\n",
            "9   2023-01-10   1.974\n",
            "10  2023-01-11  -1.963\n",
            "11  2023-01-12  -3.706\n",
            "12  2023-01-13  -3.218\n",
            "13  2023-01-14  -1.724\n",
            "14  2023-01-15  -5.022\n",
            "15  2023-01-16  -4.969\n",
            "16  2023-01-17  -5.466\n",
            "17  2023-01-18  -2.831\n",
            "18  2023-01-19   2.062\n",
            "19  2023-01-20  -0.656\n",
            "20  2023-01-21  -6.453\n",
            "21  2023-01-22  -9.354\n",
            "22  2023-01-23 -13.134\n",
            "23  2023-01-24 -12.586\n",
            "24  2023-01-25  -7.574\n",
            "25  2023-01-26  -7.547\n",
            "26  2023-01-27 -10.768\n",
            "27  2023-01-28 -11.213\n",
            "28  2023-01-29  -7.764\n",
            "29  2023-01-30  -0.366\n"
          ]
        }
      ]
    },
    {
      "cell_type": "markdown",
      "source": [
        "하다보니까 생각난건데 왜 평균값을 하면 안된다고 생각했지;; 0을 곱해버린다고 생각했다;;;"
      ],
      "metadata": {
        "id": "AbZW5VePZ2-2"
      }
    }
  ]
}