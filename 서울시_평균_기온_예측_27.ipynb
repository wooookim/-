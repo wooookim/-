{
  "nbformat": 4,
  "nbformat_minor": 0,
  "metadata": {
    "colab": {
      "provenance": [],
      "authorship_tag": "ABX9TyNF3XB5W84WBIDTfVMdjX+Q",
      "include_colab_link": true
    },
    "kernelspec": {
      "name": "python3",
      "display_name": "Python 3"
    },
    "language_info": {
      "name": "python"
    }
  },
  "cells": [
    {
      "cell_type": "markdown",
      "metadata": {
        "id": "view-in-github",
        "colab_type": "text"
      },
      "source": [
        "<a href=\"https://colab.research.google.com/github/wooookim/ML-DL/blob/main/%EC%84%9C%EC%9A%B8%EC%8B%9C_%ED%8F%89%EA%B7%A0_%EA%B8%B0%EC%98%A8_%EC%98%88%EC%B8%A1_27.ipynb\" target=\"_parent\"><img src=\"https://colab.research.google.com/assets/colab-badge.svg\" alt=\"Open In Colab\"/></a>"
      ]
    },
    {
      "cell_type": "code",
      "execution_count": 1,
      "metadata": {
        "id": "2Bl5htw2gZjv"
      },
      "outputs": [],
      "source": [
        "import pandas as pd\n",
        "import numpy as np\n",
        "\n",
        "data = pd.read_csv('/content/train.csv')\n",
        "submission = pd.read_csv('/content/sample_submission.csv')"
      ]
    },
    {
      "cell_type": "code",
      "source": [
        "# '일시' 열을 날짜 데이터로 변환\n",
        "data['일시'] = pd.to_datetime(data['일시'])\n",
        "\n",
        "# 2월 29일에 해당하는 행 선택\n",
        "selected_rows = data[(data['일시'].dt.month == 2) & (data['일시'].dt.day == 29)]\n",
        "\n",
        "# 29일에 해당하는 16개 행\n",
        "# 23011 - 16 = 22995\n",
        "\n",
        "# 선택한 행의 인덱스를 사용하여 삭제\n",
        "data = data.drop(selected_rows.index)"
      ],
      "metadata": {
        "id": "jGuoOho2gs5O"
      },
      "execution_count": 7,
      "outputs": []
    },
    {
      "cell_type": "code",
      "source": [
        "# 계절 분류 함수 정의\n",
        "def classify_season(month):\n",
        "    if  month == 1 or month == 2 or month == 12:\n",
        "        return '겨울'\n",
        "    elif 3 <= month <= 5:\n",
        "        return '봄'\n",
        "    elif 6 <= month <= 8:\n",
        "        return '여름'\n",
        "    else:\n",
        "        return '가을'\n",
        "\n",
        "# '일시' 컬럼에서 월 정보를 추출하여 '계절' 열 추가\n",
        "data['월'] = data['일시'].dt.month\n",
        "data['계절'] = data['월'].apply(classify_season)\n",
        "\n",
        "# 계절별 중앙값 계산\n",
        "seasonal_medians = data.groupby('계절').transform('median')\n",
        "\n",
        "# 결측값 대체\n",
        "data.fillna(seasonal_medians, inplace=True)"
      ],
      "metadata": {
        "colab": {
          "base_uri": "https://localhost:8080/"
        },
        "id": "v019jScEgkb9",
        "outputId": "14112fbb-2cdf-4d28-c9f6-3be3dea088f4"
      },
      "execution_count": 8,
      "outputs": [
        {
          "output_type": "stream",
          "name": "stderr",
          "text": [
            "<ipython-input-8-2bcbecf70c8d>:17: FutureWarning: The default value of numeric_only in DataFrameGroupBy.median is deprecated. In a future version, numeric_only will default to False. Either specify numeric_only or select only columns which should be valid for the function.\n",
            "  seasonal_medians = data.groupby('계절').transform('median')\n"
          ]
        }
      ]
    },
    {
      "cell_type": "code",
      "source": [
        "train = data[['최고기온', '최저기온', '일교차', '강수량', '평균습도', '평균풍속', '일조합', '일사합', '일조율']]\n",
        "\n",
        "target = data['평균기온']"
      ],
      "metadata": {
        "id": "aPfCZ6_agxSc"
      },
      "execution_count": 9,
      "outputs": []
    },
    {
      "cell_type": "code",
      "source": [
        "data['연도'] = data['일시'].dt.year\n",
        "\n",
        "data_after_1980 = data[data['연도'] >= 1980]\n",
        "\n",
        "train_80 = data_after_1980[['최고기온', '최저기온', '일교차', '강수량', '평균습도', '평균풍속', '일조합', '일사합', '일조율']]\n",
        "target_80 = data_after_1980['평균기온']"
      ],
      "metadata": {
        "id": "Ci4p6Kyxg0Lg"
      },
      "execution_count": 10,
      "outputs": []
    },
    {
      "cell_type": "code",
      "source": [
        "from sklearn.ensemble import RandomForestRegressor\n",
        "rf = RandomForestRegressor()\n",
        "rf.fit(train_80, target_80)\n",
        "\n",
        "pred_rf = rf.predict(train_80)\n",
        "\n",
        "from sklearn.metrics import mean_absolute_error\n",
        "rf_mae = mean_absolute_error(target_80, pred_rf)\n",
        "print(rf_mae)\n",
        "\n",
        "submission['평균기온'] = pred_rf[:358]\n",
        "print(submission.head(30))"
      ],
      "metadata": {
        "colab": {
          "base_uri": "https://localhost:8080/"
        },
        "id": "iSLMOBdrg5rD",
        "outputId": "a20d7073-23cb-4610-f742-fca775c615cf"
      },
      "execution_count": 11,
      "outputs": [
        {
          "output_type": "stream",
          "name": "stdout",
          "text": [
            "0.13898075820324948\n",
            "            일시    평균기온\n",
            "0   2023-01-01   3.731\n",
            "1   2023-01-02   4.678\n",
            "2   2023-01-03   3.500\n",
            "3   2023-01-04  -3.386\n",
            "4   2023-01-05  -5.311\n",
            "5   2023-01-06  -2.675\n",
            "6   2023-01-07  -8.541\n",
            "7   2023-01-08  -4.365\n",
            "8   2023-01-09   0.053\n",
            "9   2023-01-10  -7.841\n",
            "10  2023-01-11  -8.477\n",
            "11  2023-01-12  -3.972\n",
            "12  2023-01-13  -3.310\n",
            "13  2023-01-14  -5.698\n",
            "14  2023-01-15  -5.183\n",
            "15  2023-01-16  -6.205\n",
            "16  2023-01-17 -12.384\n",
            "17  2023-01-18 -10.133\n",
            "18  2023-01-19  -4.320\n",
            "19  2023-01-20  -5.130\n",
            "20  2023-01-21  -7.267\n",
            "21  2023-01-22  -7.758\n",
            "22  2023-01-23  -0.756\n",
            "23  2023-01-24  -2.570\n",
            "24  2023-01-25  -2.713\n",
            "25  2023-01-26   1.625\n",
            "26  2023-01-27   5.269\n",
            "27  2023-01-28   5.233\n",
            "28  2023-01-29   3.159\n",
            "29  2023-01-30  -9.542\n"
          ]
        }
      ]
    },
    {
      "cell_type": "code",
      "source": [
        "from sklearn.preprocessing import PolynomialFeatures\n",
        "poly = PolynomialFeatures()\n",
        "poly.fit(train_80)\n",
        "train_poly = poly.transform(train_80)\n",
        "\n",
        "from sklearn.linear_model import LinearRegression\n",
        "lr = LinearRegression()\n",
        "lr.fit(train_poly, target_80)\n",
        "\n",
        "# print(lr.score(train_poly, target))\n",
        "\n",
        "from sklearn.metrics import mean_absolute_error\n",
        "lr_pred = lr.predict(train_poly)\n",
        "\n",
        "lr_mae = mean_absolute_error(target_80, lr_pred)\n",
        "\n",
        "print(\"훈련 세트 MAE:\", lr_mae)\n",
        "\n",
        "submission['평균기온'] = lr_pred[:358]\n",
        "# submission.to_csv(\"DEAGYUL_9_submission.csv\", index=False)\n",
        "\n",
        "print(submission.head(30))"
      ],
      "metadata": {
        "colab": {
          "base_uri": "https://localhost:8080/"
        },
        "id": "bHcDLDCqjYEN",
        "outputId": "76061989-cc4e-4169-c751-2a9064e91e6e"
      },
      "execution_count": 12,
      "outputs": [
        {
          "output_type": "stream",
          "name": "stdout",
          "text": [
            "훈련 세트 MAE: 0.3559908563300467\n",
            "            일시       평균기온\n",
            "0   2023-01-01   3.626416\n",
            "1   2023-01-02   4.615129\n",
            "2   2023-01-03   2.608891\n",
            "3   2023-01-04  -3.852668\n",
            "4   2023-01-05  -5.307220\n",
            "5   2023-01-06  -2.203420\n",
            "6   2023-01-07  -8.745922\n",
            "7   2023-01-08  -4.328595\n",
            "8   2023-01-09  -0.355605\n",
            "9   2023-01-10  -7.094057\n",
            "10  2023-01-11  -8.012096\n",
            "11  2023-01-12  -3.902322\n",
            "12  2023-01-13  -3.486952\n",
            "13  2023-01-14  -5.463948\n",
            "14  2023-01-15  -4.967372\n",
            "15  2023-01-16  -5.838511\n",
            "16  2023-01-17 -12.220932\n",
            "17  2023-01-18  -9.933655\n",
            "18  2023-01-19  -4.231407\n",
            "19  2023-01-20  -5.255504\n",
            "20  2023-01-21  -6.850748\n",
            "21  2023-01-22  -7.590851\n",
            "22  2023-01-23  -0.070325\n",
            "23  2023-01-24  -2.313619\n",
            "24  2023-01-25  -2.576469\n",
            "25  2023-01-26   1.524478\n",
            "26  2023-01-27   5.801514\n",
            "27  2023-01-28   5.259564\n",
            "28  2023-01-29   2.453878\n",
            "29  2023-01-30  -7.891416\n"
          ]
        }
      ]
    },
    {
      "cell_type": "code",
      "source": [
        "submission.to_csv(\"DEAGYUL_22_submission.csv\", index=False)"
      ],
      "metadata": {
        "id": "cKvHFoPljyvb"
      },
      "execution_count": 13,
      "outputs": []
    },
    {
      "cell_type": "markdown",
      "source": [
        "여기서는 점수가 약상승하는 반면 실제 제출점수는 크게 떨어졌다\n",
        "\n",
        "80년대 이후 데이터가 선형 회귀에 우상향하게 나와서 더 적합하다고 판단했지만 데이터를 줄일수록 채점 점수가 계속 떨어졌다"
      ],
      "metadata": {
        "id": "zh6dSQoikHEI"
      }
    }
  ]
}