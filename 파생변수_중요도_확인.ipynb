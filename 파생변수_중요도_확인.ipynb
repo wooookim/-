{
  "nbformat": 4,
  "nbformat_minor": 0,
  "metadata": {
    "colab": {
      "provenance": [],
      "authorship_tag": "ABX9TyP0T3JdtvTZ/oI47amQo6S6",
      "include_colab_link": true
    },
    "kernelspec": {
      "name": "python3",
      "display_name": "Python 3"
    },
    "language_info": {
      "name": "python"
    }
  },
  "cells": [
    {
      "cell_type": "markdown",
      "metadata": {
        "id": "view-in-github",
        "colab_type": "text"
      },
      "source": [
        "<a href=\"https://colab.research.google.com/github/wooookim/ML-DL/blob/main/%ED%8C%8C%EC%83%9D%EB%B3%80%EC%88%98_%EC%A4%91%EC%9A%94%EB%8F%84_%ED%99%95%EC%9D%B8.ipynb\" target=\"_parent\"><img src=\"https://colab.research.google.com/assets/colab-badge.svg\" alt=\"Open In Colab\"/></a>"
      ]
    },
    {
      "cell_type": "markdown",
      "source": [
        "KNN공부하고 운동 끝나고 샤워하다가 그냥 물고기 변수들을 다 곱하거나 더하는 단순 연산으로 변수를 만들고 평가해보면 어떨까 생각해봤다\n",
        "\n",
        "특성공학 부분에서 파생변수를 만드는 방법(조합을 생성하는)을 배워서 그런가 보다하고 넘겼었는데 또 샤워하다보니까 마음에 걸려서 직접 확인해봤다\n",
        "\n",
        "1. 단순 연산을 이용해서 파생변수 만들기\n",
        "2. 파생변수 생성 PolynomialFeatures을 다시 보니 내가 직접 수식을 작성할 필요 없음\n",
        "3. 그래서 단순 활용하기 위해서 작성\n",
        "4. PolynomialFeatures 이 매서드는 단순히 생성만 가능, 모델 매서드에서 중요도 확인 같은 정보를 얻을 수는 없음"
      ],
      "metadata": {
        "id": "LYH8Dt0izMuv"
      }
    },
    {
      "cell_type": "code",
      "execution_count": 8,
      "metadata": {
        "colab": {
          "base_uri": "https://localhost:8080/",
          "height": 237
        },
        "id": "ofkx9CVQxsIO",
        "outputId": "da7c2b1c-0482-4b5b-cf24-d4caa4a67d11"
      },
      "outputs": [
        {
          "output_type": "error",
          "ename": "AttributeError",
          "evalue": "ignored",
          "traceback": [
            "\u001b[0;31m---------------------------------------------------------------------------\u001b[0m",
            "\u001b[0;31mAttributeError\u001b[0m                            Traceback (most recent call last)",
            "\u001b[0;32m<ipython-input-8-c4efdf3e5e0a>\u001b[0m in \u001b[0;36m<cell line: 23>\u001b[0;34m()\u001b[0m\n\u001b[1;32m     21\u001b[0m \u001b[0;31m# print(train_poly.shape)\u001b[0m\u001b[0;34m\u001b[0m\u001b[0;34m\u001b[0m\u001b[0m\n\u001b[1;32m     22\u001b[0m \u001b[0;34m\u001b[0m\u001b[0m\n\u001b[0;32m---> 23\u001b[0;31m \u001b[0mimportances\u001b[0m \u001b[0;34m=\u001b[0m \u001b[0mpoly\u001b[0m\u001b[0;34m.\u001b[0m\u001b[0mfeature_importances_\u001b[0m\u001b[0;34m\u001b[0m\u001b[0;34m\u001b[0m\u001b[0m\n\u001b[0m\u001b[1;32m     24\u001b[0m \u001b[0mprint\u001b[0m\u001b[0;34m(\u001b[0m\u001b[0mimportances\u001b[0m\u001b[0;34m)\u001b[0m\u001b[0;34m\u001b[0m\u001b[0;34m\u001b[0m\u001b[0m\n",
            "\u001b[0;31mAttributeError\u001b[0m: 'PolynomialFeatures' object has no attribute 'feature_importances_'"
          ]
        }
      ],
      "source": [
        "import pandas as pd\n",
        "import numpy as np\n",
        "df = pd.read_csv('http://bit.ly/perch_csv_data')\n",
        "perch_full = df.to_numpy()\n",
        "# print(perch_full)\n",
        "perch_weight = np.array([5.9, 32.0, 40.0, 51.5, 70.0, 100.0, 78.0, 80.0, 85.0, 85.0, 110.0,\n",
        "       115.0, 125.0, 130.0, 120.0, 120.0, 130.0, 135.0, 110.0, 130.0,\n",
        "       150.0, 145.0, 150.0, 170.0, 225.0, 145.0, 188.0, 180.0, 197.0,\n",
        "       218.0, 300.0, 260.0, 265.0, 250.0, 250.0, 300.0, 320.0, 514.0,\n",
        "       556.0, 840.0, 685.0, 700.0, 700.0, 690.0, 900.0, 650.0, 820.0,\n",
        "       850.0, 900.0, 1015.0, 820.0, 1100.0, 1000.0, 1100.0, 1000.0,\n",
        "       1000.0])\n",
        "\n",
        "from sklearn.model_selection import train_test_split\n",
        "train_input, test_input, train_target, test_target = train_test_split(perch_full, perch_weight, random_state = 42)\n",
        "\n",
        "from sklearn.preprocessing import PolynomialFeatures\n",
        "poly = PolynomialFeatures(include_bias = False)\n",
        "poly.fit(train_input)\n",
        "train_poly = poly.transform(train_input)\n",
        "# print(train_poly.shape)\n",
        "\n",
        "importances = poly.feature_importances_\n",
        "print(importances)"
      ]
    },
    {
      "cell_type": "markdown",
      "source": [
        "PolynomialFeatures 클래스 자체에는 특성 중요도 매서드가 없어서 단독으로 확인이 불가\n",
        "\n",
        "\n",
        "단순히 다항식 특성을 추가한는 역학\n",
        "\n",
        "동시에 모델을 학습한 후 모델 매서드를 활용해서 중요도를 확인"
      ],
      "metadata": {
        "id": "80qyRqDFy2j9"
      }
    }
  ]
}