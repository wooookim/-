{
  "nbformat": 4,
  "nbformat_minor": 0,
  "metadata": {
    "colab": {
      "provenance": [],
      "authorship_tag": "ABX9TyMdDOTKsyvHAwiUAsmWRqWz",
      "include_colab_link": true
    },
    "kernelspec": {
      "name": "python3",
      "display_name": "Python 3"
    },
    "language_info": {
      "name": "python"
    }
  },
  "cells": [
    {
      "cell_type": "markdown",
      "metadata": {
        "id": "view-in-github",
        "colab_type": "text"
      },
      "source": [
        "<a href=\"https://colab.research.google.com/github/wooookim/ML-DL/blob/main/%EC%84%9C%EC%9A%B8%EC%8B%9C_%ED%8F%89%EA%B7%A0_%EA%B8%B0%EC%98%A8_%EC%98%88%EC%B8%A1_16.ipynb\" target=\"_parent\"><img src=\"https://colab.research.google.com/assets/colab-badge.svg\" alt=\"Open In Colab\"/></a>"
      ]
    },
    {
      "cell_type": "code",
      "source": [
        "import pandas as pd\n",
        "data = pd.read_csv('/content/train.csv')\n",
        "submission = pd.read_csv('/content/sample_submission.csv')"
      ],
      "metadata": {
        "id": "BsQ8h3M4Mu90"
      },
      "execution_count": 1,
      "outputs": []
    },
    {
      "cell_type": "code",
      "source": [
        "# '일시' 열을 날짜 데이터로 변환\n",
        "data['일시'] = pd.to_datetime(data['일시'])\n",
        "\n",
        "# '일시' 컬럼에서 '월', '일' 열 추가\n",
        "data['월'] = data['일시'].dt.month\n",
        "data['일'] = data['일시'].dt.day\n",
        "\n",
        "# 월, 일별 중앙값 계산\n",
        "monthly_means = data.groupby('일').transform('mean')\n",
        "daily_means = data.groupby('일').transform('mean')"
      ],
      "metadata": {
        "colab": {
          "base_uri": "https://localhost:8080/"
        },
        "id": "nM5Lqd-hN_y4",
        "outputId": "dcfe30f3-00c0-40c8-abf5-80e3900cc081"
      },
      "execution_count": 11,
      "outputs": [
        {
          "output_type": "stream",
          "name": "stderr",
          "text": [
            "<ipython-input-11-45e381c45d0e>:9: FutureWarning: The default value of numeric_only in DataFrameGroupBy.mean is deprecated. In a future version, numeric_only will default to False. Either specify numeric_only or select only columns which should be valid for the function.\n",
            "  monthly_means = data.groupby('일').transform('mean')\n",
            "<ipython-input-11-45e381c45d0e>:10: FutureWarning: The default value of numeric_only in DataFrameGroupBy.mean is deprecated. In a future version, numeric_only will default to False. Either specify numeric_only or select only columns which should be valid for the function.\n",
            "  daily_means = data.groupby('일').transform('mean')\n"
          ]
        }
      ]
    },
    {
      "cell_type": "code",
      "source": [
        "from datetime import datetime\n",
        "\n",
        "current_year = datetime.now().year\n",
        "\n",
        "# 2월 29일에 해당하는 행 선택\n",
        "selected_rows = data[(data['일시'].dt.month == 2) & (data['일시'].dt.day == 29)]\n",
        "\n",
        "# 29일에 해당하는 16개 행\n",
        "# 23011 - 16 = 22995\n",
        "\n",
        "# 선택한 행의 인덱스를 사용하여 삭제\n",
        "data = data.drop(selected_rows.index)\n",
        "\n",
        "print(data.info())"
      ],
      "metadata": {
        "colab": {
          "base_uri": "https://localhost:8080/"
        },
        "id": "EBVK9j8gOL1E",
        "outputId": "86c2c785-16bf-47f5-d4e1-1df33db56f92"
      },
      "execution_count": 5,
      "outputs": [
        {
          "output_type": "stream",
          "name": "stdout",
          "text": [
            "<class 'pandas.core.frame.DataFrame'>\n",
            "Int64Index: 22995 entries, 0 to 23010\n",
            "Data columns (total 13 columns):\n",
            " #   Column  Non-Null Count  Dtype         \n",
            "---  ------  --------------  -----         \n",
            " 0   일시      22995 non-null  datetime64[ns]\n",
            " 1   최고기온    22992 non-null  float64       \n",
            " 2   최저기온    22992 non-null  float64       \n",
            " 3   일교차     22991 non-null  float64       \n",
            " 4   강수량     9142 non-null   float64       \n",
            " 5   평균습도    22995 non-null  float64       \n",
            " 6   평균풍속    22991 non-null  float64       \n",
            " 7   일조합     22877 non-null  float64       \n",
            " 8   일사합     18137 non-null  float64       \n",
            " 9   일조율     22630 non-null  float64       \n",
            " 10  평균기온    22995 non-null  float64       \n",
            " 11  월       22995 non-null  int64         \n",
            " 12  일       22995 non-null  int64         \n",
            "dtypes: datetime64[ns](1), float64(10), int64(2)\n",
            "memory usage: 2.5 MB\n",
            "None\n"
          ]
        }
      ]
    },
    {
      "cell_type": "markdown",
      "source": [
        "윤년 데이터 빼고 365로 나눠서 모델에 적용시키기"
      ],
      "metadata": {
        "id": "485zyVzfPXpO"
      }
    },
    {
      "cell_type": "code",
      "source": [
        "# 결측값 대체\n",
        "data.fillna(daily_means, inplace=True)\n",
        "\n",
        "for column in data.columns:\n",
        "    if data[column].isnull().any():  # 결측값이 있는 경우에만 처리\n",
        "        data[column+'_중앙값'] = data.apply(lambda row: daily_means.loc[row['일'], column], axis=1)\n",
        "        data[column].fillna(data[column+'_중앙값'], inplace=True)\n",
        "        data.drop(column+'_중앙값', axis=1, inplace=True)\n",
        "\n",
        "print(data.info())"
      ],
      "metadata": {
        "colab": {
          "base_uri": "https://localhost:8080/"
        },
        "id": "5sM9HUCpW-FV",
        "outputId": "5f950e29-be68-4d40-8d59-404cf0822621"
      },
      "execution_count": 12,
      "outputs": [
        {
          "output_type": "stream",
          "name": "stdout",
          "text": [
            "<class 'pandas.core.frame.DataFrame'>\n",
            "Int64Index: 22995 entries, 0 to 23010\n",
            "Data columns (total 13 columns):\n",
            " #   Column  Non-Null Count  Dtype         \n",
            "---  ------  --------------  -----         \n",
            " 0   일시      22995 non-null  datetime64[ns]\n",
            " 1   최고기온    22995 non-null  float64       \n",
            " 2   최저기온    22995 non-null  float64       \n",
            " 3   일교차     22995 non-null  float64       \n",
            " 4   강수량     22995 non-null  float64       \n",
            " 5   평균습도    22995 non-null  float64       \n",
            " 6   평균풍속    22995 non-null  float64       \n",
            " 7   일조합     22995 non-null  float64       \n",
            " 8   일사합     22995 non-null  float64       \n",
            " 9   일조율     22995 non-null  float64       \n",
            " 10  평균기온    22995 non-null  float64       \n",
            " 11  월       22995 non-null  int64         \n",
            " 12  일       22995 non-null  int64         \n",
            "dtypes: datetime64[ns](1), float64(10), int64(2)\n",
            "memory usage: 2.5 MB\n",
            "None\n"
          ]
        }
      ]
    },
    {
      "cell_type": "code",
      "source": [
        "train = data[['최고기온', '최저기온', '일교차', '강수량', '평균습도', '평균풍속', '일조합', '일사합', '일조율']]\n",
        "\n",
        "target = data['평균기온']"
      ],
      "metadata": {
        "id": "WYnyNYa_X6oL"
      },
      "execution_count": 13,
      "outputs": []
    },
    {
      "cell_type": "code",
      "source": [
        "from xgboost import XGBRegressor\n",
        "xgb = XGBRegressor()\n",
        "xgb.fit(train, target)\n",
        "\n",
        "pred_xgb = xgb.predict(train)\n",
        "\n",
        "from sklearn.metrics import mean_squared_error\n",
        "xgb_mae = mean_squared_error(target, pred_xgb)\n",
        "print(xgb_mae)\n",
        "\n",
        "submission['평균기온'] = pred_xgb[:358]\n",
        "print(submission.head(10))"
      ],
      "metadata": {
        "colab": {
          "base_uri": "https://localhost:8080/"
        },
        "id": "Vyst1b9pRvu2",
        "outputId": "5c23665f-561b-4243-b029-7850200c7875"
      },
      "execution_count": 14,
      "outputs": [
        {
          "output_type": "stream",
          "name": "stdout",
          "text": [
            "0.1515267938143393\n",
            "           일시      평균기온\n",
            "0  2023-01-01 -2.052494\n",
            "1  2023-01-02 -2.176404\n",
            "2  2023-01-03  3.681327\n",
            "3  2023-01-04  7.008972\n",
            "4  2023-01-05 -3.859568\n",
            "5  2023-01-06 -5.391320\n",
            "6  2023-01-07  1.050129\n",
            "7  2023-01-08  1.856982\n",
            "8  2023-01-09  2.364705\n",
            "9  2023-01-10  1.844559\n"
          ]
        }
      ]
    },
    {
      "cell_type": "code",
      "source": [
        "from sklearn.ensemble import RandomForestRegressor\n",
        "rf = RandomForestRegressor()\n",
        "rf.fit(train, target)\n",
        "\n",
        "pred_rf = rf.predict(train)\n",
        "\n",
        "from sklearn.metrics import mean_squared_error\n",
        "rf_mae = mean_squared_error(target, pred_rf)\n",
        "print(rf_mae)\n",
        "\n",
        "submission['평균기온'] = pred_rf[:358]\n",
        "print(submission.head(10))"
      ],
      "metadata": {
        "colab": {
          "base_uri": "https://localhost:8080/"
        },
        "id": "dkx5-ZjJYM2W",
        "outputId": "7b508fe1-8b53-4b5c-97fe-f534b5e72882"
      },
      "execution_count": 15,
      "outputs": [
        {
          "output_type": "stream",
          "name": "stdout",
          "text": [
            "0.03883357903892152\n",
            "           일시   평균기온\n",
            "0  2023-01-01 -1.666\n",
            "1  2023-01-02 -2.138\n",
            "2  2023-01-03  3.773\n",
            "3  2023-01-04  6.968\n",
            "4  2023-01-05 -4.058\n",
            "5  2023-01-06 -5.323\n",
            "6  2023-01-07  1.250\n",
            "7  2023-01-08  1.817\n",
            "8  2023-01-09  2.289\n",
            "9  2023-01-10  1.988\n"
          ]
        }
      ]
    },
    {
      "cell_type": "markdown",
      "source": [
        "윤년을 뺀게 점수에 영향이 있는지 확인했는데 다행히 빼는게 점수가 더 높게 나왔다"
      ],
      "metadata": {
        "id": "N5hIHiK4cNkz"
      }
    }
  ]
}