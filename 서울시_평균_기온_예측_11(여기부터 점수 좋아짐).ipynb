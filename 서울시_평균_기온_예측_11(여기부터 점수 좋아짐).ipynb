{
  "nbformat": 4,
  "nbformat_minor": 0,
  "metadata": {
    "colab": {
      "provenance": [],
      "authorship_tag": "ABX9TyPCyCc4e3seYEJuKU2KWXDj",
      "include_colab_link": true
    },
    "kernelspec": {
      "name": "python3",
      "display_name": "Python 3"
    },
    "language_info": {
      "name": "python"
    }
  },
  "cells": [
    {
      "cell_type": "markdown",
      "metadata": {
        "id": "view-in-github",
        "colab_type": "text"
      },
      "source": [
        "<a href=\"https://colab.research.google.com/github/wooookim/ML-DL/blob/main/%EC%84%9C%EC%9A%B8%EC%8B%9C_%ED%8F%89%EA%B7%A0_%EA%B8%B0%EC%98%A8_%EC%98%88%EC%B8%A1_11(%EC%97%AC%EA%B8%B0%EB%B6%80%ED%84%B0%20%EC%A0%90%EC%88%98%20%EC%A2%8B%EC%95%84%EC%A7%90).ipynb\" target=\"_parent\"><img src=\"https://colab.research.google.com/assets/colab-badge.svg\" alt=\"Open In Colab\"/></a>"
      ]
    },
    {
      "cell_type": "code",
      "execution_count": 2,
      "metadata": {
        "colab": {
          "base_uri": "https://localhost:8080/",
          "height": 76
        },
        "id": "rHzMT64Z61Ce",
        "outputId": "bd3e38fc-b70d-498e-a62d-bee862d0fe0a"
      },
      "outputs": [
        {
          "output_type": "display_data",
          "data": {
            "text/plain": [
              "<IPython.core.display.HTML object>"
            ],
            "text/html": [
              "\n",
              "     <input type=\"file\" id=\"files-81857f09-6b78-4394-bd4b-37c063de7909\" name=\"files[]\" multiple disabled\n",
              "        style=\"border:none\" />\n",
              "     <output id=\"result-81857f09-6b78-4394-bd4b-37c063de7909\">\n",
              "      Upload widget is only available when the cell has been executed in the\n",
              "      current browser session. Please rerun this cell to enable.\n",
              "      </output>\n",
              "      <script>// Copyright 2017 Google LLC\n",
              "//\n",
              "// Licensed under the Apache License, Version 2.0 (the \"License\");\n",
              "// you may not use this file except in compliance with the License.\n",
              "// You may obtain a copy of the License at\n",
              "//\n",
              "//      http://www.apache.org/licenses/LICENSE-2.0\n",
              "//\n",
              "// Unless required by applicable law or agreed to in writing, software\n",
              "// distributed under the License is distributed on an \"AS IS\" BASIS,\n",
              "// WITHOUT WARRANTIES OR CONDITIONS OF ANY KIND, either express or implied.\n",
              "// See the License for the specific language governing permissions and\n",
              "// limitations under the License.\n",
              "\n",
              "/**\n",
              " * @fileoverview Helpers for google.colab Python module.\n",
              " */\n",
              "(function(scope) {\n",
              "function span(text, styleAttributes = {}) {\n",
              "  const element = document.createElement('span');\n",
              "  element.textContent = text;\n",
              "  for (const key of Object.keys(styleAttributes)) {\n",
              "    element.style[key] = styleAttributes[key];\n",
              "  }\n",
              "  return element;\n",
              "}\n",
              "\n",
              "// Max number of bytes which will be uploaded at a time.\n",
              "const MAX_PAYLOAD_SIZE = 100 * 1024;\n",
              "\n",
              "function _uploadFiles(inputId, outputId) {\n",
              "  const steps = uploadFilesStep(inputId, outputId);\n",
              "  const outputElement = document.getElementById(outputId);\n",
              "  // Cache steps on the outputElement to make it available for the next call\n",
              "  // to uploadFilesContinue from Python.\n",
              "  outputElement.steps = steps;\n",
              "\n",
              "  return _uploadFilesContinue(outputId);\n",
              "}\n",
              "\n",
              "// This is roughly an async generator (not supported in the browser yet),\n",
              "// where there are multiple asynchronous steps and the Python side is going\n",
              "// to poll for completion of each step.\n",
              "// This uses a Promise to block the python side on completion of each step,\n",
              "// then passes the result of the previous step as the input to the next step.\n",
              "function _uploadFilesContinue(outputId) {\n",
              "  const outputElement = document.getElementById(outputId);\n",
              "  const steps = outputElement.steps;\n",
              "\n",
              "  const next = steps.next(outputElement.lastPromiseValue);\n",
              "  return Promise.resolve(next.value.promise).then((value) => {\n",
              "    // Cache the last promise value to make it available to the next\n",
              "    // step of the generator.\n",
              "    outputElement.lastPromiseValue = value;\n",
              "    return next.value.response;\n",
              "  });\n",
              "}\n",
              "\n",
              "/**\n",
              " * Generator function which is called between each async step of the upload\n",
              " * process.\n",
              " * @param {string} inputId Element ID of the input file picker element.\n",
              " * @param {string} outputId Element ID of the output display.\n",
              " * @return {!Iterable<!Object>} Iterable of next steps.\n",
              " */\n",
              "function* uploadFilesStep(inputId, outputId) {\n",
              "  const inputElement = document.getElementById(inputId);\n",
              "  inputElement.disabled = false;\n",
              "\n",
              "  const outputElement = document.getElementById(outputId);\n",
              "  outputElement.innerHTML = '';\n",
              "\n",
              "  const pickedPromise = new Promise((resolve) => {\n",
              "    inputElement.addEventListener('change', (e) => {\n",
              "      resolve(e.target.files);\n",
              "    });\n",
              "  });\n",
              "\n",
              "  const cancel = document.createElement('button');\n",
              "  inputElement.parentElement.appendChild(cancel);\n",
              "  cancel.textContent = 'Cancel upload';\n",
              "  const cancelPromise = new Promise((resolve) => {\n",
              "    cancel.onclick = () => {\n",
              "      resolve(null);\n",
              "    };\n",
              "  });\n",
              "\n",
              "  // Wait for the user to pick the files.\n",
              "  const files = yield {\n",
              "    promise: Promise.race([pickedPromise, cancelPromise]),\n",
              "    response: {\n",
              "      action: 'starting',\n",
              "    }\n",
              "  };\n",
              "\n",
              "  cancel.remove();\n",
              "\n",
              "  // Disable the input element since further picks are not allowed.\n",
              "  inputElement.disabled = true;\n",
              "\n",
              "  if (!files) {\n",
              "    return {\n",
              "      response: {\n",
              "        action: 'complete',\n",
              "      }\n",
              "    };\n",
              "  }\n",
              "\n",
              "  for (const file of files) {\n",
              "    const li = document.createElement('li');\n",
              "    li.append(span(file.name, {fontWeight: 'bold'}));\n",
              "    li.append(span(\n",
              "        `(${file.type || 'n/a'}) - ${file.size} bytes, ` +\n",
              "        `last modified: ${\n",
              "            file.lastModifiedDate ? file.lastModifiedDate.toLocaleDateString() :\n",
              "                                    'n/a'} - `));\n",
              "    const percent = span('0% done');\n",
              "    li.appendChild(percent);\n",
              "\n",
              "    outputElement.appendChild(li);\n",
              "\n",
              "    const fileDataPromise = new Promise((resolve) => {\n",
              "      const reader = new FileReader();\n",
              "      reader.onload = (e) => {\n",
              "        resolve(e.target.result);\n",
              "      };\n",
              "      reader.readAsArrayBuffer(file);\n",
              "    });\n",
              "    // Wait for the data to be ready.\n",
              "    let fileData = yield {\n",
              "      promise: fileDataPromise,\n",
              "      response: {\n",
              "        action: 'continue',\n",
              "      }\n",
              "    };\n",
              "\n",
              "    // Use a chunked sending to avoid message size limits. See b/62115660.\n",
              "    let position = 0;\n",
              "    do {\n",
              "      const length = Math.min(fileData.byteLength - position, MAX_PAYLOAD_SIZE);\n",
              "      const chunk = new Uint8Array(fileData, position, length);\n",
              "      position += length;\n",
              "\n",
              "      const base64 = btoa(String.fromCharCode.apply(null, chunk));\n",
              "      yield {\n",
              "        response: {\n",
              "          action: 'append',\n",
              "          file: file.name,\n",
              "          data: base64,\n",
              "        },\n",
              "      };\n",
              "\n",
              "      let percentDone = fileData.byteLength === 0 ?\n",
              "          100 :\n",
              "          Math.round((position / fileData.byteLength) * 100);\n",
              "      percent.textContent = `${percentDone}% done`;\n",
              "\n",
              "    } while (position < fileData.byteLength);\n",
              "  }\n",
              "\n",
              "  // All done.\n",
              "  yield {\n",
              "    response: {\n",
              "      action: 'complete',\n",
              "    }\n",
              "  };\n",
              "}\n",
              "\n",
              "scope.google = scope.google || {};\n",
              "scope.google.colab = scope.google.colab || {};\n",
              "scope.google.colab._files = {\n",
              "  _uploadFiles,\n",
              "  _uploadFilesContinue,\n",
              "};\n",
              "})(self);\n",
              "</script> "
            ]
          },
          "metadata": {}
        },
        {
          "output_type": "stream",
          "name": "stdout",
          "text": [
            "Saving sample_submission.csv to sample_submission.csv\n"
          ]
        }
      ],
      "source": [
        "from google.colab import files\n",
        "uploaded = files.upload()"
      ]
    },
    {
      "cell_type": "code",
      "source": [
        "import pandas as pd\n",
        "data = pd.read_csv('/content/train.csv')\n",
        "submission = pd.read_csv('/content/sample_submission.csv')\n",
        "\n",
        "# '일시' 열을 날짜 데이터로 변환\n",
        "data['일시'] = pd.to_datetime(data['일시'])\n",
        "\n",
        "# 계절 분류 함수 정의\n",
        "def classify_season(month):\n",
        "    if  month == 1 or month == 2 or month == 12:\n",
        "        return '겨울'\n",
        "    elif 3 <= month <= 5:\n",
        "        return '봄'\n",
        "    elif 6 <= month <= 8:\n",
        "        return '여름'\n",
        "    else:\n",
        "        return '가을'\n",
        "\n",
        "# '일시' 컬럼에서 월 정보를 추출하여 '계절' 열 추가\n",
        "data['월'] = data['일시'].dt.month\n",
        "data['계절'] = data['월'].apply(classify_season)\n",
        "\n",
        "# 계절별 중앙값 계산\n",
        "seasonal_medians = data.groupby('계절').transform('median')\n",
        "\n",
        "# 결측값 대체\n",
        "data.fillna(seasonal_medians, inplace=True)\n",
        "\n",
        "# print(seasonal_medians)"
      ],
      "metadata": {
        "colab": {
          "base_uri": "https://localhost:8080/"
        },
        "id": "y2FTFnXS7L3_",
        "outputId": "747632cb-2524-4595-bd7c-78335a412293"
      },
      "execution_count": 3,
      "outputs": [
        {
          "output_type": "stream",
          "name": "stdout",
          "text": [
            "       최고기온  최저기온  일교차  강수량  평균습도  평균풍속  일조합  일사합   일조율  평균기온    월\n",
            "0       3.4  -4.6  7.8  0.3  60.4   2.2  6.4  8.0  63.7  -0.8  2.0\n",
            "1       3.4  -4.6  7.8  0.3  60.4   2.2  6.4  8.0  63.7  -0.8  2.0\n",
            "2       3.4  -4.6  7.8  0.3  60.4   2.2  6.4  8.0  63.7  -0.8  2.0\n",
            "3       3.4  -4.6  7.8  0.3  60.4   2.2  6.4  8.0  63.7  -0.8  2.0\n",
            "4       3.4  -4.6  7.8  0.3  60.4   2.2  6.4  8.0  63.7  -0.8  2.0\n",
            "...     ...   ...  ...  ...   ...   ...  ...  ...   ...   ...  ...\n",
            "23006   3.4  -4.6  7.8  0.3  60.4   2.2  6.4  8.0  63.7  -0.8  2.0\n",
            "23007   3.4  -4.6  7.8  0.3  60.4   2.2  6.4  8.0  63.7  -0.8  2.0\n",
            "23008   3.4  -4.6  7.8  0.3  60.4   2.2  6.4  8.0  63.7  -0.8  2.0\n",
            "23009   3.4  -4.6  7.8  0.3  60.4   2.2  6.4  8.0  63.7  -0.8  2.0\n",
            "23010   3.4  -4.6  7.8  0.3  60.4   2.2  6.4  8.0  63.7  -0.8  2.0\n",
            "\n",
            "[23011 rows x 11 columns]\n"
          ]
        },
        {
          "output_type": "stream",
          "name": "stderr",
          "text": [
            "<ipython-input-3-6cb540a28dc0>:24: FutureWarning: The default value of numeric_only in DataFrameGroupBy.median is deprecated. In a future version, numeric_only will default to False. Either specify numeric_only or select only columns which should be valid for the function.\n",
            "  seasonal_medians = data.groupby('계절').transform('median')\n"
          ]
        }
      ]
    },
    {
      "cell_type": "markdown",
      "source": [
        "**훈련 테스트 분리를 안하고 하면 어떻게 되나**"
      ],
      "metadata": {
        "id": "5RUlSzph7tRj"
      }
    },
    {
      "cell_type": "code",
      "source": [
        "train = data[['최고기온', '최저기온', '일교차', '강수량', '평균습도', '평균풍속', '일조합', '일사합', '일조율']]\n",
        "# 일시를 제외해보기로 함\n",
        "target = data['평균기온']"
      ],
      "metadata": {
        "id": "GqYUbgQx7pl5"
      },
      "execution_count": 5,
      "outputs": []
    },
    {
      "cell_type": "code",
      "source": [
        "from xgboost import XGBRegressor\n",
        "xgb = XGBRegressor()\n",
        "xgb.fit(train, target)\n",
        "\n",
        "from sklearn.ensemble import RandomForestRegressor\n",
        "rf = RandomForestRegressor()\n",
        "rf.fit(train, target)\n",
        "\n",
        "pred_xgb = xgb.predict(train)\n",
        "pred_rf = rf.predict(train)\n",
        "\n",
        "from sklearn.metrics import mean_absolute_error\n",
        "\n",
        "train_mae_xgb = mean_absolute_error(target, pred_xgb)\n",
        "test_mae_xgb = mean_absolute_error(target, pred_xgb)\n",
        "\n",
        "train_mae_rf = mean_absolute_error(target, pred_rf)\n",
        "test_mae_rf = mean_absolute_error(target, pred_rf)"
      ],
      "metadata": {
        "id": "Etrm8HV57ygV"
      },
      "execution_count": null,
      "outputs": []
    },
    {
      "cell_type": "code",
      "source": [
        "print('xgb train:', train_mae_xgb)\n",
        "print('xgb test:', test_mae_xgb)\n",
        "\n",
        "submission['평균기온'] = pred_xgb[:358]\n",
        "print(submission.head(10))\n",
        "\n",
        "submission.to_csv(\"DEAGYUL_8_submission.csv\", index=False)\n",
        "\n",
        "print(submission.head())"
      ],
      "metadata": {
        "colab": {
          "base_uri": "https://localhost:8080/"
        },
        "id": "lJCCK-YR8fj8",
        "outputId": "2c01910b-ab13-487f-e75e-5900f1601508"
      },
      "execution_count": 7,
      "outputs": [
        {
          "output_type": "stream",
          "name": "stdout",
          "text": [
            "xgb train: 0.28782037605745353\n",
            "xgb test: 0.28782037605745353\n",
            "           일시      평균기온\n",
            "0  2023-01-01 -2.112965\n",
            "1  2023-01-02 -2.021526\n",
            "2  2023-01-03  3.954774\n",
            "3  2023-01-04  6.891986\n",
            "4  2023-01-05 -4.174560\n",
            "5  2023-01-06 -5.511215\n",
            "6  2023-01-07  1.097994\n",
            "7  2023-01-08  1.897515\n",
            "8  2023-01-09  2.460873\n",
            "9  2023-01-10  1.902011\n",
            "           일시      평균기온\n",
            "0  2023-01-01 -2.112965\n",
            "1  2023-01-02 -2.021526\n",
            "2  2023-01-03  3.954774\n",
            "3  2023-01-04  6.891986\n",
            "4  2023-01-05 -4.174560\n"
          ]
        }
      ]
    },
    {
      "cell_type": "code",
      "source": [
        "print('rf train:', train_mae_rf)\n",
        "print('rf test:', test_mae_rf)\n",
        "\n",
        "submission['평균기온'] = pred_rf[:358]\n",
        "print(submission.head(10))\n",
        "\n",
        "submission.to_csv(\"DEAGYUL_9_submission.csv\", index=False)\n",
        "\n",
        "print(submission.head())"
      ],
      "metadata": {
        "colab": {
          "base_uri": "https://localhost:8080/"
        },
        "id": "LaKScGJj76ew",
        "outputId": "99a01fb2-e5cf-4427-9e7c-d3caf0e49484"
      },
      "execution_count": 8,
      "outputs": [
        {
          "output_type": "stream",
          "name": "stdout",
          "text": [
            "rf train: 0.14153922037286518\n",
            "rf test: 0.14153922037286518\n",
            "           일시   평균기온\n",
            "0  2023-01-01 -1.641\n",
            "1  2023-01-02 -2.065\n",
            "2  2023-01-03  3.723\n",
            "3  2023-01-04  7.000\n",
            "4  2023-01-05 -4.129\n",
            "5  2023-01-06 -5.382\n",
            "6  2023-01-07  1.225\n",
            "7  2023-01-08  1.829\n",
            "8  2023-01-09  2.267\n",
            "9  2023-01-10  2.013\n",
            "           일시   평균기온\n",
            "0  2023-01-01 -1.641\n",
            "1  2023-01-02 -2.065\n",
            "2  2023-01-03  3.723\n",
            "3  2023-01-04  7.000\n",
            "4  2023-01-05 -4.129\n"
          ]
        }
      ]
    },
    {
      "cell_type": "markdown",
      "source": [
        "1. 테스트 세트 점수가 계속 에러가 나서 빼고 출력했는데 약간 성능이 높아졌다\n",
        "\n",
        "2. 어차피 테스트 세트 오류가 나는거 훈련에 넣고 돌리면 더 좋은 예측을 할거라고 생각하고 분리하지 않고 시도해봤다\n",
        "\n",
        "3. 작성 중간에 훈련/테스트를 분리하면서 계절성을 무시한 분리가 된것 아닌가 하는 생각을 하게 됐다.\n",
        "\n",
        "4. 훈련-테스트를 어떤 계절이 속한 지점에서 분리해버려서 이렇게 되버렸다고 추측\n",
        "\n",
        "5. 분리하지 않고 작성해보니 점수가 아주 많이 올랐다\n",
        "\n",
        "6. 일시에 대한 처리가 어려워서 아예 배제하고 계절로 묶고, 계절의 중앙값(평균은 0이 나오기 때문)으로 대체하고 진행했다.\n",
        "\n",
        "7. 통상적인 계절로 분류했는데 이를 조정해보면 약간 더 좋아질지도?"
      ],
      "metadata": {
        "id": "NTHWMdDf9OiL"
      }
    }
  ]
}