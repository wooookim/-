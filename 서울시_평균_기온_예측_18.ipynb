{
  "nbformat": 4,
  "nbformat_minor": 0,
  "metadata": {
    "colab": {
      "provenance": [],
      "authorship_tag": "ABX9TyPqF4fUQMCr5c0f0aohcogL",
      "include_colab_link": true
    },
    "kernelspec": {
      "name": "python3",
      "display_name": "Python 3"
    },
    "language_info": {
      "name": "python"
    }
  },
  "cells": [
    {
      "cell_type": "markdown",
      "metadata": {
        "id": "view-in-github",
        "colab_type": "text"
      },
      "source": [
        "<a href=\"https://colab.research.google.com/github/wooookim/ML-DL/blob/main/%EC%84%9C%EC%9A%B8%EC%8B%9C_%ED%8F%89%EA%B7%A0_%EA%B8%B0%EC%98%A8_%EC%98%88%EC%B8%A1_18.ipynb\" target=\"_parent\"><img src=\"https://colab.research.google.com/assets/colab-badge.svg\" alt=\"Open In Colab\"/></a>"
      ]
    },
    {
      "cell_type": "code",
      "execution_count": null,
      "metadata": {
        "id": "4Tz-HbcvIRhJ"
      },
      "outputs": [],
      "source": [
        "import pandas as pd\n",
        "\n",
        "data = pd.read_csv('/content/train.csv')\n",
        "submission = pd.read_csv('/content/sample_submission.csv')"
      ]
    },
    {
      "cell_type": "code",
      "source": [
        "!sudo apt-get install -y fonts-nanum\n",
        "!sudo fc-cache -fv\n",
        "!rm ~/.cache/matplotlib -rf"
      ],
      "metadata": {
        "colab": {
          "base_uri": "https://localhost:8080/"
        },
        "id": "w1-F63BAM5Wg",
        "outputId": "a3551a48-eada-4565-d748-77c607a2d594"
      },
      "execution_count": 4,
      "outputs": [
        {
          "output_type": "stream",
          "name": "stdout",
          "text": [
            "Reading package lists... Done\n",
            "Building dependency tree... Done\n",
            "Reading state information... Done\n",
            "The following NEW packages will be installed:\n",
            "  fonts-nanum\n",
            "0 upgraded, 1 newly installed, 0 to remove and 24 not upgraded.\n",
            "Need to get 10.3 MB of archives.\n",
            "After this operation, 34.1 MB of additional disk space will be used.\n",
            "Get:1 http://archive.ubuntu.com/ubuntu jammy/universe amd64 fonts-nanum all 20200506-1 [10.3 MB]\n",
            "Fetched 10.3 MB in 0s (33.6 MB/s)\n",
            "debconf: unable to initialize frontend: Dialog\n",
            "debconf: (No usable dialog-like program is installed, so the dialog based frontend cannot be used. at /usr/share/perl5/Debconf/FrontEnd/Dialog.pm line 78, <> line 1.)\n",
            "debconf: falling back to frontend: Readline\n",
            "debconf: unable to initialize frontend: Readline\n",
            "debconf: (This frontend requires a controlling tty.)\n",
            "debconf: falling back to frontend: Teletype\n",
            "dpkg-preconfigure: unable to re-open stdin: \n",
            "Selecting previously unselected package fonts-nanum.\n",
            "(Reading database ... 121658 files and directories currently installed.)\n",
            "Preparing to unpack .../fonts-nanum_20200506-1_all.deb ...\n",
            "Unpacking fonts-nanum (20200506-1) ...\n",
            "Setting up fonts-nanum (20200506-1) ...\n",
            "Processing triggers for fontconfig (2.13.1-4.2ubuntu5) ...\n",
            "/usr/share/fonts: caching, new cache contents: 0 fonts, 1 dirs\n",
            "/usr/share/fonts/truetype: caching, new cache contents: 0 fonts, 3 dirs\n",
            "/usr/share/fonts/truetype/humor-sans: caching, new cache contents: 1 fonts, 0 dirs\n",
            "/usr/share/fonts/truetype/liberation: caching, new cache contents: 16 fonts, 0 dirs\n",
            "/usr/share/fonts/truetype/nanum: caching, new cache contents: 12 fonts, 0 dirs\n",
            "/usr/local/share/fonts: caching, new cache contents: 0 fonts, 0 dirs\n",
            "/root/.local/share/fonts: skipping, no such directory\n",
            "/root/.fonts: skipping, no such directory\n",
            "/usr/share/fonts/truetype: skipping, looped directory detected\n",
            "/usr/share/fonts/truetype/humor-sans: skipping, looped directory detected\n",
            "/usr/share/fonts/truetype/liberation: skipping, looped directory detected\n",
            "/usr/share/fonts/truetype/nanum: skipping, looped directory detected\n",
            "/var/cache/fontconfig: cleaning cache directory\n",
            "/root/.cache/fontconfig: not cleaning non-existent cache directory\n",
            "/root/.fontconfig: not cleaning non-existent cache directory\n",
            "fc-cache: succeeded\n"
          ]
        }
      ]
    },
    {
      "cell_type": "code",
      "source": [
        "print(data.head())"
      ],
      "metadata": {
        "colab": {
          "base_uri": "https://localhost:8080/"
        },
        "id": "70pWFL2EIjcr",
        "outputId": "6e99c26d-0083-4259-809d-33a8b2fea529"
      },
      "execution_count": 5,
      "outputs": [
        {
          "output_type": "stream",
          "name": "stdout",
          "text": [
            "           일시  최고기온  최저기온   일교차  강수량  평균습도  평균풍속  일조합  일사합  일조율  평균기온\n",
            "0  1960-01-01   2.2  -5.2   7.4  NaN  68.3   1.7  6.7  NaN  NaN  -1.6\n",
            "1  1960-01-02   1.2  -5.6   6.8  0.4  87.7   1.3  0.0  NaN  NaN  -1.9\n",
            "2  1960-01-03   8.7  -2.1  10.8  0.0  81.3   3.0  0.0  NaN  NaN   4.0\n",
            "3  1960-01-04  10.8   1.2   9.6  0.0  79.7   4.4  2.6  NaN  NaN   7.5\n",
            "4  1960-01-05   1.3  -8.2   9.5  NaN  44.0   5.1  8.2  NaN  NaN  -4.6\n"
          ]
        }
      ]
    },
    {
      "cell_type": "code",
      "source": [
        "print(data.info())"
      ],
      "metadata": {
        "colab": {
          "base_uri": "https://localhost:8080/"
        },
        "id": "9SLWK5noImSX",
        "outputId": "d77e6141-bbfe-468a-d903-377bb7f11a03"
      },
      "execution_count": 6,
      "outputs": [
        {
          "output_type": "stream",
          "name": "stdout",
          "text": [
            "<class 'pandas.core.frame.DataFrame'>\n",
            "RangeIndex: 23011 entries, 0 to 23010\n",
            "Data columns (total 11 columns):\n",
            " #   Column  Non-Null Count  Dtype  \n",
            "---  ------  --------------  -----  \n",
            " 0   일시      23011 non-null  object \n",
            " 1   최고기온    23008 non-null  float64\n",
            " 2   최저기온    23008 non-null  float64\n",
            " 3   일교차     23007 non-null  float64\n",
            " 4   강수량     9150 non-null   float64\n",
            " 5   평균습도    23011 non-null  float64\n",
            " 6   평균풍속    23007 non-null  float64\n",
            " 7   일조합     22893 non-null  float64\n",
            " 8   일사합     18149 non-null  float64\n",
            " 9   일조율     22645 non-null  float64\n",
            " 10  평균기온    23011 non-null  float64\n",
            "dtypes: float64(10), object(1)\n",
            "memory usage: 1.9+ MB\n",
            "None\n"
          ]
        }
      ]
    },
    {
      "cell_type": "code",
      "source": [
        "# '일시' 열을 날짜 데이터로 변환\n",
        "data['일시'] = pd.to_datetime(data['일시'])\n",
        "\n",
        "# '일시' 컬럼에서 '월', '일' 열 추가\n",
        "data['월'] = data['일시'].dt.month\n",
        "data['일'] = data['일시'].dt.day\n",
        "\n",
        "# 월, 일별 중앙값 계산\n",
        "# 월별 중앙값 계산\n",
        "monthly_means = data.groupby('월').median()\n",
        "daily_means = data.groupby('일').median()\n",
        "\n",
        "print(monthly_means)\n",
        "print(daily_means)"
      ],
      "metadata": {
        "colab": {
          "base_uri": "https://localhost:8080/"
        },
        "id": "fdywfFUxIo4v",
        "outputId": "391484d5-79ea-48a3-d97a-427b3af1a39b"
      },
      "execution_count": 7,
      "outputs": [
        {
          "output_type": "stream",
          "name": "stdout",
          "text": [
            "    최고기온   최저기온    일교차   강수량   평균습도  평균풍속  일조합     일사합    일조율  평균기온     일\n",
            "월                                                                        \n",
            "1    1.7  -6.40   7.70  0.30  60.50   2.2  6.4   7.890  64.35  -2.6  16.0\n",
            "2    4.4  -3.90   8.30  0.40  58.30   2.4  7.2  10.910  66.10   0.1  15.0\n",
            "3   10.4   1.30   9.20  0.70  58.50   2.6  7.6  14.130  63.40   5.6  16.0\n",
            "4   17.7   7.50  10.35  2.00  56.50   2.7  8.3  17.500  62.80  12.2  15.5\n",
            "5   23.5  13.00  10.60  1.60  61.30   2.4  8.7  19.605  61.55  17.9  16.0\n",
            "6   27.4  18.20   9.30  1.70  69.50   2.2  6.8  17.580  45.90  22.3  15.5\n",
            "7   29.0  22.10   6.90  4.45  79.50   2.1  3.1  12.710  20.05  25.0  16.0\n",
            "8   30.0  22.75   7.40  5.00  76.80   2.0  4.8  13.200  34.70  25.8  16.0\n",
            "9   26.1  17.40   9.10  2.80  69.50   1.8  6.9  13.770  55.60  21.2  15.5\n",
            "10  20.4  10.40  10.10  1.50  64.80   1.8  7.7  11.610  68.50  15.1  16.0\n",
            "11  12.1   3.40   8.50  1.30  63.85   2.0  6.0   7.945  59.00   7.6  15.5\n",
            "12   4.1  -3.80   7.60  0.30  62.00   2.1  5.9   6.780  60.95   0.0  16.0\n",
            "     최고기온   최저기온   일교차   강수량   평균습도  평균풍속   일조합     일사합    일조율   평균기온    월\n",
            "일                                                                         \n",
            "1   17.95   8.90  8.50  1.30  66.30  2.20  6.50  11.240  56.30  13.25  6.5\n",
            "2   18.60   8.60  8.60  2.00  65.90  2.20  6.50  10.910  54.75  13.70  6.5\n",
            "3   18.55   8.90  8.60  2.10  66.30  2.20  6.45  10.960  55.55  13.45  6.5\n",
            "4   19.30   9.30  8.70  1.40  65.50  2.20  6.70  11.340  55.85  13.60  6.5\n",
            "5   18.55   9.00  9.00  1.00  66.30  2.20  7.10  11.390  57.90  13.80  6.5\n",
            "6   19.30   9.30  8.60  1.60  65.60  2.20  6.50  11.030  54.30  13.95  6.5\n",
            "7   19.00   9.60  8.60  1.20  65.50  2.20  6.40  11.060  53.40  14.10  6.5\n",
            "8   19.15   9.30  8.70  1.10  65.90  2.20  6.80  11.955  56.30  13.95  6.5\n",
            "9   19.20   9.55  8.70  1.30  65.00  2.20  6.70  11.100  56.10  14.10  6.5\n",
            "10  18.90   9.50  8.25  1.50  67.05  2.20  6.20  10.720  50.00  14.05  6.5\n",
            "11  18.80   9.45  8.60  1.50  65.50  2.20  6.60  11.280  54.40  13.75  6.5\n",
            "12  19.20   9.25  8.70  1.30  65.40  2.20  6.60  11.555  57.00  14.15  6.5\n",
            "13  18.75   9.70  8.80  1.50  66.30  2.30  6.60  11.170  55.60  13.70  6.5\n",
            "14  18.80   9.35  8.70  1.50  64.55  2.20  6.80  11.380  56.10  13.80  6.5\n",
            "15  18.70   9.00  8.50  1.85  64.85  2.20  6.70  11.600  56.65  13.40  6.5\n",
            "16  18.40   9.10  8.40  1.70  65.40  2.20  6.40  10.835  54.05  13.40  6.5\n",
            "17  18.35   8.50  8.60  1.20  65.30  2.20  6.80  11.380  56.35  13.35  6.5\n",
            "18  18.80   8.80  8.70  1.00  64.80  2.20  6.90  11.350  57.40  13.65  6.5\n",
            "19  19.20   9.00  8.70  1.70  64.50  2.10  6.80  11.470  55.90  13.80  6.5\n",
            "20  19.50   9.25  8.70  1.40  65.90  2.20  6.30  11.150  54.85  13.95  6.5\n",
            "21  19.50   9.25  8.75  1.70  64.50  2.20  6.70  11.555  57.15  14.10  6.5\n",
            "22  18.95   9.00  8.80  1.10  65.00  2.20  6.50  11.090  53.90  14.00  6.5\n",
            "23  19.85   8.90  8.60  1.40  65.00  2.20  6.80  11.610  57.30  13.70  6.5\n",
            "24  18.55   9.10  8.60  2.00  65.30  2.20  6.95  11.040  58.45  13.60  6.5\n",
            "25  18.45   9.15  8.60  2.30  66.00  2.20  6.50  11.080  55.65  13.45  6.5\n",
            "26  18.50   9.00  8.60  1.40  64.80  2.25  6.90  11.620  58.90  13.20  6.5\n",
            "27  18.90   8.30  8.75  1.80  64.90  2.30  6.70  11.230  55.90  13.50  6.5\n",
            "28  18.90   8.65  8.50  1.00  65.80  2.20  6.60  10.850  55.05  13.70  6.5\n",
            "29  19.70  10.10  8.50  1.60  67.00  2.20  6.30  10.830  52.80  15.00  7.0\n",
            "30  20.40  10.70  8.50  1.00  66.80  2.20  6.50  11.150  55.00  15.50  7.0\n",
            "31  18.10   7.90  8.30  0.80  65.90  2.10  6.65  11.010  55.80  12.60  7.0\n"
          ]
        },
        {
          "output_type": "stream",
          "name": "stderr",
          "text": [
            "<ipython-input-7-d3c946c955f5>:10: FutureWarning: The default value of numeric_only in DataFrameGroupBy.median is deprecated. In a future version, numeric_only will default to False. Either specify numeric_only or select only columns which should be valid for the function.\n",
            "  monthly_means = data.groupby('월').median()\n",
            "<ipython-input-7-d3c946c955f5>:11: FutureWarning: The default value of numeric_only in DataFrameGroupBy.median is deprecated. In a future version, numeric_only will default to False. Either specify numeric_only or select only columns which should be valid for the function.\n",
            "  daily_means = data.groupby('일').median()\n"
          ]
        }
      ]
    },
    {
      "cell_type": "markdown",
      "source": [
        "변경한 컬럼에 이상이 있었는데 어제 자려고 누웠다가 생각났다"
      ],
      "metadata": {
        "id": "_3j0SZssKFPP"
      }
    },
    {
      "cell_type": "code",
      "source": [
        "from datetime import datetime\n",
        "\n",
        "current_year = datetime.now().year\n",
        "\n",
        "# 2월 29일에 해당하는 행 선택\n",
        "selected_rows = data[(data['일시'].dt.month == 2) & (data['일시'].dt.day == 29)]\n",
        "\n",
        "# 29일에 해당하는 16개 행\n",
        "# 23011 - 16 = 22995\n",
        "\n",
        "# 선택한 행의 인덱스를 사용하여 삭제\n",
        "data = data.drop(selected_rows.index)\n",
        "\n",
        "print(data.info())"
      ],
      "metadata": {
        "colab": {
          "base_uri": "https://localhost:8080/"
        },
        "id": "1DAMlt0hKOWH",
        "outputId": "6932fd0e-acb1-4413-d720-5491e37b8bab"
      },
      "execution_count": 8,
      "outputs": [
        {
          "output_type": "stream",
          "name": "stdout",
          "text": [
            "<class 'pandas.core.frame.DataFrame'>\n",
            "Int64Index: 22995 entries, 0 to 23010\n",
            "Data columns (total 13 columns):\n",
            " #   Column  Non-Null Count  Dtype         \n",
            "---  ------  --------------  -----         \n",
            " 0   일시      22995 non-null  datetime64[ns]\n",
            " 1   최고기온    22992 non-null  float64       \n",
            " 2   최저기온    22992 non-null  float64       \n",
            " 3   일교차     22991 non-null  float64       \n",
            " 4   강수량     9142 non-null   float64       \n",
            " 5   평균습도    22995 non-null  float64       \n",
            " 6   평균풍속    22991 non-null  float64       \n",
            " 7   일조합     22877 non-null  float64       \n",
            " 8   일사합     18137 non-null  float64       \n",
            " 9   일조율     22630 non-null  float64       \n",
            " 10  평균기온    22995 non-null  float64       \n",
            " 11  월       22995 non-null  int64         \n",
            " 12  일       22995 non-null  int64         \n",
            "dtypes: datetime64[ns](1), float64(10), int64(2)\n",
            "memory usage: 2.5 MB\n",
            "None\n"
          ]
        }
      ]
    },
    {
      "cell_type": "code",
      "source": [
        "# 결측값 대체\n",
        "data.fillna(monthly_means, inplace=True)\n",
        "\n",
        "for column in data.columns:\n",
        "    if data[column].isnull().any():  # 결측값이 있는 경우에만 처리\n",
        "        data[column+'_중앙값'] = data.apply(lambda row: monthly_means.loc[row['월'], column], axis=1)\n",
        "        data[column].fillna(data[column+'_중앙값'], inplace=True)\n",
        "        data.drop(column+'_중앙값', axis=1, inplace=True)\n",
        "\n",
        "print(data.info())"
      ],
      "metadata": {
        "colab": {
          "base_uri": "https://localhost:8080/"
        },
        "id": "QK6j7XNaKVWW",
        "outputId": "deca2571-1a13-427d-96a3-945760e88d17"
      },
      "execution_count": 9,
      "outputs": [
        {
          "output_type": "stream",
          "name": "stdout",
          "text": [
            "<class 'pandas.core.frame.DataFrame'>\n",
            "Int64Index: 22995 entries, 0 to 23010\n",
            "Data columns (total 13 columns):\n",
            " #   Column  Non-Null Count  Dtype         \n",
            "---  ------  --------------  -----         \n",
            " 0   일시      22995 non-null  datetime64[ns]\n",
            " 1   최고기온    22995 non-null  float64       \n",
            " 2   최저기온    22995 non-null  float64       \n",
            " 3   일교차     22995 non-null  float64       \n",
            " 4   강수량     22995 non-null  float64       \n",
            " 5   평균습도    22995 non-null  float64       \n",
            " 6   평균풍속    22995 non-null  float64       \n",
            " 7   일조합     22995 non-null  float64       \n",
            " 8   일사합     22995 non-null  float64       \n",
            " 9   일조율     22995 non-null  float64       \n",
            " 10  평균기온    22995 non-null  float64       \n",
            " 11  월       22995 non-null  int64         \n",
            " 12  일       22995 non-null  int64         \n",
            "dtypes: datetime64[ns](1), float64(10), int64(2)\n",
            "memory usage: 3.0 MB\n",
            "None\n"
          ]
        }
      ]
    },
    {
      "cell_type": "code",
      "source": [
        "train = data[['최고기온', '최저기온', '일교차', '강수량', '평균습도', '평균풍속', '일조합', '일사합', '일조율']]\n",
        "\n",
        "target = data['평균기온']"
      ],
      "metadata": {
        "id": "jMEltLFNKhTn"
      },
      "execution_count": 10,
      "outputs": []
    },
    {
      "cell_type": "markdown",
      "source": [
        "좀 더 나아졌다"
      ],
      "metadata": {
        "id": "N0q3CDkqKxDF"
      }
    },
    {
      "cell_type": "code",
      "source": [
        "data['연도'] = data['일시'].dt.year\n",
        "\n",
        "import warnings\n",
        "warnings.filterwarnings(action='ignore')"
      ],
      "metadata": {
        "id": "rI8xZOFzLO6r"
      },
      "execution_count": 13,
      "outputs": []
    },
    {
      "cell_type": "code",
      "source": [
        "data_after_1970 = data[data['연도'] >= 1970]\n",
        "data_after_1980 = data[data['연도'] >= 1980]\n",
        "data_after_1990 = data[data['연도'] >= 1990]\n",
        "data_after_2000 = data[data['연도'] >= 2000]\n",
        "data_after_2010 = data[data['연도'] >= 2010]\n",
        "\n",
        "# print(data_after_1970.info())"
      ],
      "metadata": {
        "id": "eu5bpnaPQl3j"
      },
      "execution_count": null,
      "outputs": []
    },
    {
      "cell_type": "code",
      "source": [
        "train_70 = data_after_1970[['최고기온', '최저기온', '일교차', '강수량', '평균습도', '평균풍속', '일조합', '일사합', '일조율']]\n",
        "target_70 = data_after_1970['평균기온']\n",
        "\n",
        "train_80 = data_after_1980[['최고기온', '최저기온', '일교차', '강수량', '평균습도', '평균풍속', '일조합', '일사합', '일조율']]\n",
        "target_80 = data_after_1980['평균기온']\n",
        "\n",
        "train_90 = data_after_1990[['최고기온', '최저기온', '일교차', '강수량', '평균습도', '평균풍속', '일조합', '일사합', '일조율']]\n",
        "target_90 = data_after_1990['평균기온']\n",
        "\n",
        "train_00 = data_after_2000[['최고기온', '최저기온', '일교차', '강수량', '평균습도', '평균풍속', '일조합', '일사합', '일조율']]\n",
        "target_00 = data_after_2000['평균기온']\n",
        "\n",
        "train_10 = data_after_2010[['최고기온', '최저기온', '일교차', '강수량', '평균습도', '평균풍속', '일조합', '일사합', '일조율']]\n",
        "target_10 = data_after_2010['평균기온']"
      ],
      "metadata": {
        "id": "rWTDvLhlRSS1"
      },
      "execution_count": 18,
      "outputs": []
    },
    {
      "cell_type": "code",
      "source": [
        "from sklearn.ensemble import RandomForestRegressor\n",
        "rf = RandomForestRegressor()\n",
        "rf.fit(train_70, target_70)\n",
        "\n",
        "pred_rf = rf.predict(train_70)\n",
        "\n",
        "from sklearn.metrics import mean_squared_error\n",
        "rf_mae = mean_squared_error(target_70, pred_rf)\n",
        "print(rf_mae)\n",
        "\n",
        "submission['평균기온'] = pred_rf[:358]\n",
        "print(submission.head(10))"
      ],
      "metadata": {
        "colab": {
          "base_uri": "https://localhost:8080/"
        },
        "id": "Yjogm9wHRsdp",
        "outputId": "14057507-1f24-44a5-d6a7-234493bcc50c"
      },
      "execution_count": 19,
      "outputs": [
        {
          "output_type": "stream",
          "name": "stdout",
          "text": [
            "0.03499401829930218\n",
            "           일시    평균기온\n",
            "0  2023-01-01  -0.068\n",
            "1  2023-01-02  -0.168\n",
            "2  2023-01-03  -4.174\n",
            "3  2023-01-04 -13.618\n",
            "4  2023-01-05 -14.382\n",
            "5  2023-01-06  -4.201\n",
            "6  2023-01-07  -4.361\n",
            "7  2023-01-08  -3.644\n",
            "8  2023-01-09  -7.136\n",
            "9  2023-01-10  -5.458\n"
          ]
        }
      ]
    },
    {
      "cell_type": "code",
      "source": [
        "from sklearn.ensemble import RandomForestRegressor\n",
        "rf = RandomForestRegressor()\n",
        "rf.fit(train_80, target_80)\n",
        "\n",
        "pred_rf = rf.predict(train_80)\n",
        "\n",
        "from sklearn.metrics import mean_squared_error\n",
        "rf_mae = mean_squared_error(target_80, pred_rf)\n",
        "print(rf_mae)\n",
        "\n",
        "submission['평균기온'] = pred_rf[:358]\n",
        "print(submission.head(10))"
      ],
      "metadata": {
        "colab": {
          "base_uri": "https://localhost:8080/"
        },
        "id": "1EgzGx6kRyZP",
        "outputId": "b098bd5d-d195-4170-a043-44d67eec9625"
      },
      "execution_count": 20,
      "outputs": [
        {
          "output_type": "stream",
          "name": "stdout",
          "text": [
            "0.03440076674100037\n",
            "           일시   평균기온\n",
            "0  2023-01-01  3.698\n",
            "1  2023-01-02  4.686\n",
            "2  2023-01-03  3.603\n",
            "3  2023-01-04 -3.349\n",
            "4  2023-01-05 -5.328\n",
            "5  2023-01-06 -2.437\n",
            "6  2023-01-07 -8.556\n",
            "7  2023-01-08 -4.335\n",
            "8  2023-01-09  0.076\n",
            "9  2023-01-10 -7.768\n"
          ]
        }
      ]
    },
    {
      "cell_type": "code",
      "source": [
        "from sklearn.ensemble import RandomForestRegressor\n",
        "rf = RandomForestRegressor()\n",
        "rf.fit(train_90, target_90)\n",
        "\n",
        "pred_rf = rf.predict(train_90)\n",
        "\n",
        "from sklearn.metrics import mean_squared_error\n",
        "rf_mae = mean_squared_error(target_90, pred_rf)\n",
        "print(rf_mae)\n",
        "\n",
        "submission['평균기온'] = pred_rf[:358]\n",
        "print(submission.head(10))"
      ],
      "metadata": {
        "colab": {
          "base_uri": "https://localhost:8080/"
        },
        "id": "WM6FwzUER2yM",
        "outputId": "443ecf49-d8fb-4794-b3fa-1c66c79e78ff"
      },
      "execution_count": 21,
      "outputs": [
        {
          "output_type": "stream",
          "name": "stdout",
          "text": [
            "0.034598061021170676\n",
            "           일시   평균기온\n",
            "0  2023-01-01 -1.448\n",
            "1  2023-01-02 -3.290\n",
            "2  2023-01-03 -4.841\n",
            "3  2023-01-04 -3.311\n",
            "4  2023-01-05  0.409\n",
            "5  2023-01-06 -3.057\n",
            "6  2023-01-07 -3.119\n",
            "7  2023-01-08 -0.133\n",
            "8  2023-01-09  5.545\n",
            "9  2023-01-10  4.363\n"
          ]
        }
      ]
    },
    {
      "cell_type": "code",
      "source": [
        "from sklearn.ensemble import RandomForestRegressor\n",
        "rf = RandomForestRegressor()\n",
        "rf.fit(train_00, target_00)\n",
        "\n",
        "pred_rf = rf.predict(train_00)\n",
        "\n",
        "from sklearn.metrics import mean_squared_error\n",
        "rf_mae = mean_squared_error(target_00, pred_rf)\n",
        "print(rf_mae)\n",
        "\n",
        "submission['평균기온'] = pred_rf[:358]\n",
        "print(submission.head(10))"
      ],
      "metadata": {
        "colab": {
          "base_uri": "https://localhost:8080/"
        },
        "id": "x917qd1hR61y",
        "outputId": "0d7201fa-315a-445a-8051-13dee45ecd2e"
      },
      "execution_count": 22,
      "outputs": [
        {
          "output_type": "stream",
          "name": "stdout",
          "text": [
            "0.03543300381179284\n",
            "           일시   평균기온\n",
            "0  2023-01-01  5.602\n",
            "1  2023-01-02  3.941\n",
            "2  2023-01-03 -2.448\n",
            "3  2023-01-04  0.182\n",
            "4  2023-01-05  2.636\n",
            "5  2023-01-06  1.318\n",
            "6  2023-01-07 -8.193\n",
            "7  2023-01-08 -3.816\n",
            "8  2023-01-09 -2.032\n",
            "9  2023-01-10 -1.120\n"
          ]
        }
      ]
    },
    {
      "cell_type": "code",
      "source": [
        "from sklearn.ensemble import RandomForestRegressor\n",
        "rf = RandomForestRegressor()\n",
        "rf.fit(train_10, target_10)\n",
        "\n",
        "pred_rf = rf.predict(train_10)\n",
        "\n",
        "from sklearn.metrics import mean_squared_error\n",
        "rf_mae = mean_squared_error(target_10, pred_rf)\n",
        "print(rf_mae)\n",
        "\n",
        "submission['평균기온'] = pred_rf[:358]\n",
        "print(submission.head(10))"
      ],
      "metadata": {
        "colab": {
          "base_uri": "https://localhost:8080/"
        },
        "id": "IQq6c6rPSANL",
        "outputId": "169aa117-e49e-4d28-9468-2404641fb2d0"
      },
      "execution_count": 23,
      "outputs": [
        {
          "output_type": "stream",
          "name": "stdout",
          "text": [
            "0.03720805100105391\n",
            "           일시    평균기온\n",
            "0  2023-01-01  -7.735\n",
            "1  2023-01-02  -3.555\n",
            "2  2023-01-03  -6.922\n",
            "3  2023-01-04  -5.804\n",
            "4  2023-01-05  -9.995\n",
            "5  2023-01-06 -11.108\n",
            "6  2023-01-07  -9.962\n",
            "7  2023-01-08  -7.839\n",
            "8  2023-01-09  -5.118\n",
            "9  2023-01-10  -3.281\n"
          ]
        }
      ]
    },
    {
      "cell_type": "markdown",
      "source": [
        "70년대부터 상향선을 그려 70년대가 좋을 것이라 예측했는데, 80년대가 약간 더 좋았다\n",
        "\n",
        "또 10년대부터 그래프가 극적인 그래프를 그려서 기대했지만 높은 점수를 내지는 못했다"
      ],
      "metadata": {
        "id": "GoB_HjXLSQT2"
      }
    }
  ]
}