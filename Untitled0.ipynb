{
  "nbformat": 4,
  "nbformat_minor": 0,
  "metadata": {
    "colab": {
      "provenance": [],
      "authorship_tag": "ABX9TyPprEIdPcnXQs8ZaQJRM6uj",
      "include_colab_link": true
    },
    "kernelspec": {
      "name": "python3",
      "display_name": "Python 3"
    },
    "language_info": {
      "name": "python"
    }
  },
  "cells": [
    {
      "cell_type": "markdown",
      "metadata": {
        "id": "view-in-github",
        "colab_type": "text"
      },
      "source": [
        "<a href=\"https://colab.research.google.com/github/wooookim/ML-DL/blob/main/Untitled0.ipynb\" target=\"_parent\"><img src=\"https://colab.research.google.com/assets/colab-badge.svg\" alt=\"Open In Colab\"/></a>"
      ]
    },
    {
      "cell_type": "markdown",
      "source": [
        "**합성곱(convolution)**\n",
        "\n",
        "뉴런 = 필터 or 커널\n",
        "\n",
        "커널 크기 = 하이퍼파라미터\n",
        "\n",
        "특성맵 = 합성곱 계산을 통해얻은 출력"
      ],
      "metadata": {
        "id": "pzYZXDX3ckV9"
      }
    },
    {
      "cell_type": "code",
      "execution_count": null,
      "metadata": {
        "id": "3bc5m7NLaxYb"
      },
      "outputs": [],
      "source": [
        "from tensorflow import keras\n",
        "keras.layers.Conv2D(10, kernel_size = (3, 3), activation = 'relu', padding = 'same', strides = 1)  # 필터개수, 커널사이즈, 활성화함수, 패딩 종류, 스트라이드"
      ]
    },
    {
      "cell_type": "markdown",
      "source": [
        "커널크기는 여러 값 시도해봐야하지만 통상 (3*3), (5*5)"
      ],
      "metadata": {
        "id": "8DxUNt6YfEt3"
      }
    },
    {
      "cell_type": "markdown",
      "source": [
        "**패딩**\n",
        "\n",
        "세임 패딩\n",
        "- 출력에서 크기 조정을 위해 입력 배열의 주위를 가상의 원소(0)로 채움\n",
        "\n",
        "밸리드 패딩\n",
        "- 패딩 없이 순수한 입력 배열에서만 합성곱을 하여 특성맵을 만듦"
      ],
      "metadata": {
        "id": "U_5rpnv2ckB6"
      }
    },
    {
      "cell_type": "markdown",
      "source": [
        "**스트라이드**\n",
        "\n",
        "이동 크기, 기본값 1\n"
      ],
      "metadata": {
        "id": "IUuakeDugjvz"
      }
    },
    {
      "cell_type": "markdown",
      "source": [
        "**풀링**\n",
        "\n",
        "합성곱 층에서 만든 특성 맵의 가로세로 크기를 줄이는 역할 수행\n",
        "\n",
        "특성맵의 개수는 줄이지 않음\n",
        "\n",
        "최대풀링 / 평균풀링\n",
        "\n",
        "풀링 크기에 따라 스트라이드 조정 (2, 2) -> 2, (3, 3) -> 3"
      ],
      "metadata": {
        "id": "Bv1fYS52g7gg"
      }
    },
    {
      "cell_type": "code",
      "source": [
        "keras.layers.MaxPooling2D(2, stride = 2, padding = 'valid')   # (2, 2) 크기   /  가로세로 지정은 튜플로 입력하면 됨"
      ],
      "metadata": {
        "id": "Q-pVhiuyhk-E"
      },
      "execution_count": null,
      "outputs": []
    }
  ]
}