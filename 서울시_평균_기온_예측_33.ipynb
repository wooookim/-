{
  "nbformat": 4,
  "nbformat_minor": 0,
  "metadata": {
    "colab": {
      "provenance": [],
      "authorship_tag": "ABX9TyN6N7KlJDf39vvX1tpRPtVv",
      "include_colab_link": true
    },
    "kernelspec": {
      "name": "python3",
      "display_name": "Python 3"
    },
    "language_info": {
      "name": "python"
    }
  },
  "cells": [
    {
      "cell_type": "markdown",
      "metadata": {
        "id": "view-in-github",
        "colab_type": "text"
      },
      "source": [
        "<a href=\"https://colab.research.google.com/github/wooookim/ML-DL/blob/main/%EC%84%9C%EC%9A%B8%EC%8B%9C_%ED%8F%89%EA%B7%A0_%EA%B8%B0%EC%98%A8_%EC%98%88%EC%B8%A1_33.ipynb\" target=\"_parent\"><img src=\"https://colab.research.google.com/assets/colab-badge.svg\" alt=\"Open In Colab\"/></a>"
      ]
    },
    {
      "cell_type": "code",
      "source": [
        "import pandas as pd\n",
        "import numpy as np\n",
        "\n",
        "data = pd.read_csv('/content/train.csv')\n",
        "submission = pd.read_csv('/content/sample_submission.csv')"
      ],
      "metadata": {
        "id": "PYDOBpiHBqav"
      },
      "execution_count": 1,
      "outputs": []
    },
    {
      "cell_type": "code",
      "source": [
        "from datetime import datetime\n",
        "\n",
        "# '일시' 열을 날짜 데이터로 변환\n",
        "data['일시'] = pd.to_datetime(data['일시'])\n",
        "\n",
        "current_year = datetime.now().year\n",
        "\n",
        "# 2월 29일에 해당하는 행 선택\n",
        "selected_rows = data[(data['일시'].dt.month == 2) & (data['일시'].dt.day == 29)]\n",
        "\n",
        "# 선택한 행의 인덱스를 사용하여 삭제\n",
        "data = data.drop(selected_rows.index)"
      ],
      "metadata": {
        "id": "ISEw7ADXiIrP"
      },
      "execution_count": 9,
      "outputs": []
    },
    {
      "cell_type": "code",
      "source": [
        "# 계절 분류 함수 정의\n",
        "def classify_season(month):\n",
        "    if  month == 1 or month == 2 or month == 12:\n",
        "        return '겨울'\n",
        "    elif 3 <= month <= 5:\n",
        "        return '봄'\n",
        "    elif 6 <= month <= 8:\n",
        "        return '여름'\n",
        "    else:\n",
        "        return '가을'\n",
        "\n",
        "# '일시' 컬럼에서 월 정보를 추출하여 '계절' 열 추가\n",
        "data['월'] = data['일시'].dt.month\n",
        "data['계절'] = data['월'].apply(classify_season)\n",
        "\n",
        "# 계절별 중앙값 계산\n",
        "seasonal_medians = data.groupby('계절').transform('median')\n",
        "\n",
        "# 결측값 대체\n",
        "data.fillna(seasonal_medians, inplace=True)\n",
        "\n",
        "# print(seasonal_medians)"
      ],
      "metadata": {
        "colab": {
          "base_uri": "https://localhost:8080/"
        },
        "id": "9zABukOVBmes",
        "outputId": "9c02521b-17ba-49b4-f38a-c7fd9f8eca91"
      },
      "execution_count": 10,
      "outputs": [
        {
          "output_type": "stream",
          "name": "stderr",
          "text": [
            "<ipython-input-10-d4b59aa18d4d>:17: FutureWarning: The default value of numeric_only in DataFrameGroupBy.median is deprecated. In a future version, numeric_only will default to False. Either specify numeric_only or select only columns which should be valid for the function.\n",
            "  seasonal_medians = data.groupby('계절').transform('median')\n"
          ]
        }
      ]
    },
    {
      "cell_type": "code",
      "source": [
        "train = data[['최고기온', '최저기온', '일교차', '강수량', '평균습도', '평균풍속', '일조합', '일사합', '일조율']]\n",
        "# 일시를 제외해보기로 함\n",
        "target = data['평균기온']"
      ],
      "metadata": {
        "id": "P-hDkcVMB54a"
      },
      "execution_count": 11,
      "outputs": []
    },
    {
      "cell_type": "code",
      "execution_count": 12,
      "metadata": {
        "id": "zdSR5rnsA36Y"
      },
      "outputs": [],
      "source": [
        "from sklearn.preprocessing import PolynomialFeatures\n",
        "poly = PolynomialFeatures()\n",
        "poly.fit(train)\n",
        "train_poly = poly.transform(train)\n",
        "\n",
        "from sklearn.linear_model import LinearRegression\n",
        "lr = LinearRegression()\n",
        "lr.fit(train_poly, target)\n",
        "\n",
        "# print(lr.score(train_poly, target))\n",
        "\n",
        "from sklearn.metrics import mean_absolute_error\n",
        "lr_pred = lr.predict(train_poly)\n",
        "\n",
        "lr_mae = mean_absolute_error(target, lr_pred)"
      ]
    },
    {
      "cell_type": "code",
      "source": [
        "len(lr_pred)"
      ],
      "metadata": {
        "colab": {
          "base_uri": "https://localhost:8080/"
        },
        "id": "M8uGTrIah_rx",
        "outputId": "07a3f9f9-4df6-4748-98f5-5eb1e8f170d3"
      },
      "execution_count": 13,
      "outputs": [
        {
          "output_type": "execute_result",
          "data": {
            "text/plain": [
              "22995"
            ]
          },
          "metadata": {},
          "execution_count": 13
        }
      ]
    },
    {
      "cell_type": "code",
      "source": [
        "# 주어진 배열\n",
        "input_array = np.array(lr_pred)  # 22995개의 행\n",
        "\n",
        "# 365행을 갖는 62개의 열로 변환\n",
        "output_array = input_array.reshape((63, 365))\n",
        "\n",
        "\n",
        "# 각 열별로 중앙값 계산하여 365개의 행으로 만들기\n",
        "medians = np.median(output_array, axis=0)\n",
        "result_array = medians.reshape((365, 1))\n",
        "\n",
        "\n",
        "submission['평균기온'] = result_array[:358]\n",
        "print(submission.head(30))"
      ],
      "metadata": {
        "colab": {
          "base_uri": "https://localhost:8080/"
        },
        "id": "3TV-spvKh2VS",
        "outputId": "7427cea2-b4eb-4785-fd80-c3bd3ad9b39f"
      },
      "execution_count": 14,
      "outputs": [
        {
          "output_type": "stream",
          "name": "stdout",
          "text": [
            "            일시      평균기온\n",
            "0   2023-01-01 -2.696393\n",
            "1   2023-01-02 -1.657946\n",
            "2   2023-01-03 -2.641253\n",
            "3   2023-01-04 -3.213359\n",
            "4   2023-01-05 -2.363843\n",
            "5   2023-01-06 -2.018328\n",
            "6   2023-01-07 -1.795802\n",
            "7   2023-01-08 -2.532088\n",
            "8   2023-01-09 -2.287620\n",
            "9   2023-01-10 -1.565188\n",
            "10  2023-01-11 -3.017676\n",
            "11  2023-01-12 -2.956052\n",
            "12  2023-01-13 -3.076480\n",
            "13  2023-01-14 -3.390019\n",
            "14  2023-01-15 -2.825668\n",
            "15  2023-01-16 -2.788391\n",
            "16  2023-01-17 -2.143644\n",
            "17  2023-01-18 -2.952857\n",
            "18  2023-01-19 -3.059613\n",
            "19  2023-01-20 -2.339026\n",
            "20  2023-01-21 -2.811074\n",
            "21  2023-01-22 -2.397226\n",
            "22  2023-01-23 -2.816248\n",
            "23  2023-01-24 -2.700468\n",
            "24  2023-01-25 -2.153491\n",
            "25  2023-01-26 -2.549729\n",
            "26  2023-01-27 -1.796992\n",
            "27  2023-01-28 -2.053089\n",
            "28  2023-01-29 -2.316952\n",
            "29  2023-01-30 -3.113136\n"
          ]
        }
      ]
    },
    {
      "cell_type": "code",
      "source": [
        "submission.to_csv(\"DEAGYUL_27_submission.csv\", index=False)\n",
        "\n",
        "print(submission.head())"
      ],
      "metadata": {
        "colab": {
          "base_uri": "https://localhost:8080/"
        },
        "id": "_oZBTAmPiZYp",
        "outputId": "b7072135-adf9-4a58-c376-8246f51e60f1"
      },
      "execution_count": 15,
      "outputs": [
        {
          "output_type": "stream",
          "name": "stdout",
          "text": [
            "           일시      평균기온\n",
            "0  2023-01-01 -2.696393\n",
            "1  2023-01-02 -1.657946\n",
            "2  2023-01-03 -2.641253\n",
            "3  2023-01-04 -3.213359\n",
            "4  2023-01-05 -2.363843\n"
          ]
        }
      ]
    }
  ]
}